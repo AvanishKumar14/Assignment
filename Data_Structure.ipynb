{
 "cells": [
  {
   "cell_type": "raw",
   "id": "57c1e9b8-a311-4074-a5e0-3661f253f278",
   "metadata": {},
   "source": [
    "1.\tWrite a code to reverse a string"
   ]
  },
  {
   "cell_type": "code",
   "execution_count": 4,
   "id": "274b31e5-583f-4b7c-a275-09b1031bacfc",
   "metadata": {},
   "outputs": [
    {
     "name": "stdout",
     "output_type": "stream",
     "text": [
      "olleh\n",
      "olleh\n",
      "olleh\n",
      "olleh\n",
      "olleh\n",
      "ollhe\n"
     ]
    }
   ],
   "source": [
    "from functools import reduce\n",
    "s= \"hello\"\n",
    "reverse_string = lambda s: s[::-1]\n",
    "print(reverse_string(s))\n",
    "z=s[::-1]\n",
    "print(z)\n",
    "#sleice(start,stop, step)\n",
    "k =s[slice(None,None,-1)]\n",
    "print(k)\n",
    "#reversed is an iterator function\n",
    "p = \"\".join(reversed(s))\n",
    "print(p)\n",
    "\n",
    "a = reduce(lambda x,y: y + x,s)\n",
    "print(a)\n",
    "#sorted()\n",
    "b = \"\".join(sorted(s, reverse = True))\n",
    "print(b)\n",
    "#string = \"hello\"\n",
    "#reversed_string_result = reverse_string(string)\n",
    "#print(reversed_string_result)"
   ]
  },
  {
   "cell_type": "raw",
   "id": "aa703cd3-ebcc-41f1-923d-b59a22f3141d",
   "metadata": {},
   "source": [
    "2.\tWrite a code to count the number of vowels in a string"
   ]
  },
  {
   "cell_type": "code",
   "execution_count": 5,
   "id": "dfda430f-fda0-4354-bcf7-fffe84db00f4",
   "metadata": {},
   "outputs": [
    {
     "name": "stdout",
     "output_type": "stream",
     "text": [
      "The number of vowels in the string is: 3\n"
     ]
    }
   ],
   "source": [
    "def count_vowels(input_string):\n",
    "    vowels = \"aeiouAEIOU\"\n",
    "    vowel_count = 0\n",
    "    for char in input_string:\n",
    "        if char in vowels:\n",
    "            vowel_count += 1\n",
    "    return vowel_count\n",
    "\n",
    "string = \"Hello, World!\"\n",
    "num_vowels = count_vowels(string)\n",
    "print(f\"The number of vowels in the string is: {num_vowels}\")"
   ]
  },
  {
   "cell_type": "raw",
   "id": "3ce95abc-7ff0-4d42-acd6-f97df7f8a14e",
   "metadata": {},
   "source": [
    "3.\tWrite a code to check if a given string is a palindrome or not"
   ]
  },
  {
   "cell_type": "code",
   "execution_count": 14,
   "id": "c596c43a-ab71-43f7-b9b6-e19f17a4f2a2",
   "metadata": {},
   "outputs": [
    {
     "name": "stdout",
     "output_type": "stream",
     "text": [
      "Yes\n",
      "Yes\n"
     ]
    }
   ],
   "source": [
    "#palindrome: First and last character are same\n",
    "s = \"malayalam\"  # string\n",
    "\n",
    "i,j = 0, len(s) - 1  # two pointers\n",
    "\n",
    "is_palindrome = True  # assume palindrome\n",
    "while i < j:\n",
    "    if s[i] != s[j]:  # mismatch found\n",
    "        is_palindrome = False\n",
    "        break\n",
    "    i += 1\n",
    "    j -= 1\n",
    "\n",
    "if is_palindrome:\n",
    "    print(\"Yes\") \n",
    "else:\n",
    "    print(\"No\")\n",
    "\n",
    "\n",
    "s = \"malayalam\" # string\n",
    "\n",
    "if s == s[::-1]:\n",
    "    print(\"Yes\")\n",
    "else:\n",
    "    print(\"No\")"
   ]
  },
  {
   "cell_type": "raw",
   "id": "d75f7d5b-6d52-4638-8209-6ae73207cfe3",
   "metadata": {},
   "source": [
    "4.\tWrite a code to check if two given strings are anagrams of each other"
   ]
  },
  {
   "cell_type": "code",
   "execution_count": null,
   "id": "238ea191-817a-4b11-8f60-595fa81abda8",
   "metadata": {},
   "outputs": [],
   "source": [
    "#anagram:two strings contain the same characters with the same frequency, but possibly in a different order.example, \"listen\" and \"silent\"\n",
    "from collections import Counter  # for character frequency counting\n",
    "\n",
    "s1 = \"listen\"\n",
    "s2 = \"silent\"\n",
    "\n",
    "if len(s1) != len(s2):  # check length\n",
    "    print(\"No\")\n",
    "else:\n",
    "    if Counter(s1) == Counter(s2):  # compare character counts\n",
    "        print(\"Yes\")\n",
    "    else:\n",
    "        print(\"No\")\n",
    "\n",
    "\n",
    "s1 = \"listen\"\n",
    "s2 = \"silent\"\n",
    "\n",
    "if sorted(s1) == sorted(s2):\n",
    "    print(\"Yes\")\n",
    "else:\n",
    "    print(\"No\")\n",
    "\n"
   ]
  },
  {
   "cell_type": "raw",
   "id": "19457cf5-881d-474a-8eba-6ddf88f0d948",
   "metadata": {},
   "source": [
    "5.\tWrite a code to find all occurrences of a given substring within another string"
   ]
  },
  {
   "cell_type": "code",
   "execution_count": 32,
   "id": "6cc9b500-c8d3-408a-b377-cf5aebe8abf7",
   "metadata": {},
   "outputs": [
    {
     "name": "stdout",
     "output_type": "stream",
     "text": [
      "Occurrences of 'test' in the text:\n",
      "- Found at index: 10\n",
      "- Found at index: 48\n",
      "[0, 13]\n",
      "[0, 13]\n"
     ]
    }
   ],
   "source": [
    "import re\n",
    "\n",
    "def find_all_substrings(string, substring):\n",
    "    \"\"\"\n",
    "    Finds all occurrences of a substring within a string and returns their starting indices.\n",
    "\n",
    "    Args:\n",
    "        string: The main string to search within.\n",
    "        substring: The substring to search for.\n",
    "\n",
    "    Returns:\n",
    "        A list of integers representing the starting indices of all occurrences of the substring.\n",
    "        Returns an empty list if the substring is not found.\n",
    "    \"\"\"\n",
    "    indices = [match.start() for match in re.finditer(re.escape(substring), string)]\n",
    "    return indices\n",
    "\n",
    "# Example usage\n",
    "text = \"This is a test string. This string contains the test substring twice.\"\n",
    "search_term = \"test\"\n",
    "results = find_all_substrings(text, search_term)\n",
    "\n",
    "print(f\"Occurrences of '{search_term}' in the text:\")\n",
    "if results:\n",
    "    for index in results:\n",
    "        print(f\"- Found at index: {index}\")\n",
    "else:\n",
    "    print(f\"'{search_term}' not found in the text.\")\n",
    "\n",
    "\n",
    "#re.finditer() method, which returns an iterator of match objects\n",
    "\n",
    "#re.escape function ensures that special characters in the substring are treated literally.\n",
    "\n",
    "s = \"hello world, hello universe\"\n",
    "substring = \"hello\"\n",
    "\n",
    "# Find all occurrences using list comprehension\n",
    "positions = [i for i in range(len(s)) if s.startswith(substring, i)]\n",
    "\n",
    "print(positions)\n",
    "\n",
    "s = \"hello world, hello universe\"\n",
    "substring = \"hello\"\n",
    "\n",
    "# Find all occurrences using str.find in a loop\n",
    "positions = []\n",
    "\n",
    "start = 0\n",
    "while True:\n",
    "    start = s.find(substring, start)\n",
    "    if start == -1:\n",
    "        break\n",
    "    positions.append(start)\n",
    "    start += len(substring)\n",
    "\n",
    "print(positions)"
   ]
  },
  {
   "cell_type": "code",
   "execution_count": 44,
   "id": "e4873586-267b-4f39-a3f8-c551723b2307",
   "metadata": {},
   "outputs": [
    {
     "name": "stdout",
     "output_type": "stream",
     "text": [
      "2\n"
     ]
    }
   ],
   "source": [
    "text = \"This is a test string. This string contains the test substring twice.\"\n",
    "l = text.split()\n",
    "count = 0\n",
    "for i in l:\n",
    "    if i == \"test\":\n",
    "        count += 1\n",
    "    #print(i)\n",
    "    #print(str(i))\n",
    "\n",
    "print(count)"
   ]
  },
  {
   "cell_type": "code",
   "execution_count": 49,
   "id": "89e7ba21-62e0-4e71-ae2d-34f80b68abc8",
   "metadata": {},
   "outputs": [
    {
     "name": "stdout",
     "output_type": "stream",
     "text": [
      "range(0, 12)\n",
      "2\n"
     ]
    }
   ],
   "source": [
    "text = \"This is a test string. This string contains the test substring twice.\"\n",
    "l = text.split()\n",
    "count = 0\n",
    "i =0\n",
    "for i in range(len(l)):\n",
    "    if l[i] == \"test\":\n",
    "        count += 1\n",
    "    #print(i)\n",
    "    #print(str(i))\n",
    "print(range(len(l)))\n",
    "print(count)"
   ]
  },
  {
   "cell_type": "raw",
   "id": "54849faa-62ba-4b9d-ae9e-df8e5e3a8bd7",
   "metadata": {},
   "source": [
    "6.\tWrite a code to perform basic string compression using the counts of repeated characters"
   ]
  },
  {
   "cell_type": "code",
   "execution_count": 94,
   "id": "2a4fdae4-6c1b-4d58-9a1e-a48114ed2a77",
   "metadata": {},
   "outputs": [
    {
     "name": "stdout",
     "output_type": "stream",
     "text": [
      "a\n",
      "ab\n",
      "ab3a\n",
      "ab3a6c\n",
      "ab3a6c2d\n",
      "ab3a6c2da\n",
      "ab3a6c2da3b\n"
     ]
    }
   ],
   "source": [
    "def solve(s):\n",
    "    res = \"\"\n",
    "    cnt = 1\n",
    "    for i in range(1, len(s)):\n",
    "        if s[i - 1] == s[i]:\n",
    "            cnt += 1\n",
    "        else:\n",
    "            res = res + s[i - 1]\n",
    "            print(res)\n",
    "            if cnt > 1:\n",
    "                res += str(cnt)\n",
    "                cnt = 1\n",
    "    res = res + s[-1]\n",
    "    if cnt > 1:\n",
    "        res += str(cnt)\n",
    "    return res\n",
    "\n",
    "s = \"abbbaaaaaaccdaaab\"\n",
    "print(solve(s))"
   ]
  },
  {
   "cell_type": "code",
   "execution_count": 90,
   "id": "dbed1b37-c20f-4fcd-8e71-48ab15c41300",
   "metadata": {},
   "outputs": [
    {
     "name": "stdout",
     "output_type": "stream",
     "text": [
      "['a', 'b', 'b', 'b', 'a', 'a', 'a', 'a', 'a', 'a', 'c', 'c', 'd', 'a', 'a', 'a', 'b']\n",
      "a\n",
      "a 0\n",
      "b\n",
      "b 0\n",
      "b 1\n",
      "b 1\n",
      "a\n",
      "a 0\n",
      "a 1\n",
      "a 1\n",
      "a 1\n",
      "a 1\n",
      "a 1\n",
      "c\n",
      "c 0\n",
      "c 1\n",
      "d\n",
      "d 0\n",
      "a\n",
      "a 0\n",
      "a 1\n",
      "a 1\n",
      "b\n",
      "b 0\n"
     ]
    }
   ],
   "source": [
    "s = \"abbbaaaaaaccdaaab\"\n",
    "k = list(s)\n",
    "print(k)\n",
    "a = \"\"\n",
    "for i in range(len(k)):\n",
    "    count = 0\n",
    "    if k[i-1] == k[i]:\n",
    "        count += 1\n",
    "        #a = a.append(k[i])\n",
    "    else:\n",
    "        a = a.join(k[i])\n",
    "        print(k[i])\n",
    "    print(k[i],count)\n",
    "\n"
   ]
  },
  {
   "cell_type": "raw",
   "id": "3624b354-1087-427f-ad61-554527d9dacb",
   "metadata": {},
   "source": [
    "7.\tWrite a code to determine if a string has all unique characters"
   ]
  },
  {
   "cell_type": "code",
   "execution_count": null,
   "id": "4002907c-d39b-4c70-9b91-d7bf76632313",
   "metadata": {},
   "outputs": [],
   "source": []
  },
  {
   "cell_type": "raw",
   "id": "4f4bc8d3-fa9f-4c26-9081-02afd05afb82",
   "metadata": {},
   "source": [
    "8.\tWrite a code to convert a given string to uppercase or lowercase"
   ]
  },
  {
   "cell_type": "code",
   "execution_count": null,
   "id": "c1ebf58f-e0ea-49a9-b6a3-5e404dcb0d5e",
   "metadata": {},
   "outputs": [],
   "source": []
  },
  {
   "cell_type": "raw",
   "id": "e5eec79e-ccc1-4669-b830-f624b02a24a2",
   "metadata": {},
   "source": [
    "9.\tWrite a code to count the number of words in a string"
   ]
  },
  {
   "cell_type": "code",
   "execution_count": null,
   "id": "0317b5e3-e481-4690-aee6-1117e900936c",
   "metadata": {},
   "outputs": [],
   "source": []
  },
  {
   "cell_type": "raw",
   "id": "047b6d4d-4365-4334-ba19-32d856b53382",
   "metadata": {},
   "source": [
    "10.\tWrite a code to concatenate two strings without using the + operator"
   ]
  },
  {
   "cell_type": "code",
   "execution_count": null,
   "id": "8135e4eb-b7a8-4b8a-ba6c-23c973e545fd",
   "metadata": {},
   "outputs": [],
   "source": []
  },
  {
   "cell_type": "raw",
   "id": "c14e687a-2e5a-4223-b607-8fe0295224c7",
   "metadata": {},
   "source": [
    "11.\tWrite a code to remove all occurrences of a specific element from a list"
   ]
  },
  {
   "cell_type": "code",
   "execution_count": null,
   "id": "dfbd0c5c-d040-4b39-81a2-0588bad8f5c1",
   "metadata": {},
   "outputs": [],
   "source": []
  },
  {
   "cell_type": "raw",
   "id": "bf93d2f6-3137-42f5-aa39-0e6600d49267",
   "metadata": {},
   "source": [
    "12.\tImplement a code to find the second largest number in a given list of integers"
   ]
  },
  {
   "cell_type": "code",
   "execution_count": null,
   "id": "c685a058-4fcc-4240-a339-89d73688d43d",
   "metadata": {},
   "outputs": [],
   "source": []
  },
  {
   "cell_type": "raw",
   "id": "af4e101b-6cbf-4ff4-bbef-da4aef546aa5",
   "metadata": {},
   "source": [
    "13.\tCreate a code to count the occurrences of each element in a list and return a dictionary with elements as keys and their counts as values"
   ]
  },
  {
   "cell_type": "code",
   "execution_count": null,
   "id": "1ef67364-dd2f-4370-b7d5-2b0574adf894",
   "metadata": {},
   "outputs": [],
   "source": []
  },
  {
   "cell_type": "raw",
   "id": "a28800b8-b206-40f7-83c7-70d2e9227e52",
   "metadata": {},
   "source": [
    "14.\tWrite a code to reverse a list in-place without using any built-in reverse functions"
   ]
  },
  {
   "cell_type": "code",
   "execution_count": null,
   "id": "6ac632df-56e9-46e8-bcba-eff40fb063bb",
   "metadata": {},
   "outputs": [],
   "source": []
  },
  {
   "cell_type": "raw",
   "id": "04cc6447-f486-43c1-a4b6-8a880f8d0d6d",
   "metadata": {},
   "source": [
    "15.\tImplement a code to find and remove duplicates from a list while preserving the original order of elements"
   ]
  },
  {
   "cell_type": "code",
   "execution_count": null,
   "id": "4eb9a044-1670-46d9-9f07-6f732dffe64e",
   "metadata": {},
   "outputs": [],
   "source": []
  },
  {
   "cell_type": "raw",
   "id": "6a779765-093c-410b-8f5a-98d5c29e101c",
   "metadata": {},
   "source": [
    "16.\tCreate a code to check if a given list is sorted (either in ascending or descending order) or no"
   ]
  },
  {
   "cell_type": "code",
   "execution_count": null,
   "id": "d80ec100-920d-423d-8278-572833bfd704",
   "metadata": {},
   "outputs": [],
   "source": []
  },
  {
   "cell_type": "raw",
   "id": "30ae7c03-ec46-48fe-a7fc-ab37374ed453",
   "metadata": {},
   "source": [
    "17.\tWrite a code to merge two sorted lists into a single sorted list"
   ]
  },
  {
   "cell_type": "code",
   "execution_count": null,
   "id": "920a0d6c-fd95-4db5-a12c-528e31d2a0f9",
   "metadata": {},
   "outputs": [],
   "source": []
  },
  {
   "cell_type": "raw",
   "id": "1b8a7d60-f6d9-4fbe-beb2-9d864e0fecca",
   "metadata": {},
   "source": [
    "18.\tImplement a code to find the intersection of two given lists"
   ]
  },
  {
   "cell_type": "code",
   "execution_count": null,
   "id": "11d0f8aa-6d29-4d2e-ab01-7951ac70b9e9",
   "metadata": {},
   "outputs": [],
   "source": []
  },
  {
   "cell_type": "raw",
   "id": "d60a2947-b7f6-4ca9-8b4c-24e28d8f3494",
   "metadata": {},
   "source": [
    "19.\tCreate a code to find the union of two lists without duplicates"
   ]
  },
  {
   "cell_type": "code",
   "execution_count": null,
   "id": "bf11476f-6557-4c40-a8e7-ad6ae13a81d7",
   "metadata": {},
   "outputs": [],
   "source": []
  },
  {
   "cell_type": "raw",
   "id": "3d982ece-1dd3-4450-9c94-2a705d4f4ba5",
   "metadata": {},
   "source": [
    "20.\tWrite a code to shuffle a given list randomly without using any built-in shuffle functions"
   ]
  },
  {
   "cell_type": "code",
   "execution_count": null,
   "id": "dd2ee6da-5717-4179-b2c4-a6c97197b82b",
   "metadata": {},
   "outputs": [],
   "source": []
  },
  {
   "cell_type": "raw",
   "id": "c5d80680-92a8-43ae-b32f-3c4d466fa444",
   "metadata": {},
   "source": [
    "21.\tWrite a code that takes two tuples as input and returns a new tuple containing elements that are common to both input tuples"
   ]
  },
  {
   "cell_type": "code",
   "execution_count": null,
   "id": "df933a94-cb9e-45f3-82fd-76ed9cb6d391",
   "metadata": {},
   "outputs": [],
   "source": []
  },
  {
   "cell_type": "raw",
   "id": "92d9e01c-1b0f-45ff-bb6b-186db720ad68",
   "metadata": {},
   "source": [
    "22.\tCreate a code that prompts the user to enter two sets of integers separated by commas. Then, print the intersection of these two sets"
   ]
  },
  {
   "cell_type": "code",
   "execution_count": null,
   "id": "f66b696f-3d7e-476c-8e38-0c24f558f077",
   "metadata": {},
   "outputs": [],
   "source": []
  },
  {
   "cell_type": "raw",
   "id": "5bb73165-e6cc-4a72-aa6d-a5ec67751e59",
   "metadata": {},
   "source": [
    "23.\tWrite a code to concatenate two tuples. The function should take two tuples as input and return a new tuple containing elements from both input tuples. "
   ]
  },
  {
   "cell_type": "code",
   "execution_count": null,
   "id": "15ce8d29-9815-43f8-8568-0fabcf3dec93",
   "metadata": {},
   "outputs": [],
   "source": []
  },
  {
   "cell_type": "raw",
   "id": "013b3259-ba0d-4d76-9ea0-e8895caf337c",
   "metadata": {},
   "source": [
    "24.\tDevelop a code that prompts the user to input two sets of strings. Then, print the elements that are present in the first set but not in the second set"
   ]
  },
  {
   "cell_type": "code",
   "execution_count": null,
   "id": "8b0c615f-a1b7-40da-9561-9343d7c08a38",
   "metadata": {},
   "outputs": [],
   "source": []
  },
  {
   "cell_type": "raw",
   "id": "d3f8867b-8ca4-4d41-86dd-bb177dc2f9d9",
   "metadata": {},
   "source": [
    "25.\tCreate a code that takes a tuple and two integers as input. The function should return a new tuple containing elements from the original tuple within the specified range of indices"
   ]
  },
  {
   "cell_type": "code",
   "execution_count": null,
   "id": "b6fc6179-5e49-4dcf-b458-fbf99a34d7ba",
   "metadata": {},
   "outputs": [],
   "source": []
  },
  {
   "cell_type": "raw",
   "id": "aa826107-c14e-442e-a476-58b3e03e8613",
   "metadata": {},
   "source": [
    "26.\tWrite a code that prompts the user to input two sets of characters. Then, print the union of these two sets"
   ]
  },
  {
   "cell_type": "code",
   "execution_count": null,
   "id": "3dbdc6df-7e23-4834-b01a-82e8181fb499",
   "metadata": {},
   "outputs": [],
   "source": []
  },
  {
   "cell_type": "raw",
   "id": "3c40af27-67f5-4167-ae4f-edd4ba37033b",
   "metadata": {},
   "source": [
    "27.\tDevelop a code that takes a tuple of integers as input. The function should return the maximum and minimum values from the tuple using tuple unpacking\n"
   ]
  },
  {
   "cell_type": "code",
   "execution_count": null,
   "id": "dc2ed7ee-807b-47d5-b813-3de6e3e17852",
   "metadata": {},
   "outputs": [],
   "source": []
  },
  {
   "cell_type": "raw",
   "id": "cc0971f3-f30f-406e-9533-ef71c5aa6b9e",
   "metadata": {},
   "source": [
    "28.\tCreate a code that defines two sets of integers. Then, print the union, intersection, and difference of these two sets\n"
   ]
  },
  {
   "cell_type": "code",
   "execution_count": null,
   "id": "66948604-d8c1-4eda-ab8b-6ac02a94fa52",
   "metadata": {},
   "outputs": [],
   "source": []
  },
  {
   "cell_type": "raw",
   "id": "c39e1982-cc41-46a3-a6f7-3ceb060c3c57",
   "metadata": {},
   "source": [
    "29.\tWrite a code that takes a tuple and an element as input. The function should return the count of occurrences of the given element in the tuple"
   ]
  },
  {
   "cell_type": "code",
   "execution_count": null,
   "id": "e108cfb5-0b21-45c0-a301-c3ea57a83fee",
   "metadata": {},
   "outputs": [],
   "source": []
  },
  {
   "cell_type": "raw",
   "id": "0655859e-58b0-42cf-a8d8-87016365be10",
   "metadata": {},
   "source": [
    "30.\tDevelop a code that prompts the user to input two sets of strings. Then, print the symmetric difference of these two sets"
   ]
  },
  {
   "cell_type": "code",
   "execution_count": null,
   "id": "8009ef4b-545c-4634-8a23-dc92cdeacb3c",
   "metadata": {},
   "outputs": [],
   "source": []
  },
  {
   "cell_type": "raw",
   "id": "5f601d8a-1caa-450b-8f20-3825cad2b611",
   "metadata": {},
   "source": [
    "31.\tWrite a code that takes a list of words as input and returns a dictionary where the keys are unique words and the values are the frequencies of those words in the input list"
   ]
  },
  {
   "cell_type": "code",
   "execution_count": null,
   "id": "831186c3-634c-4d6e-8332-998aeac844d4",
   "metadata": {},
   "outputs": [],
   "source": []
  },
  {
   "cell_type": "raw",
   "id": "dd8d32ca-a09c-48a5-bf6c-20aa25384a2b",
   "metadata": {},
   "source": [
    "32.\tWrite a code that takes two dictionaries as input and merges them into a single dictionary. If there are common keys, the values should be added together"
   ]
  },
  {
   "cell_type": "code",
   "execution_count": null,
   "id": "307f0693-f794-40d8-a476-f9d0397fb777",
   "metadata": {},
   "outputs": [],
   "source": []
  },
  {
   "cell_type": "raw",
   "id": "abf5146d-c265-4ce2-9c77-9209175f11d7",
   "metadata": {},
   "source": [
    "33.\tWrite a code to access a value in a nested dictionary. The function should take the dictionary and a list of keys as input, and return the corresponding value. If any of the keys do not exist in the dictionary, the function should return None"
   ]
  },
  {
   "cell_type": "code",
   "execution_count": null,
   "id": "0ce3b60d-6a21-42be-84d8-93cacc309829",
   "metadata": {},
   "outputs": [],
   "source": []
  }
 ],
 "metadata": {
  "kernelspec": {
   "display_name": "Python 3 (ipykernel)",
   "language": "python",
   "name": "python3"
  },
  "language_info": {
   "codemirror_mode": {
    "name": "ipython",
    "version": 3
   },
   "file_extension": ".py",
   "mimetype": "text/x-python",
   "name": "python",
   "nbconvert_exporter": "python",
   "pygments_lexer": "ipython3",
   "version": "3.11.7"
  }
 },
 "nbformat": 4,
 "nbformat_minor": 5
}
