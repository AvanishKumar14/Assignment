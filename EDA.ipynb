{
 "cells": [
  {
   "cell_type": "code",
   "execution_count": 8,
   "id": "adcf27ea-3a4f-494c-965d-57e32b710222",
   "metadata": {},
   "outputs": [],
   "source": [
    "import numpy as np\n",
    "import pandas as pd\n",
    "import matplotlib.pyplot as plt\n",
    "import seaborn as sns0\n",
    "import statistics as st\n",
    "import math\n",
    "import scipy.stats as stats\n",
    "\n",
    "import warnings\n",
    "warnings.filterwarnings('ignore')\n"
   ]
  },
  {
   "cell_type": "code",
   "execution_count": 130,
   "id": "a0a4972e-d071-4021-98b5-dc248f99b840",
   "metadata": {},
   "outputs": [],
   "source": [
    "amazon = pd.read_csv(r\"C:\\Users\\User\\Desktop\\PW_Python\\Assignment\\EDA_DATA\\amazon.csv\")\n",
    "amazon[\"discounted_price\"] = pd.DataFrame(amazon[\"discounted_price\"].str.replace(\"₹\",\"\"))\n",
    "amazon[\"discounted_price\"] = pd.DataFrame(amazon[\"discounted_price\"].str.replace(\",\",\"\"))\n",
    "amazon[\"discounted_price\"] = pd.to_numeric(amazon[\"discounted_price\"])\n",
    "amazon[\"discount_percentage\"] = pd.DataFrame(amazon[\"discount_percentage\"].str.replace(\"%\",\"\").astype(float))\n",
    "amazon[\"actual_price\"] = pd.DataFrame(amazon[\"actual_price\"].str.replace(\"₹\",\"\"))\n",
    "amazon[\"actual_price\"] = pd.DataFrame(amazon[\"actual_price\"].str.replace(\",\",\"\"))\n",
    "amazon[\"actual_price\"] = pd.to_numeric(amazon[\"actual_price\"])\n",
    "bike = pd.read_csv(r\"C:\\Users\\User\\Desktop\\PW_Python\\Assignment\\EDA_DATA\\BIKE DETAILS.csv\")\n",
    "car = pd.read_csv(r\"C:\\Users\\User\\Desktop\\PW_Python\\Assignment\\EDA_DATA\\Car Sale.csv\")\n",
    "spotify = pd.read_csv(r\"C:\\Users\\User\\Desktop\\PW_Python\\Assignment\\EDA_DATA\\spotify.csv\")"
   ]
  },
  {
   "cell_type": "code",
   "execution_count": 117,
   "id": "ad630df9-1d34-4f70-8d94-7be11f499d70",
   "metadata": {},
   "outputs": [
    {
     "name": "stdout",
     "output_type": "stream",
     "text": [
      "Help on function convert_dtypes in module pandas.core.generic:\n",
      "\n",
      "convert_dtypes(self, infer_objects: 'bool_t' = True, convert_string: 'bool_t' = True, convert_integer: 'bool_t' = True, convert_boolean: 'bool_t' = True, convert_floating: 'bool_t' = True, dtype_backend: 'DtypeBackend' = 'numpy_nullable') -> 'Self'\n",
      "    Convert columns to the best possible dtypes using dtypes supporting ``pd.NA``.\n",
      "    \n",
      "    Parameters\n",
      "    ----------\n",
      "    infer_objects : bool, default True\n",
      "        Whether object dtypes should be converted to the best possible types.\n",
      "    convert_string : bool, default True\n",
      "        Whether object dtypes should be converted to ``StringDtype()``.\n",
      "    convert_integer : bool, default True\n",
      "        Whether, if possible, conversion can be done to integer extension types.\n",
      "    convert_boolean : bool, defaults True\n",
      "        Whether object dtypes should be converted to ``BooleanDtypes()``.\n",
      "    convert_floating : bool, defaults True\n",
      "        Whether, if possible, conversion can be done to floating extension types.\n",
      "        If `convert_integer` is also True, preference will be give to integer\n",
      "        dtypes if the floats can be faithfully casted to integers.\n",
      "    \n",
      "        .. versionadded:: 1.2.0\n",
      "    dtype_backend : {'numpy_nullable', 'pyarrow'}, default 'numpy_nullable'\n",
      "        Back-end data type applied to the resultant :class:`DataFrame`\n",
      "        (still experimental). Behaviour is as follows:\n",
      "    \n",
      "        * ``\"numpy_nullable\"``: returns nullable-dtype-backed :class:`DataFrame`\n",
      "          (default).\n",
      "        * ``\"pyarrow\"``: returns pyarrow-backed nullable :class:`ArrowDtype`\n",
      "          DataFrame.\n",
      "    \n",
      "        .. versionadded:: 2.0\n",
      "    \n",
      "    Returns\n",
      "    -------\n",
      "    Series or DataFrame\n",
      "        Copy of input object with new dtype.\n",
      "    \n",
      "    See Also\n",
      "    --------\n",
      "    infer_objects : Infer dtypes of objects.\n",
      "    to_datetime : Convert argument to datetime.\n",
      "    to_timedelta : Convert argument to timedelta.\n",
      "    to_numeric : Convert argument to a numeric type.\n",
      "    \n",
      "    Notes\n",
      "    -----\n",
      "    By default, ``convert_dtypes`` will attempt to convert a Series (or each\n",
      "    Series in a DataFrame) to dtypes that support ``pd.NA``. By using the options\n",
      "    ``convert_string``, ``convert_integer``, ``convert_boolean`` and\n",
      "    ``convert_floating``, it is possible to turn off individual conversions\n",
      "    to ``StringDtype``, the integer extension types, ``BooleanDtype``\n",
      "    or floating extension types, respectively.\n",
      "    \n",
      "    For object-dtyped columns, if ``infer_objects`` is ``True``, use the inference\n",
      "    rules as during normal Series/DataFrame construction.  Then, if possible,\n",
      "    convert to ``StringDtype``, ``BooleanDtype`` or an appropriate integer\n",
      "    or floating extension type, otherwise leave as ``object``.\n",
      "    \n",
      "    If the dtype is integer, convert to an appropriate integer extension type.\n",
      "    \n",
      "    If the dtype is numeric, and consists of all integers, convert to an\n",
      "    appropriate integer extension type. Otherwise, convert to an\n",
      "    appropriate floating extension type.\n",
      "    \n",
      "    .. versionchanged:: 1.2\n",
      "        Starting with pandas 1.2, this method also converts float columns\n",
      "        to the nullable floating extension type.\n",
      "    \n",
      "    In the future, as new dtypes are added that support ``pd.NA``, the results\n",
      "    of this method will change to support those new dtypes.\n",
      "    \n",
      "    Examples\n",
      "    --------\n",
      "    >>> df = pd.DataFrame(\n",
      "    ...     {\n",
      "    ...         \"a\": pd.Series([1, 2, 3], dtype=np.dtype(\"int32\")),\n",
      "    ...         \"b\": pd.Series([\"x\", \"y\", \"z\"], dtype=np.dtype(\"O\")),\n",
      "    ...         \"c\": pd.Series([True, False, np.nan], dtype=np.dtype(\"O\")),\n",
      "    ...         \"d\": pd.Series([\"h\", \"i\", np.nan], dtype=np.dtype(\"O\")),\n",
      "    ...         \"e\": pd.Series([10, np.nan, 20], dtype=np.dtype(\"float\")),\n",
      "    ...         \"f\": pd.Series([np.nan, 100.5, 200], dtype=np.dtype(\"float\")),\n",
      "    ...     }\n",
      "    ... )\n",
      "    \n",
      "    Start with a DataFrame with default dtypes.\n",
      "    \n",
      "    >>> df\n",
      "       a  b      c    d     e      f\n",
      "    0  1  x   True    h  10.0    NaN\n",
      "    1  2  y  False    i   NaN  100.5\n",
      "    2  3  z    NaN  NaN  20.0  200.0\n",
      "    \n",
      "    >>> df.dtypes\n",
      "    a      int32\n",
      "    b     object\n",
      "    c     object\n",
      "    d     object\n",
      "    e    float64\n",
      "    f    float64\n",
      "    dtype: object\n",
      "    \n",
      "    Convert the DataFrame to use best possible dtypes.\n",
      "    \n",
      "    >>> dfn = df.convert_dtypes()\n",
      "    >>> dfn\n",
      "       a  b      c     d     e      f\n",
      "    0  1  x   True     h    10   <NA>\n",
      "    1  2  y  False     i  <NA>  100.5\n",
      "    2  3  z   <NA>  <NA>    20  200.0\n",
      "    \n",
      "    >>> dfn.dtypes\n",
      "    a             Int32\n",
      "    b    string[python]\n",
      "    c           boolean\n",
      "    d    string[python]\n",
      "    e             Int64\n",
      "    f           Float64\n",
      "    dtype: object\n",
      "    \n",
      "    Start with a Series of strings and missing data represented by ``np.nan``.\n",
      "    \n",
      "    >>> s = pd.Series([\"a\", \"b\", np.nan])\n",
      "    >>> s\n",
      "    0      a\n",
      "    1      b\n",
      "    2    NaN\n",
      "    dtype: object\n",
      "    \n",
      "    Obtain a Series with dtype ``StringDtype``.\n",
      "    \n",
      "    >>> s.convert_dtypes()\n",
      "    0       a\n",
      "    1       b\n",
      "    2    <NA>\n",
      "    dtype: string\n",
      "\n"
     ]
    }
   ],
   "source": [
    "help(pd.DataFrame.c)"
   ]
  },
  {
   "cell_type": "code",
   "execution_count": 96,
   "id": "4bacee71-f852-4f30-a51b-fb7b317b9d59",
   "metadata": {},
   "outputs": [
    {
     "data": {
      "text/html": [
       "<div>\n",
       "<style scoped>\n",
       "    .dataframe tbody tr th:only-of-type {\n",
       "        vertical-align: middle;\n",
       "    }\n",
       "\n",
       "    .dataframe tbody tr th {\n",
       "        vertical-align: top;\n",
       "    }\n",
       "\n",
       "    .dataframe thead th {\n",
       "        text-align: right;\n",
       "    }\n",
       "</style>\n",
       "<table border=\"1\" class=\"dataframe\">\n",
       "  <thead>\n",
       "    <tr style=\"text-align: right;\">\n",
       "      <th></th>\n",
       "      <th>product_id</th>\n",
       "      <th>product_name</th>\n",
       "      <th>category</th>\n",
       "      <th>discounted_price</th>\n",
       "      <th>actual_price</th>\n",
       "      <th>discount_percentage</th>\n",
       "      <th>rating</th>\n",
       "      <th>rating_count</th>\n",
       "      <th>about_product</th>\n",
       "      <th>user_id</th>\n",
       "      <th>user_name</th>\n",
       "      <th>review_id</th>\n",
       "      <th>review_title</th>\n",
       "      <th>review_content</th>\n",
       "      <th>img_link</th>\n",
       "      <th>product_link</th>\n",
       "    </tr>\n",
       "  </thead>\n",
       "  <tbody>\n",
       "    <tr>\n",
       "      <th>0</th>\n",
       "      <td>B07JW9H4J1</td>\n",
       "      <td>Wayona Nylon Braided USB to Lightning Fast Cha...</td>\n",
       "      <td>Computers&amp;Accessories|Accessories&amp;Peripherals|...</td>\n",
       "      <td>399</td>\n",
       "      <td>1,099</td>\n",
       "      <td>64%</td>\n",
       "      <td>4.2</td>\n",
       "      <td>24,269</td>\n",
       "      <td>High Compatibility : Compatible With iPhone 12...</td>\n",
       "      <td>AG3D6O4STAQKAY2UVGEUV46KN35Q,AHMY5CWJMMK5BJRBB...</td>\n",
       "      <td>Manav,Adarsh gupta,Sundeep,S.Sayeed Ahmed,jasp...</td>\n",
       "      <td>R3HXWT0LRP0NMF,R2AJM3LFTLZHFO,R6AQJGUP6P86,R1K...</td>\n",
       "      <td>Satisfied,Charging is really fast,Value for mo...</td>\n",
       "      <td>Looks durable Charging is fine tooNo complains...</td>\n",
       "      <td>https://m.media-amazon.com/images/W/WEBP_40237...</td>\n",
       "      <td>https://www.amazon.in/Wayona-Braided-WN3LG1-Sy...</td>\n",
       "    </tr>\n",
       "    <tr>\n",
       "      <th>1</th>\n",
       "      <td>B098NS6PVG</td>\n",
       "      <td>Ambrane Unbreakable 60W / 3A Fast Charging 1.5...</td>\n",
       "      <td>Computers&amp;Accessories|Accessories&amp;Peripherals|...</td>\n",
       "      <td>199</td>\n",
       "      <td>349</td>\n",
       "      <td>43%</td>\n",
       "      <td>4.0</td>\n",
       "      <td>43,994</td>\n",
       "      <td>Compatible with all Type C enabled devices, be...</td>\n",
       "      <td>AECPFYFQVRUWC3KGNLJIOREFP5LQ,AGYYVPDD7YG7FYNBX...</td>\n",
       "      <td>ArdKn,Nirbhay kumar,Sagar Viswanathan,Asp,Plac...</td>\n",
       "      <td>RGIQEG07R9HS2,R1SMWZQ86XIN8U,R2J3Y1WL29GWDE,RY...</td>\n",
       "      <td>A Good Braided Cable for Your Type C Device,Go...</td>\n",
       "      <td>I ordered this cable to connect my phone to An...</td>\n",
       "      <td>https://m.media-amazon.com/images/W/WEBP_40237...</td>\n",
       "      <td>https://www.amazon.in/Ambrane-Unbreakable-Char...</td>\n",
       "    </tr>\n",
       "    <tr>\n",
       "      <th>2</th>\n",
       "      <td>B096MSW6CT</td>\n",
       "      <td>Sounce Fast Phone Charging Cable &amp; Data Sync U...</td>\n",
       "      <td>Computers&amp;Accessories|Accessories&amp;Peripherals|...</td>\n",
       "      <td>199</td>\n",
       "      <td>1,899</td>\n",
       "      <td>90%</td>\n",
       "      <td>3.9</td>\n",
       "      <td>7,928</td>\n",
       "      <td>【 Fast Charger&amp; Data Sync】-With built-in safet...</td>\n",
       "      <td>AGU3BBQ2V2DDAMOAKGFAWDDQ6QHA,AESFLDV2PT363T2AQ...</td>\n",
       "      <td>Kunal,Himanshu,viswanath,sai niharka,saqib mal...</td>\n",
       "      <td>R3J3EQQ9TZI5ZJ,R3E7WBGK7ID0KV,RWU79XKQ6I1QF,R2...</td>\n",
       "      <td>Good speed for earlier versions,Good Product,W...</td>\n",
       "      <td>Not quite durable and sturdy,https://m.media-a...</td>\n",
       "      <td>https://m.media-amazon.com/images/W/WEBP_40237...</td>\n",
       "      <td>https://www.amazon.in/Sounce-iPhone-Charging-C...</td>\n",
       "    </tr>\n",
       "    <tr>\n",
       "      <th>3</th>\n",
       "      <td>B08HDJ86NZ</td>\n",
       "      <td>boAt Deuce USB 300 2 in 1 Type-C &amp; Micro USB S...</td>\n",
       "      <td>Computers&amp;Accessories|Accessories&amp;Peripherals|...</td>\n",
       "      <td>329</td>\n",
       "      <td>699</td>\n",
       "      <td>53%</td>\n",
       "      <td>4.2</td>\n",
       "      <td>94,363</td>\n",
       "      <td>The boAt Deuce USB 300 2 in 1 cable is compati...</td>\n",
       "      <td>AEWAZDZZJLQUYVOVGBEUKSLXHQ5A,AG5HTSFRRE6NL3M5S...</td>\n",
       "      <td>Omkar dhale,JD,HEMALATHA,Ajwadh a.,amar singh ...</td>\n",
       "      <td>R3EEUZKKK9J36I,R3HJVYCLYOY554,REDECAZ7AMPQC,R1...</td>\n",
       "      <td>Good product,Good one,Nice,Really nice product...</td>\n",
       "      <td>Good product,long wire,Charges good,Nice,I bou...</td>\n",
       "      <td>https://m.media-amazon.com/images/I/41V5FtEWPk...</td>\n",
       "      <td>https://www.amazon.in/Deuce-300-Resistant-Tang...</td>\n",
       "    </tr>\n",
       "    <tr>\n",
       "      <th>4</th>\n",
       "      <td>B08CF3B7N1</td>\n",
       "      <td>Portronics Konnect L 1.2M Fast Charging 3A 8 P...</td>\n",
       "      <td>Computers&amp;Accessories|Accessories&amp;Peripherals|...</td>\n",
       "      <td>154</td>\n",
       "      <td>399</td>\n",
       "      <td>61%</td>\n",
       "      <td>4.2</td>\n",
       "      <td>16,905</td>\n",
       "      <td>[CHARGE &amp; SYNC FUNCTION]- This cable comes wit...</td>\n",
       "      <td>AE3Q6KSUK5P75D5HFYHCRAOLODSA,AFUGIFH5ZAFXRDSZH...</td>\n",
       "      <td>rahuls6099,Swasat Borah,Ajay Wadke,Pranali,RVK...</td>\n",
       "      <td>R1BP4L2HH9TFUP,R16PVJEXKV6QZS,R2UPDB81N66T4P,R...</td>\n",
       "      <td>As good as original,Decent,Good one for second...</td>\n",
       "      <td>Bought this instead of original apple, does th...</td>\n",
       "      <td>https://m.media-amazon.com/images/W/WEBP_40237...</td>\n",
       "      <td>https://www.amazon.in/Portronics-Konnect-POR-1...</td>\n",
       "    </tr>\n",
       "    <tr>\n",
       "      <th>5</th>\n",
       "      <td>B08Y1TFSP6</td>\n",
       "      <td>pTron Solero TB301 3A Type-C Data and Fast Cha...</td>\n",
       "      <td>Computers&amp;Accessories|Accessories&amp;Peripherals|...</td>\n",
       "      <td>149</td>\n",
       "      <td>1,000</td>\n",
       "      <td>85%</td>\n",
       "      <td>3.9</td>\n",
       "      <td>24,871</td>\n",
       "      <td>Fast Charging &amp; Data Sync: Solero TB301 Type-C...</td>\n",
       "      <td>AEQ2YMXSZWEOHK2EHTNLOS56YTZQ,AGRVINWECNY7323CW...</td>\n",
       "      <td>Jayesh,Rajesh k.,Soopy,amazon customer,Aman,Sh...</td>\n",
       "      <td>R7S8ANNSDPR40,R3CLZFLHVJU26P,RFF7U7MPQFUGR,R1M...</td>\n",
       "      <td>It's pretty good,Average quality,very good and...</td>\n",
       "      <td>It's a good product.,Like,Very good item stron...</td>\n",
       "      <td>https://m.media-amazon.com/images/I/31wOPjcSxl...</td>\n",
       "      <td>https://www.amazon.in/Solero-TB301-Charging-48...</td>\n",
       "    </tr>\n",
       "    <tr>\n",
       "      <th>6</th>\n",
       "      <td>B08WRWPM22</td>\n",
       "      <td>boAt Micro USB 55 Tangle-free, Sturdy Micro US...</td>\n",
       "      <td>Computers&amp;Accessories|Accessories&amp;Peripherals|...</td>\n",
       "      <td>176.63</td>\n",
       "      <td>499</td>\n",
       "      <td>65%</td>\n",
       "      <td>4.1</td>\n",
       "      <td>15,188</td>\n",
       "      <td>It Ensures High Speed Transmission And Chargin...</td>\n",
       "      <td>AG7C6DAADCTRQJG2BRS3RIKDT52Q,AFU7BOMPVJ7Q3TTA4...</td>\n",
       "      <td>Vivek kumar,Amazon Customer,SARTHAK,Chiranjeev...</td>\n",
       "      <td>R8E73K2KWJRDS,RSD0JTIIWQQL8,R64CRSTE9SLW1,R2FR...</td>\n",
       "      <td>Long durable.,good,Does not charge Lenovo m8 t...</td>\n",
       "      <td>Build quality is good and it is comes with 2 y...</td>\n",
       "      <td>https://m.media-amazon.com/images/W/WEBP_40237...</td>\n",
       "      <td>https://www.amazon.in/boAt-Micro-USB-Tangle-Fr...</td>\n",
       "    </tr>\n",
       "    <tr>\n",
       "      <th>7</th>\n",
       "      <td>B08DDRGWTJ</td>\n",
       "      <td>MI Usb Type-C Cable Smartphone (Black)</td>\n",
       "      <td>Computers&amp;Accessories|Accessories&amp;Peripherals|...</td>\n",
       "      <td>229</td>\n",
       "      <td>299</td>\n",
       "      <td>23%</td>\n",
       "      <td>4.3</td>\n",
       "      <td>30,411</td>\n",
       "      <td>1m long Type-C USB Cable|Sturdy and Durable. W...</td>\n",
       "      <td>AHW6E5LQ2BDYOIVLAJGDH45J5V5Q,AF74RSGCHPZITVFSZ...</td>\n",
       "      <td>Pavan A H,Jayesh bagad,Shridhar,rajendran,karu...</td>\n",
       "      <td>R2X090D1YHACKR,R32ZCIH9AFNJ60,R3N57EVVG0EHAF,R...</td>\n",
       "      <td>Worth for money - suitable for Android auto,Go...</td>\n",
       "      <td>Worth for money - suitable for Android auto......</td>\n",
       "      <td>https://m.media-amazon.com/images/I/31XO-wfGGG...</td>\n",
       "      <td>https://www.amazon.in/MI-MTCY001IN-USB-Type-C-...</td>\n",
       "    </tr>\n",
       "    <tr>\n",
       "      <th>8</th>\n",
       "      <td>B008IFXQFU</td>\n",
       "      <td>TP-Link USB WiFi Adapter for PC(TL-WN725N), N1...</td>\n",
       "      <td>Computers&amp;Accessories|NetworkingDevices|Networ...</td>\n",
       "      <td>499</td>\n",
       "      <td>999</td>\n",
       "      <td>50%</td>\n",
       "      <td>4.2</td>\n",
       "      <td>1,79,691</td>\n",
       "      <td>USB WiFi Adapter —— Speedy wireless transmissi...</td>\n",
       "      <td>AGV3IEFANZCKECFGUM42MRH5FNOA,AEBO7NWCNXKT4AESA...</td>\n",
       "      <td>Azhar JuMan,Anirudh Sood,Hari Krishnan PS,Akas...</td>\n",
       "      <td>R1LW6NWSVTVZ2H,R3VR5WFKUS15C5,R2F6GC79OYWUKQ,R...</td>\n",
       "      <td>Works on linux for me. Get the model with ante...</td>\n",
       "      <td>I use this to connect an old PC to internet. I...</td>\n",
       "      <td>https://m.media-amazon.com/images/W/WEBP_40237...</td>\n",
       "      <td>https://www.amazon.in/TP-Link-TL-WN725N-150Mbp...</td>\n",
       "    </tr>\n",
       "    <tr>\n",
       "      <th>9</th>\n",
       "      <td>B082LZGK39</td>\n",
       "      <td>Ambrane Unbreakable 60W / 3A Fast Charging 1.5...</td>\n",
       "      <td>Computers&amp;Accessories|Accessories&amp;Peripherals|...</td>\n",
       "      <td>199</td>\n",
       "      <td>299</td>\n",
       "      <td>33%</td>\n",
       "      <td>4.0</td>\n",
       "      <td>43,994</td>\n",
       "      <td>Universal Compatibility – It is compatible wit...</td>\n",
       "      <td>AECPFYFQVRUWC3KGNLJIOREFP5LQ,AGYYVPDD7YG7FYNBX...</td>\n",
       "      <td>ArdKn,Nirbhay kumar,Sagar Viswanathan,Asp,Plac...</td>\n",
       "      <td>RGIQEG07R9HS2,R1SMWZQ86XIN8U,R2J3Y1WL29GWDE,RY...</td>\n",
       "      <td>A Good Braided Cable for Your Type C Device,Go...</td>\n",
       "      <td>I ordered this cable to connect my phone to An...</td>\n",
       "      <td>https://m.media-amazon.com/images/W/WEBP_40237...</td>\n",
       "      <td>https://www.amazon.in/Ambrane-Unbreakable-Char...</td>\n",
       "    </tr>\n",
       "  </tbody>\n",
       "</table>\n",
       "</div>"
      ],
      "text/plain": [
       "   product_id                                       product_name  \\\n",
       "0  B07JW9H4J1  Wayona Nylon Braided USB to Lightning Fast Cha...   \n",
       "1  B098NS6PVG  Ambrane Unbreakable 60W / 3A Fast Charging 1.5...   \n",
       "2  B096MSW6CT  Sounce Fast Phone Charging Cable & Data Sync U...   \n",
       "3  B08HDJ86NZ  boAt Deuce USB 300 2 in 1 Type-C & Micro USB S...   \n",
       "4  B08CF3B7N1  Portronics Konnect L 1.2M Fast Charging 3A 8 P...   \n",
       "5  B08Y1TFSP6  pTron Solero TB301 3A Type-C Data and Fast Cha...   \n",
       "6  B08WRWPM22  boAt Micro USB 55 Tangle-free, Sturdy Micro US...   \n",
       "7  B08DDRGWTJ             MI Usb Type-C Cable Smartphone (Black)   \n",
       "8  B008IFXQFU  TP-Link USB WiFi Adapter for PC(TL-WN725N), N1...   \n",
       "9  B082LZGK39  Ambrane Unbreakable 60W / 3A Fast Charging 1.5...   \n",
       "\n",
       "                                            category discounted_price  \\\n",
       "0  Computers&Accessories|Accessories&Peripherals|...              399   \n",
       "1  Computers&Accessories|Accessories&Peripherals|...              199   \n",
       "2  Computers&Accessories|Accessories&Peripherals|...              199   \n",
       "3  Computers&Accessories|Accessories&Peripherals|...              329   \n",
       "4  Computers&Accessories|Accessories&Peripherals|...              154   \n",
       "5  Computers&Accessories|Accessories&Peripherals|...              149   \n",
       "6  Computers&Accessories|Accessories&Peripherals|...           176.63   \n",
       "7  Computers&Accessories|Accessories&Peripherals|...              229   \n",
       "8  Computers&Accessories|NetworkingDevices|Networ...              499   \n",
       "9  Computers&Accessories|Accessories&Peripherals|...              199   \n",
       "\n",
       "  actual_price discount_percentage rating rating_count  \\\n",
       "0        1,099                 64%    4.2       24,269   \n",
       "1          349                 43%    4.0       43,994   \n",
       "2        1,899                 90%    3.9        7,928   \n",
       "3          699                 53%    4.2       94,363   \n",
       "4          399                 61%    4.2       16,905   \n",
       "5        1,000                 85%    3.9       24,871   \n",
       "6          499                 65%    4.1       15,188   \n",
       "7          299                 23%    4.3       30,411   \n",
       "8          999                 50%    4.2     1,79,691   \n",
       "9          299                 33%    4.0       43,994   \n",
       "\n",
       "                                       about_product  \\\n",
       "0  High Compatibility : Compatible With iPhone 12...   \n",
       "1  Compatible with all Type C enabled devices, be...   \n",
       "2  【 Fast Charger& Data Sync】-With built-in safet...   \n",
       "3  The boAt Deuce USB 300 2 in 1 cable is compati...   \n",
       "4  [CHARGE & SYNC FUNCTION]- This cable comes wit...   \n",
       "5  Fast Charging & Data Sync: Solero TB301 Type-C...   \n",
       "6  It Ensures High Speed Transmission And Chargin...   \n",
       "7  1m long Type-C USB Cable|Sturdy and Durable. W...   \n",
       "8  USB WiFi Adapter —— Speedy wireless transmissi...   \n",
       "9  Universal Compatibility – It is compatible wit...   \n",
       "\n",
       "                                             user_id  \\\n",
       "0  AG3D6O4STAQKAY2UVGEUV46KN35Q,AHMY5CWJMMK5BJRBB...   \n",
       "1  AECPFYFQVRUWC3KGNLJIOREFP5LQ,AGYYVPDD7YG7FYNBX...   \n",
       "2  AGU3BBQ2V2DDAMOAKGFAWDDQ6QHA,AESFLDV2PT363T2AQ...   \n",
       "3  AEWAZDZZJLQUYVOVGBEUKSLXHQ5A,AG5HTSFRRE6NL3M5S...   \n",
       "4  AE3Q6KSUK5P75D5HFYHCRAOLODSA,AFUGIFH5ZAFXRDSZH...   \n",
       "5  AEQ2YMXSZWEOHK2EHTNLOS56YTZQ,AGRVINWECNY7323CW...   \n",
       "6  AG7C6DAADCTRQJG2BRS3RIKDT52Q,AFU7BOMPVJ7Q3TTA4...   \n",
       "7  AHW6E5LQ2BDYOIVLAJGDH45J5V5Q,AF74RSGCHPZITVFSZ...   \n",
       "8  AGV3IEFANZCKECFGUM42MRH5FNOA,AEBO7NWCNXKT4AESA...   \n",
       "9  AECPFYFQVRUWC3KGNLJIOREFP5LQ,AGYYVPDD7YG7FYNBX...   \n",
       "\n",
       "                                           user_name  \\\n",
       "0  Manav,Adarsh gupta,Sundeep,S.Sayeed Ahmed,jasp...   \n",
       "1  ArdKn,Nirbhay kumar,Sagar Viswanathan,Asp,Plac...   \n",
       "2  Kunal,Himanshu,viswanath,sai niharka,saqib mal...   \n",
       "3  Omkar dhale,JD,HEMALATHA,Ajwadh a.,amar singh ...   \n",
       "4  rahuls6099,Swasat Borah,Ajay Wadke,Pranali,RVK...   \n",
       "5  Jayesh,Rajesh k.,Soopy,amazon customer,Aman,Sh...   \n",
       "6  Vivek kumar,Amazon Customer,SARTHAK,Chiranjeev...   \n",
       "7  Pavan A H,Jayesh bagad,Shridhar,rajendran,karu...   \n",
       "8  Azhar JuMan,Anirudh Sood,Hari Krishnan PS,Akas...   \n",
       "9  ArdKn,Nirbhay kumar,Sagar Viswanathan,Asp,Plac...   \n",
       "\n",
       "                                           review_id  \\\n",
       "0  R3HXWT0LRP0NMF,R2AJM3LFTLZHFO,R6AQJGUP6P86,R1K...   \n",
       "1  RGIQEG07R9HS2,R1SMWZQ86XIN8U,R2J3Y1WL29GWDE,RY...   \n",
       "2  R3J3EQQ9TZI5ZJ,R3E7WBGK7ID0KV,RWU79XKQ6I1QF,R2...   \n",
       "3  R3EEUZKKK9J36I,R3HJVYCLYOY554,REDECAZ7AMPQC,R1...   \n",
       "4  R1BP4L2HH9TFUP,R16PVJEXKV6QZS,R2UPDB81N66T4P,R...   \n",
       "5  R7S8ANNSDPR40,R3CLZFLHVJU26P,RFF7U7MPQFUGR,R1M...   \n",
       "6  R8E73K2KWJRDS,RSD0JTIIWQQL8,R64CRSTE9SLW1,R2FR...   \n",
       "7  R2X090D1YHACKR,R32ZCIH9AFNJ60,R3N57EVVG0EHAF,R...   \n",
       "8  R1LW6NWSVTVZ2H,R3VR5WFKUS15C5,R2F6GC79OYWUKQ,R...   \n",
       "9  RGIQEG07R9HS2,R1SMWZQ86XIN8U,R2J3Y1WL29GWDE,RY...   \n",
       "\n",
       "                                        review_title  \\\n",
       "0  Satisfied,Charging is really fast,Value for mo...   \n",
       "1  A Good Braided Cable for Your Type C Device,Go...   \n",
       "2  Good speed for earlier versions,Good Product,W...   \n",
       "3  Good product,Good one,Nice,Really nice product...   \n",
       "4  As good as original,Decent,Good one for second...   \n",
       "5  It's pretty good,Average quality,very good and...   \n",
       "6  Long durable.,good,Does not charge Lenovo m8 t...   \n",
       "7  Worth for money - suitable for Android auto,Go...   \n",
       "8  Works on linux for me. Get the model with ante...   \n",
       "9  A Good Braided Cable for Your Type C Device,Go...   \n",
       "\n",
       "                                      review_content  \\\n",
       "0  Looks durable Charging is fine tooNo complains...   \n",
       "1  I ordered this cable to connect my phone to An...   \n",
       "2  Not quite durable and sturdy,https://m.media-a...   \n",
       "3  Good product,long wire,Charges good,Nice,I bou...   \n",
       "4  Bought this instead of original apple, does th...   \n",
       "5  It's a good product.,Like,Very good item stron...   \n",
       "6  Build quality is good and it is comes with 2 y...   \n",
       "7  Worth for money - suitable for Android auto......   \n",
       "8  I use this to connect an old PC to internet. I...   \n",
       "9  I ordered this cable to connect my phone to An...   \n",
       "\n",
       "                                            img_link  \\\n",
       "0  https://m.media-amazon.com/images/W/WEBP_40237...   \n",
       "1  https://m.media-amazon.com/images/W/WEBP_40237...   \n",
       "2  https://m.media-amazon.com/images/W/WEBP_40237...   \n",
       "3  https://m.media-amazon.com/images/I/41V5FtEWPk...   \n",
       "4  https://m.media-amazon.com/images/W/WEBP_40237...   \n",
       "5  https://m.media-amazon.com/images/I/31wOPjcSxl...   \n",
       "6  https://m.media-amazon.com/images/W/WEBP_40237...   \n",
       "7  https://m.media-amazon.com/images/I/31XO-wfGGG...   \n",
       "8  https://m.media-amazon.com/images/W/WEBP_40237...   \n",
       "9  https://m.media-amazon.com/images/W/WEBP_40237...   \n",
       "\n",
       "                                        product_link  \n",
       "0  https://www.amazon.in/Wayona-Braided-WN3LG1-Sy...  \n",
       "1  https://www.amazon.in/Ambrane-Unbreakable-Char...  \n",
       "2  https://www.amazon.in/Sounce-iPhone-Charging-C...  \n",
       "3  https://www.amazon.in/Deuce-300-Resistant-Tang...  \n",
       "4  https://www.amazon.in/Portronics-Konnect-POR-1...  \n",
       "5  https://www.amazon.in/Solero-TB301-Charging-48...  \n",
       "6  https://www.amazon.in/boAt-Micro-USB-Tangle-Fr...  \n",
       "7  https://www.amazon.in/MI-MTCY001IN-USB-Type-C-...  \n",
       "8  https://www.amazon.in/TP-Link-TL-WN725N-150Mbp...  \n",
       "9  https://www.amazon.in/Ambrane-Unbreakable-Char...  "
      ]
     },
     "execution_count": 96,
     "metadata": {},
     "output_type": "execute_result"
    }
   ],
   "source": [
    "amazon.head(10)"
   ]
  },
  {
   "cell_type": "code",
   "execution_count": 50,
   "id": "5231102b-e603-4493-b26a-a7e51319624f",
   "metadata": {},
   "outputs": [
    {
     "data": {
      "text/html": [
       "<div>\n",
       "<style scoped>\n",
       "    .dataframe tbody tr th:only-of-type {\n",
       "        vertical-align: middle;\n",
       "    }\n",
       "\n",
       "    .dataframe tbody tr th {\n",
       "        vertical-align: top;\n",
       "    }\n",
       "\n",
       "    .dataframe thead th {\n",
       "        text-align: right;\n",
       "    }\n",
       "</style>\n",
       "<table border=\"1\" class=\"dataframe\">\n",
       "  <thead>\n",
       "    <tr style=\"text-align: right;\">\n",
       "      <th></th>\n",
       "      <th>name</th>\n",
       "      <th>selling_price</th>\n",
       "      <th>year</th>\n",
       "      <th>seller_type</th>\n",
       "      <th>owner</th>\n",
       "      <th>km_driven</th>\n",
       "      <th>ex_showroom_price</th>\n",
       "    </tr>\n",
       "  </thead>\n",
       "  <tbody>\n",
       "    <tr>\n",
       "      <th>0</th>\n",
       "      <td>Royal Enfield Classic 350</td>\n",
       "      <td>175000</td>\n",
       "      <td>2019</td>\n",
       "      <td>Individual</td>\n",
       "      <td>1st owner</td>\n",
       "      <td>350</td>\n",
       "      <td>NaN</td>\n",
       "    </tr>\n",
       "    <tr>\n",
       "      <th>1</th>\n",
       "      <td>Honda Dio</td>\n",
       "      <td>45000</td>\n",
       "      <td>2017</td>\n",
       "      <td>Individual</td>\n",
       "      <td>1st owner</td>\n",
       "      <td>5650</td>\n",
       "      <td>NaN</td>\n",
       "    </tr>\n",
       "    <tr>\n",
       "      <th>2</th>\n",
       "      <td>Royal Enfield Classic Gunmetal Grey</td>\n",
       "      <td>150000</td>\n",
       "      <td>2018</td>\n",
       "      <td>Individual</td>\n",
       "      <td>1st owner</td>\n",
       "      <td>12000</td>\n",
       "      <td>148114.0</td>\n",
       "    </tr>\n",
       "    <tr>\n",
       "      <th>3</th>\n",
       "      <td>Yamaha Fazer FI V 2.0 [2016-2018]</td>\n",
       "      <td>65000</td>\n",
       "      <td>2015</td>\n",
       "      <td>Individual</td>\n",
       "      <td>1st owner</td>\n",
       "      <td>23000</td>\n",
       "      <td>89643.0</td>\n",
       "    </tr>\n",
       "    <tr>\n",
       "      <th>4</th>\n",
       "      <td>Yamaha SZ [2013-2014]</td>\n",
       "      <td>20000</td>\n",
       "      <td>2011</td>\n",
       "      <td>Individual</td>\n",
       "      <td>2nd owner</td>\n",
       "      <td>21000</td>\n",
       "      <td>NaN</td>\n",
       "    </tr>\n",
       "    <tr>\n",
       "      <th>5</th>\n",
       "      <td>Honda CB Twister</td>\n",
       "      <td>18000</td>\n",
       "      <td>2010</td>\n",
       "      <td>Individual</td>\n",
       "      <td>1st owner</td>\n",
       "      <td>60000</td>\n",
       "      <td>53857.0</td>\n",
       "    </tr>\n",
       "    <tr>\n",
       "      <th>6</th>\n",
       "      <td>Honda CB Hornet 160R</td>\n",
       "      <td>78500</td>\n",
       "      <td>2018</td>\n",
       "      <td>Individual</td>\n",
       "      <td>1st owner</td>\n",
       "      <td>17000</td>\n",
       "      <td>87719.0</td>\n",
       "    </tr>\n",
       "    <tr>\n",
       "      <th>7</th>\n",
       "      <td>Royal Enfield Bullet 350 [2007-2011]</td>\n",
       "      <td>180000</td>\n",
       "      <td>2008</td>\n",
       "      <td>Individual</td>\n",
       "      <td>2nd owner</td>\n",
       "      <td>39000</td>\n",
       "      <td>NaN</td>\n",
       "    </tr>\n",
       "    <tr>\n",
       "      <th>8</th>\n",
       "      <td>Hero Honda CBZ extreme</td>\n",
       "      <td>30000</td>\n",
       "      <td>2010</td>\n",
       "      <td>Individual</td>\n",
       "      <td>1st owner</td>\n",
       "      <td>32000</td>\n",
       "      <td>NaN</td>\n",
       "    </tr>\n",
       "    <tr>\n",
       "      <th>9</th>\n",
       "      <td>Bajaj Discover 125</td>\n",
       "      <td>50000</td>\n",
       "      <td>2016</td>\n",
       "      <td>Individual</td>\n",
       "      <td>1st owner</td>\n",
       "      <td>42000</td>\n",
       "      <td>60122.0</td>\n",
       "    </tr>\n",
       "  </tbody>\n",
       "</table>\n",
       "</div>"
      ],
      "text/plain": [
       "                                   name  selling_price  year seller_type  \\\n",
       "0             Royal Enfield Classic 350         175000  2019  Individual   \n",
       "1                             Honda Dio          45000  2017  Individual   \n",
       "2   Royal Enfield Classic Gunmetal Grey         150000  2018  Individual   \n",
       "3     Yamaha Fazer FI V 2.0 [2016-2018]          65000  2015  Individual   \n",
       "4                 Yamaha SZ [2013-2014]          20000  2011  Individual   \n",
       "5                      Honda CB Twister          18000  2010  Individual   \n",
       "6                  Honda CB Hornet 160R          78500  2018  Individual   \n",
       "7  Royal Enfield Bullet 350 [2007-2011]         180000  2008  Individual   \n",
       "8                Hero Honda CBZ extreme          30000  2010  Individual   \n",
       "9                    Bajaj Discover 125          50000  2016  Individual   \n",
       "\n",
       "       owner  km_driven  ex_showroom_price  \n",
       "0  1st owner        350                NaN  \n",
       "1  1st owner       5650                NaN  \n",
       "2  1st owner      12000           148114.0  \n",
       "3  1st owner      23000            89643.0  \n",
       "4  2nd owner      21000                NaN  \n",
       "5  1st owner      60000            53857.0  \n",
       "6  1st owner      17000            87719.0  \n",
       "7  2nd owner      39000                NaN  \n",
       "8  1st owner      32000                NaN  \n",
       "9  1st owner      42000            60122.0  "
      ]
     },
     "execution_count": 50,
     "metadata": {},
     "output_type": "execute_result"
    }
   ],
   "source": [
    "bike.head(10)"
   ]
  },
  {
   "cell_type": "code",
   "execution_count": 49,
   "id": "3af0ac51-fe90-450d-836d-0cd1c5e479ca",
   "metadata": {},
   "outputs": [
    {
     "name": "stdout",
     "output_type": "stream",
     "text": [
      "<class 'pandas.core.frame.DataFrame'>\n",
      "RangeIndex: 1061 entries, 0 to 1060\n",
      "Data columns (total 7 columns):\n",
      " #   Column             Non-Null Count  Dtype  \n",
      "---  ------             --------------  -----  \n",
      " 0   name               1061 non-null   object \n",
      " 1   selling_price      1061 non-null   int64  \n",
      " 2   year               1061 non-null   int64  \n",
      " 3   seller_type        1061 non-null   object \n",
      " 4   owner              1061 non-null   object \n",
      " 5   km_driven          1061 non-null   int64  \n",
      " 6   ex_showroom_price  626 non-null    float64\n",
      "dtypes: float64(1), int64(3), object(3)\n",
      "memory usage: 58.2+ KB\n"
     ]
    },
    {
     "data": {
      "text/html": [
       "<div>\n",
       "<style scoped>\n",
       "    .dataframe tbody tr th:only-of-type {\n",
       "        vertical-align: middle;\n",
       "    }\n",
       "\n",
       "    .dataframe tbody tr th {\n",
       "        vertical-align: top;\n",
       "    }\n",
       "\n",
       "    .dataframe thead th {\n",
       "        text-align: right;\n",
       "    }\n",
       "</style>\n",
       "<table border=\"1\" class=\"dataframe\">\n",
       "  <thead>\n",
       "    <tr style=\"text-align: right;\">\n",
       "      <th></th>\n",
       "      <th>name</th>\n",
       "      <th>selling_price</th>\n",
       "      <th>year</th>\n",
       "      <th>seller_type</th>\n",
       "      <th>owner</th>\n",
       "      <th>km_driven</th>\n",
       "      <th>ex_showroom_price</th>\n",
       "    </tr>\n",
       "  </thead>\n",
       "  <tbody>\n",
       "    <tr>\n",
       "      <th>0</th>\n",
       "      <td>Royal Enfield Classic 350</td>\n",
       "      <td>175000</td>\n",
       "      <td>2019</td>\n",
       "      <td>Individual</td>\n",
       "      <td>1st owner</td>\n",
       "      <td>350</td>\n",
       "      <td>NaN</td>\n",
       "    </tr>\n",
       "    <tr>\n",
       "      <th>1</th>\n",
       "      <td>Honda Dio</td>\n",
       "      <td>45000</td>\n",
       "      <td>2017</td>\n",
       "      <td>Individual</td>\n",
       "      <td>1st owner</td>\n",
       "      <td>5650</td>\n",
       "      <td>NaN</td>\n",
       "    </tr>\n",
       "    <tr>\n",
       "      <th>2</th>\n",
       "      <td>Royal Enfield Classic Gunmetal Grey</td>\n",
       "      <td>150000</td>\n",
       "      <td>2018</td>\n",
       "      <td>Individual</td>\n",
       "      <td>1st owner</td>\n",
       "      <td>12000</td>\n",
       "      <td>148114.0</td>\n",
       "    </tr>\n",
       "    <tr>\n",
       "      <th>3</th>\n",
       "      <td>Yamaha Fazer FI V 2.0 [2016-2018]</td>\n",
       "      <td>65000</td>\n",
       "      <td>2015</td>\n",
       "      <td>Individual</td>\n",
       "      <td>1st owner</td>\n",
       "      <td>23000</td>\n",
       "      <td>89643.0</td>\n",
       "    </tr>\n",
       "    <tr>\n",
       "      <th>4</th>\n",
       "      <td>Yamaha SZ [2013-2014]</td>\n",
       "      <td>20000</td>\n",
       "      <td>2011</td>\n",
       "      <td>Individual</td>\n",
       "      <td>2nd owner</td>\n",
       "      <td>21000</td>\n",
       "      <td>NaN</td>\n",
       "    </tr>\n",
       "    <tr>\n",
       "      <th>5</th>\n",
       "      <td>Honda CB Twister</td>\n",
       "      <td>18000</td>\n",
       "      <td>2010</td>\n",
       "      <td>Individual</td>\n",
       "      <td>1st owner</td>\n",
       "      <td>60000</td>\n",
       "      <td>53857.0</td>\n",
       "    </tr>\n",
       "    <tr>\n",
       "      <th>6</th>\n",
       "      <td>Honda CB Hornet 160R</td>\n",
       "      <td>78500</td>\n",
       "      <td>2018</td>\n",
       "      <td>Individual</td>\n",
       "      <td>1st owner</td>\n",
       "      <td>17000</td>\n",
       "      <td>87719.0</td>\n",
       "    </tr>\n",
       "    <tr>\n",
       "      <th>7</th>\n",
       "      <td>Royal Enfield Bullet 350 [2007-2011]</td>\n",
       "      <td>180000</td>\n",
       "      <td>2008</td>\n",
       "      <td>Individual</td>\n",
       "      <td>2nd owner</td>\n",
       "      <td>39000</td>\n",
       "      <td>NaN</td>\n",
       "    </tr>\n",
       "    <tr>\n",
       "      <th>8</th>\n",
       "      <td>Hero Honda CBZ extreme</td>\n",
       "      <td>30000</td>\n",
       "      <td>2010</td>\n",
       "      <td>Individual</td>\n",
       "      <td>1st owner</td>\n",
       "      <td>32000</td>\n",
       "      <td>NaN</td>\n",
       "    </tr>\n",
       "    <tr>\n",
       "      <th>9</th>\n",
       "      <td>Bajaj Discover 125</td>\n",
       "      <td>50000</td>\n",
       "      <td>2016</td>\n",
       "      <td>Individual</td>\n",
       "      <td>1st owner</td>\n",
       "      <td>42000</td>\n",
       "      <td>60122.0</td>\n",
       "    </tr>\n",
       "  </tbody>\n",
       "</table>\n",
       "</div>"
      ],
      "text/plain": [
       "                                   name  selling_price  year seller_type  \\\n",
       "0             Royal Enfield Classic 350         175000  2019  Individual   \n",
       "1                             Honda Dio          45000  2017  Individual   \n",
       "2   Royal Enfield Classic Gunmetal Grey         150000  2018  Individual   \n",
       "3     Yamaha Fazer FI V 2.0 [2016-2018]          65000  2015  Individual   \n",
       "4                 Yamaha SZ [2013-2014]          20000  2011  Individual   \n",
       "5                      Honda CB Twister          18000  2010  Individual   \n",
       "6                  Honda CB Hornet 160R          78500  2018  Individual   \n",
       "7  Royal Enfield Bullet 350 [2007-2011]         180000  2008  Individual   \n",
       "8                Hero Honda CBZ extreme          30000  2010  Individual   \n",
       "9                    Bajaj Discover 125          50000  2016  Individual   \n",
       "\n",
       "       owner  km_driven  ex_showroom_price  \n",
       "0  1st owner        350                NaN  \n",
       "1  1st owner       5650                NaN  \n",
       "2  1st owner      12000           148114.0  \n",
       "3  1st owner      23000            89643.0  \n",
       "4  2nd owner      21000                NaN  \n",
       "5  1st owner      60000            53857.0  \n",
       "6  1st owner      17000            87719.0  \n",
       "7  2nd owner      39000                NaN  \n",
       "8  1st owner      32000                NaN  \n",
       "9  1st owner      42000            60122.0  "
      ]
     },
     "execution_count": 49,
     "metadata": {},
     "output_type": "execute_result"
    }
   ],
   "source": [
    "bike.info()\n"
   ]
  },
  {
   "cell_type": "code",
   "execution_count": 46,
   "id": "057bac55-179e-4faf-9d42-4305b8696b14",
   "metadata": {},
   "outputs": [
    {
     "data": {
      "text/html": [
       "<div>\n",
       "<style scoped>\n",
       "    .dataframe tbody tr th:only-of-type {\n",
       "        vertical-align: middle;\n",
       "    }\n",
       "\n",
       "    .dataframe tbody tr th {\n",
       "        vertical-align: top;\n",
       "    }\n",
       "\n",
       "    .dataframe thead th {\n",
       "        text-align: right;\n",
       "    }\n",
       "</style>\n",
       "<table border=\"1\" class=\"dataframe\">\n",
       "  <thead>\n",
       "    <tr style=\"text-align: right;\">\n",
       "      <th></th>\n",
       "      <th>selling_price</th>\n",
       "      <th>year</th>\n",
       "      <th>km_driven</th>\n",
       "      <th>ex_showroom_price</th>\n",
       "    </tr>\n",
       "  </thead>\n",
       "  <tbody>\n",
       "    <tr>\n",
       "      <th>count</th>\n",
       "      <td>1061.000000</td>\n",
       "      <td>1061.000000</td>\n",
       "      <td>1061.000000</td>\n",
       "      <td>6.260000e+02</td>\n",
       "    </tr>\n",
       "    <tr>\n",
       "      <th>mean</th>\n",
       "      <td>59638.151744</td>\n",
       "      <td>2013.867107</td>\n",
       "      <td>34359.833176</td>\n",
       "      <td>8.795871e+04</td>\n",
       "    </tr>\n",
       "    <tr>\n",
       "      <th>std</th>\n",
       "      <td>56304.291973</td>\n",
       "      <td>4.301191</td>\n",
       "      <td>51623.152702</td>\n",
       "      <td>7.749659e+04</td>\n",
       "    </tr>\n",
       "    <tr>\n",
       "      <th>min</th>\n",
       "      <td>5000.000000</td>\n",
       "      <td>1988.000000</td>\n",
       "      <td>350.000000</td>\n",
       "      <td>3.049000e+04</td>\n",
       "    </tr>\n",
       "    <tr>\n",
       "      <th>25%</th>\n",
       "      <td>28000.000000</td>\n",
       "      <td>2011.000000</td>\n",
       "      <td>13500.000000</td>\n",
       "      <td>5.485200e+04</td>\n",
       "    </tr>\n",
       "    <tr>\n",
       "      <th>50%</th>\n",
       "      <td>45000.000000</td>\n",
       "      <td>2015.000000</td>\n",
       "      <td>25000.000000</td>\n",
       "      <td>7.275250e+04</td>\n",
       "    </tr>\n",
       "    <tr>\n",
       "      <th>75%</th>\n",
       "      <td>70000.000000</td>\n",
       "      <td>2017.000000</td>\n",
       "      <td>43000.000000</td>\n",
       "      <td>8.703150e+04</td>\n",
       "    </tr>\n",
       "    <tr>\n",
       "      <th>max</th>\n",
       "      <td>760000.000000</td>\n",
       "      <td>2020.000000</td>\n",
       "      <td>880000.000000</td>\n",
       "      <td>1.278000e+06</td>\n",
       "    </tr>\n",
       "  </tbody>\n",
       "</table>\n",
       "</div>"
      ],
      "text/plain": [
       "       selling_price         year      km_driven  ex_showroom_price\n",
       "count    1061.000000  1061.000000    1061.000000       6.260000e+02\n",
       "mean    59638.151744  2013.867107   34359.833176       8.795871e+04\n",
       "std     56304.291973     4.301191   51623.152702       7.749659e+04\n",
       "min      5000.000000  1988.000000     350.000000       3.049000e+04\n",
       "25%     28000.000000  2011.000000   13500.000000       5.485200e+04\n",
       "50%     45000.000000  2015.000000   25000.000000       7.275250e+04\n",
       "75%     70000.000000  2017.000000   43000.000000       8.703150e+04\n",
       "max    760000.000000  2020.000000  880000.000000       1.278000e+06"
      ]
     },
     "execution_count": 46,
     "metadata": {},
     "output_type": "execute_result"
    }
   ],
   "source": [
    "bike.describe()\n"
   ]
  },
  {
   "cell_type": "code",
   "execution_count": null,
   "id": "2636f66e-9faf-4740-b5c0-89a29576f341",
   "metadata": {},
   "outputs": [],
   "source": [
    "EDA - 1: Bike Details Dataset"
   ]
  },
  {
   "cell_type": "code",
   "execution_count": null,
   "id": "367d529a-2877-4785-a102-ee6b2bbad3f9",
   "metadata": {},
   "outputs": [],
   "source": [
    "What is the range of selling prices in the dataset"
   ]
  },
  {
   "cell_type": "code",
   "execution_count": 42,
   "id": "58d97564-162d-4c5a-9bd7-59d5665bc572",
   "metadata": {},
   "outputs": [
    {
     "name": "stdout",
     "output_type": "stream",
     "text": [
      "5000\n",
      "760000\n",
      "The range in the selling prices in the dataset is from 5000 - 760000\n"
     ]
    }
   ],
   "source": [
    "\n",
    "minimum = bike[\"selling_price\"].min()\n",
    "maximum = bike[\"selling_price\"].max()\n",
    "print(minimum)\n",
    "print(maximum)\n",
    "print(\"The range in the selling prices in the dataset is from\", minimum, \"-\", maximum)"
   ]
  },
  {
   "cell_type": "code",
   "execution_count": null,
   "id": "e5a33221-5ff5-4113-9282-d47322595605",
   "metadata": {},
   "outputs": [],
   "source": [
    "What is the median selling price for bikes in the dataset"
   ]
  },
  {
   "cell_type": "code",
   "execution_count": 37,
   "id": "1655c506-ab34-42b8-97e6-4bb4c2ca4437",
   "metadata": {},
   "outputs": [
    {
     "name": "stdout",
     "output_type": "stream",
     "text": [
      "The median selling prices for bikes in the dataset is  45000.0\n"
     ]
    }
   ],
   "source": [
    "med = bike[\"selling_price\"].median()\n",
    "print(\"The median selling prices for bikes in the dataset is \", med)"
   ]
  },
  {
   "cell_type": "code",
   "execution_count": null,
   "id": "0af9f1db-222e-4c10-b35d-4e6b246e980e",
   "metadata": {},
   "outputs": [],
   "source": [
    "What is the most common seller type"
   ]
  },
  {
   "cell_type": "code",
   "execution_count": 56,
   "id": "8893f088-47bd-4ae2-a6db-b6afd3f50d89",
   "metadata": {},
   "outputs": [
    {
     "name": "stdout",
     "output_type": "stream",
     "text": [
      "The most common seller type in the dataset is  Individual\n"
     ]
    }
   ],
   "source": [
    "seller = st.mode(bike[\"seller_type\"])\n",
    "print(\"The most common seller type in the dataset is \", seller)"
   ]
  },
  {
   "cell_type": "code",
   "execution_count": null,
   "id": "b158dc70-7d2f-4daf-ba1f-8005dd847d75",
   "metadata": {},
   "outputs": [],
   "source": [
    "How many bikes have driven more than 50,000 kilometers"
   ]
  },
  {
   "cell_type": "code",
   "execution_count": 115,
   "id": "9ab6995d-1180-48c7-8a07-3d822c7b4b32",
   "metadata": {},
   "outputs": [
    {
     "name": "stdout",
     "output_type": "stream",
     "text": [
      "207\n",
      "207 bikes have driven more than 50,000 kilometers\n"
     ]
    }
   ],
   "source": [
    "count = 0\n",
    "#count = len(list(filter(lambda km:km>50000, bike[\"km_driven\"])))\n",
    "for km in bike[\"km_driven\"]:\n",
    "    if km >= 50000:\n",
    "       count +=1\n",
    "print(count)\n",
    "print(count, \"bikes have driven more than 50,000 kilometers\") "
   ]
  },
  {
   "cell_type": "code",
   "execution_count": null,
   "id": "6d9a5eed-20c3-4900-b049-69b89e557295",
   "metadata": {},
   "outputs": [],
   "source": [
    "What is the average km_driven value for each ownership type\n"
   ]
  },
  {
   "cell_type": "code",
   "execution_count": null,
   "id": "8041f0f5-1bd8-4334-b5c9-e2525d4016f1",
   "metadata": {},
   "outputs": [],
   "source": [
    "count = 0\n",
    "for yr in bike[\"year\"]:\n",
    "    if yr >= 2015:\n",
    "       count +=1\n",
    "print(count)\n",
    "print(count, \"bikes are from the year 2015 or older\")"
   ]
  },
  {
   "cell_type": "code",
   "execution_count": null,
   "id": "1a1c3f40-1a85-411a-a3c9-cf2db3c86770",
   "metadata": {},
   "outputs": [],
   "source": [
    "What proportion of bikes are from the year 2015 or older\n"
   ]
  },
  {
   "cell_type": "code",
   "execution_count": 116,
   "id": "833fcf41-0be2-4ab7-81f8-8d9abb4e323d",
   "metadata": {},
   "outputs": [
    {
     "name": "stdout",
     "output_type": "stream",
     "text": [
      "560\n",
      "560 bikes are from the year 2015 or older\n"
     ]
    }
   ],
   "source": [
    "count = 0\n",
    "for yr in bike[\"year\"]:\n",
    "    if yr >= 2015:\n",
    "       count +=1\n",
    "print(count)\n",
    "print(count, \"bikes are from the year 2015 or older\") "
   ]
  },
  {
   "cell_type": "code",
   "execution_count": null,
   "id": "6fd067e3-dc97-438f-87fe-c93b48c5f6d7",
   "metadata": {},
   "outputs": [],
   "source": [
    "What is the trend of missing values across the dataset\n"
   ]
  },
  {
   "cell_type": "code",
   "execution_count": 65,
   "id": "fd12e83f-ffb1-44f1-8dac-382bedb8ebf8",
   "metadata": {},
   "outputs": [
    {
     "name": "stdout",
     "output_type": "stream",
     "text": [
      "<class 'pandas.core.frame.DataFrame'>\n",
      "RangeIndex: 1061 entries, 0 to 1060\n",
      "Data columns (total 7 columns):\n",
      " #   Column             Non-Null Count  Dtype  \n",
      "---  ------             --------------  -----  \n",
      " 0   name               1061 non-null   object \n",
      " 1   selling_price      1061 non-null   int64  \n",
      " 2   year               1061 non-null   int64  \n",
      " 3   seller_type        1061 non-null   object \n",
      " 4   owner              1061 non-null   object \n",
      " 5   km_driven          1061 non-null   int64  \n",
      " 6   ex_showroom_price  626 non-null    float64\n",
      "dtypes: float64(1), int64(3), object(3)\n",
      "memory usage: 58.2+ KB\n"
     ]
    }
   ],
   "source": [
    "bike.info( )"
   ]
  },
  {
   "cell_type": "code",
   "execution_count": null,
   "id": "974bc8d0-85b6-4d3d-b280-66bd953bcbd1",
   "metadata": {},
   "outputs": [],
   "source": [
    "What is the highest ex_showroom_price recorded, and for which bike\n"
   ]
  },
  {
   "cell_type": "code",
   "execution_count": 29,
   "id": "a635cb7d-3249-40e2-960b-6c81d9f8e851",
   "metadata": {},
   "outputs": [
    {
     "name": "stdout",
     "output_type": "stream",
     "text": [
      "1278000.0\n",
      "                           name  selling_price  year seller_type      owner  \\\n",
      "134  Harley-Davidson Street Bob         750000  2013  Individual  2nd owner   \n",
      "\n",
      "     km_driven  ex_showroom_price  \n",
      "134      12000          1278000.0  \n"
     ]
    }
   ],
   "source": [
    "maximum = bike[\"ex_showroom_price\"].max()\n",
    "print(maximum)\n",
    "\n",
    "#display(bike[bike.eval(\"ex_showroom_price\" == maximum)])\n",
    "\n",
    "#filtered_df = bike.query('ex_showroom_price' == maximum)\n",
    "\n",
    "filtered_df = bike[(bike[\"ex_showroom_price\"] == bike[\"ex_showroom_price\"].max())]\n",
    "print(filtered_df)"
   ]
  },
  {
   "cell_type": "markdown",
   "id": "ffdad1a0-c035-4af4-a273-dbc1c1303271",
   "metadata": {},
   "source": [
    "What is the total number of bikes listed by each seller type"
   ]
  },
  {
   "cell_type": "code",
   "execution_count": 34,
   "id": "340ad77d-40ce-4e26-a9e9-7baf0a5f2170",
   "metadata": {},
   "outputs": [
    {
     "data": {
      "text/html": [
       "<div>\n",
       "<style scoped>\n",
       "    .dataframe tbody tr th:only-of-type {\n",
       "        vertical-align: middle;\n",
       "    }\n",
       "\n",
       "    .dataframe tbody tr th {\n",
       "        vertical-align: top;\n",
       "    }\n",
       "\n",
       "    .dataframe thead th {\n",
       "        text-align: right;\n",
       "    }\n",
       "</style>\n",
       "<table border=\"1\" class=\"dataframe\">\n",
       "  <thead>\n",
       "    <tr style=\"text-align: right;\">\n",
       "      <th></th>\n",
       "      <th>seller_type</th>\n",
       "    </tr>\n",
       "    <tr>\n",
       "      <th>name</th>\n",
       "      <th></th>\n",
       "    </tr>\n",
       "  </thead>\n",
       "  <tbody>\n",
       "    <tr>\n",
       "      <th>Activa 3g</th>\n",
       "      <td>2</td>\n",
       "    </tr>\n",
       "    <tr>\n",
       "      <th>Activa 4g</th>\n",
       "      <td>1</td>\n",
       "    </tr>\n",
       "    <tr>\n",
       "      <th>Aprilia SR 125</th>\n",
       "      <td>2</td>\n",
       "    </tr>\n",
       "    <tr>\n",
       "      <th>BMW G310GS</th>\n",
       "      <td>1</td>\n",
       "    </tr>\n",
       "    <tr>\n",
       "      <th>Bajaj  ct 100</th>\n",
       "      <td>1</td>\n",
       "    </tr>\n",
       "    <tr>\n",
       "      <th>...</th>\n",
       "      <td>...</td>\n",
       "    </tr>\n",
       "    <tr>\n",
       "      <th>Yamaha YZF R15 S</th>\n",
       "      <td>6</td>\n",
       "    </tr>\n",
       "    <tr>\n",
       "      <th>Yamaha YZF R15 V3</th>\n",
       "      <td>2</td>\n",
       "    </tr>\n",
       "    <tr>\n",
       "      <th>Yamaha YZF R15 [2011-2018]</th>\n",
       "      <td>6</td>\n",
       "    </tr>\n",
       "    <tr>\n",
       "      <th>Yamaha YZF R3</th>\n",
       "      <td>1</td>\n",
       "    </tr>\n",
       "    <tr>\n",
       "      <th>Yo Style</th>\n",
       "      <td>1</td>\n",
       "    </tr>\n",
       "  </tbody>\n",
       "</table>\n",
       "<p>279 rows × 1 columns</p>\n",
       "</div>"
      ],
      "text/plain": [
       "                            seller_type\n",
       "name                                   \n",
       "Activa 3g                             2\n",
       "Activa 4g                             1\n",
       "Aprilia SR 125                        2\n",
       "BMW G310GS                            1\n",
       "Bajaj  ct 100                         1\n",
       "...                                 ...\n",
       "Yamaha YZF R15 S                      6\n",
       "Yamaha YZF R15 V3                     2\n",
       "Yamaha YZF R15 [2011-2018]            6\n",
       "Yamaha YZF R3                         1\n",
       "Yo Style                              1\n",
       "\n",
       "[279 rows x 1 columns]"
      ]
     },
     "execution_count": 34,
     "metadata": {},
     "output_type": "execute_result"
    }
   ],
   "source": [
    "table = pd.pivot_table(bike, values='seller_type', index='name', aggfunc=\"count\")\n",
    "table"
   ]
  },
  {
   "cell_type": "markdown",
   "id": "49b17808-8b85-41f2-a3c8-f50116c85605",
   "metadata": {},
   "source": [
    "What is the relationship between selling_price and km_driven for first-owner bikes\n"
   ]
  },
  {
   "cell_type": "code",
   "execution_count": 38,
   "id": "f95d7ca3-1af7-4af2-a377-db6873b03b4f",
   "metadata": {},
   "outputs": [
    {
     "data": {
      "text/plain": [
       "-0.2434817484496571"
      ]
     },
     "execution_count": 38,
     "metadata": {},
     "output_type": "execute_result"
    }
   ],
   "source": [
    "bike_1 = bike[(bike[\"owner\"] == \"1st owner\")]\n",
    "bike_1['selling_price'].corr(bike_1['km_driven'])\n",
    "#sns.pairplot(bike[\"ex_showroom_price\"],bike[\"year\"])"
   ]
  },
  {
   "cell_type": "code",
   "execution_count": null,
   "id": "0bdb1058-17f4-41a3-bb34-9cca9f359184",
   "metadata": {},
   "outputs": [],
   "source": [
    "Identify and remove outliers in the km_driven column using the IQR methodB\n"
   ]
  },
  {
   "cell_type": "code",
   "execution_count": 41,
   "id": "0e6dbf16-0fbc-43a2-a9e9-7a88c84ea527",
   "metadata": {},
   "outputs": [
    {
     "name": "stdout",
     "output_type": "stream",
     "text": [
      "Q1 25 percentile of the given data is,  13500.0\n",
      "Q1 50 percentile of the given data is,  25000.0\n",
      "Q1 75 percentile of the given data is,  43000.0\n",
      "Interquartile range is 29500.0\n",
      "low_limit is -30750.0\n",
      "up_limit is 87250.0\n"
     ]
    }
   ],
   "source": [
    "Q1 = np.percentile(bike[\"km_driven\"], 25, interpolation = 'midpoint') \n",
    "Q2 = np.percentile(bike[\"km_driven\"], 50, interpolation = 'midpoint') \n",
    "Q3 = np.percentile(bike[\"km_driven\"], 75, interpolation = 'midpoint') \n",
    "\n",
    "print('Q1 25 percentile of the given data is, ', Q1)\n",
    "print('Q1 50 percentile of the given data is, ', Q2)\n",
    "print('Q1 75 percentile of the given data is, ', Q3)\n",
    "\n",
    "IQR = Q3 - Q1 \n",
    "print('Interquartile range is', IQR)\n",
    "\n",
    "low_lim = Q1 - 1.5 * IQR\n",
    "up_lim = Q3 + 1.5 * IQR\n",
    "print('low_limit is', low_lim)\n",
    "print('up_limit is', up_lim)"
   ]
  },
  {
   "cell_type": "code",
   "execution_count": null,
   "id": "f799f663-6656-4ac0-ae43-cc95837f1c1f",
   "metadata": {},
   "outputs": [],
   "source": [
    "Perform a bivariate analysis to visualize the relationship between year and selling_price"
   ]
  },
  {
   "cell_type": "code",
   "execution_count": 105,
   "id": "9e373227-6886-4de3-a812-baa6c781981c",
   "metadata": {},
   "outputs": [
    {
     "data": {
      "text/plain": [
       "<Axes: xlabel='year', ylabel='ex_showroom_price'>"
      ]
     },
     "execution_count": 105,
     "metadata": {},
     "output_type": "execute_result"
    },
    {
     "data": {
      "image/png": "[encoded data removed]",
      "text/plain": [
       "<Figure size 640x480 with 1 Axes>"
      ]
     },
     "metadata": {},
     "output_type": "display_data"
    }
   ],
   "source": [
    "sns.barplot(y = \"ex_showroom_price\", x = \"year\", data = bike)\n",
    "sns.boxplot(y = \"ex_showroom_price\", x = \"year\", data = bike)\n",
    "#sns.violinplot(y = \"ex_showroom_price\", x = \"year\", data = bike)\n",
    "#sns.stripplot(y = \"ex_showroom_price\", x = \"year\", data = bike)\n",
    "#sns.swarmplot(y = \"ex_showroom_price\", x = \"year\", data = bike)"
   ]
  },
  {
   "cell_type": "code",
   "execution_count": null,
   "id": "12c785a9-b7ae-49d4-84c4-cad88e1c6302",
   "metadata": {},
   "outputs": [],
   "source": [
    "What is the average depreciation in selling price based on the bike's age (current year - manufacturing \n",
    "year)"
   ]
  },
  {
   "cell_type": "code",
   "execution_count": null,
   "id": "8d776ae3-462e-4f8f-8c0e-66207c8e321b",
   "metadata": {},
   "outputs": [],
   "source": []
  },
  {
   "cell_type": "code",
   "execution_count": null,
   "id": "690c48e0-02db-4ca9-999d-4dd8d88126f6",
   "metadata": {},
   "outputs": [],
   "source": [
    "Which bike names are priced significantly above the average price for their manufacturing year\n"
   ]
  },
  {
   "cell_type": "code",
   "execution_count": null,
   "id": "5b07818c-a50d-498f-bd37-38b13fe2cd63",
   "metadata": {},
   "outputs": [],
   "source": []
  },
  {
   "cell_type": "code",
   "execution_count": null,
   "id": "31d2496c-a464-42de-a8a2-89454370845f",
   "metadata": {},
   "outputs": [],
   "source": [
    "Develop a correlation matrix for numeric columns and visualize it using a heatmap."
   ]
  },
  {
   "cell_type": "code",
   "execution_count": 66,
   "id": "444d7095-a253-43af-a0b7-ec2f2514b293",
   "metadata": {},
   "outputs": [
    {
     "data": {
      "text/plain": [
       "<Axes: >"
      ]
     },
     "execution_count": 66,
     "metadata": {},
     "output_type": "execute_result"
    },
    {
     "data": {
      "image/png": "[encoded data removed]",
      "text/plain": [
       "<Figure size 640x480 with 2 Axes>"
      ]
     },
     "metadata": {},
     "output_type": "display_data"
    }
   ],
   "source": [
    "corr = bike.corr(numeric_only = True)\n",
    "sns.heatmap(corr, annot = True)"
   ]
  },
  {
   "cell_type": "markdown",
   "id": "5244feb7-aaf4-4378-ba24-aa12d17763fa",
   "metadata": {},
   "source": [
    "EDA - 2: Car Sales"
   ]
  },
  {
   "cell_type": "code",
   "execution_count": 42,
   "id": "5cbf38a2-91be-475e-a25f-91fc3f21cc56",
   "metadata": {},
   "outputs": [
    {
     "name": "stdout",
     "output_type": "stream",
     "text": [
      "<class 'pandas.core.frame.DataFrame'>\n",
      "RangeIndex: 23906 entries, 0 to 23905\n",
      "Data columns (total 16 columns):\n",
      " #   Column         Non-Null Count  Dtype \n",
      "---  ------         --------------  ----- \n",
      " 0   Car_id         23906 non-null  object\n",
      " 1   Date           23906 non-null  object\n",
      " 2   Customer Name  23905 non-null  object\n",
      " 3   Gender         23906 non-null  object\n",
      " 4   Annual Income  23906 non-null  int64 \n",
      " 5   Dealer_Name    23906 non-null  object\n",
      " 6   Company        23906 non-null  object\n",
      " 7   Model          23906 non-null  object\n",
      " 8   Engine         23906 non-null  object\n",
      " 9   Transmission   23906 non-null  object\n",
      " 10  Color          23906 non-null  object\n",
      " 11  Price ($)      23906 non-null  int64 \n",
      " 12  Dealer_No      23906 non-null  object\n",
      " 13  Body Style     23906 non-null  object\n",
      " 14  Phone          23906 non-null  int64 \n",
      " 15  Dealer_Region  23906 non-null  object\n",
      "dtypes: int64(3), object(13)\n",
      "memory usage: 2.9+ MB\n"
     ]
    }
   ],
   "source": [
    "car.info()"
   ]
  },
  {
   "cell_type": "code",
   "execution_count": 43,
   "id": "8fe934e5-4771-4677-a472-fcdc222b97df",
   "metadata": {},
   "outputs": [
    {
     "data": {
      "text/html": [
       "<div>\n",
       "<style scoped>\n",
       "    .dataframe tbody tr th:only-of-type {\n",
       "        vertical-align: middle;\n",
       "    }\n",
       "\n",
       "    .dataframe tbody tr th {\n",
       "        vertical-align: top;\n",
       "    }\n",
       "\n",
       "    .dataframe thead th {\n",
       "        text-align: right;\n",
       "    }\n",
       "</style>\n",
       "<table border=\"1\" class=\"dataframe\">\n",
       "  <thead>\n",
       "    <tr style=\"text-align: right;\">\n",
       "      <th></th>\n",
       "      <th>Annual Income</th>\n",
       "      <th>Price ($)</th>\n",
       "      <th>Phone</th>\n",
       "    </tr>\n",
       "  </thead>\n",
       "  <tbody>\n",
       "    <tr>\n",
       "      <th>count</th>\n",
       "      <td>2.390600e+04</td>\n",
       "      <td>23906.000000</td>\n",
       "      <td>2.390600e+04</td>\n",
       "    </tr>\n",
       "    <tr>\n",
       "      <th>mean</th>\n",
       "      <td>8.308403e+05</td>\n",
       "      <td>28090.247846</td>\n",
       "      <td>7.497741e+06</td>\n",
       "    </tr>\n",
       "    <tr>\n",
       "      <th>std</th>\n",
       "      <td>7.200064e+05</td>\n",
       "      <td>14788.687608</td>\n",
       "      <td>8.674920e+05</td>\n",
       "    </tr>\n",
       "    <tr>\n",
       "      <th>min</th>\n",
       "      <td>1.008000e+04</td>\n",
       "      <td>1200.000000</td>\n",
       "      <td>6.000101e+06</td>\n",
       "    </tr>\n",
       "    <tr>\n",
       "      <th>25%</th>\n",
       "      <td>3.860000e+05</td>\n",
       "      <td>18001.000000</td>\n",
       "      <td>6.746495e+06</td>\n",
       "    </tr>\n",
       "    <tr>\n",
       "      <th>50%</th>\n",
       "      <td>7.350000e+05</td>\n",
       "      <td>23000.000000</td>\n",
       "      <td>7.496198e+06</td>\n",
       "    </tr>\n",
       "    <tr>\n",
       "      <th>75%</th>\n",
       "      <td>1.175750e+06</td>\n",
       "      <td>34000.000000</td>\n",
       "      <td>8.248146e+06</td>\n",
       "    </tr>\n",
       "    <tr>\n",
       "      <th>max</th>\n",
       "      <td>1.120000e+07</td>\n",
       "      <td>85800.000000</td>\n",
       "      <td>8.999579e+06</td>\n",
       "    </tr>\n",
       "  </tbody>\n",
       "</table>\n",
       "</div>"
      ],
      "text/plain": [
       "       Annual Income     Price ($)         Phone\n",
       "count   2.390600e+04  23906.000000  2.390600e+04\n",
       "mean    8.308403e+05  28090.247846  7.497741e+06\n",
       "std     7.200064e+05  14788.687608  8.674920e+05\n",
       "min     1.008000e+04   1200.000000  6.000101e+06\n",
       "25%     3.860000e+05  18001.000000  6.746495e+06\n",
       "50%     7.350000e+05  23000.000000  7.496198e+06\n",
       "75%     1.175750e+06  34000.000000  8.248146e+06\n",
       "max     1.120000e+07  85800.000000  8.999579e+06"
      ]
     },
     "execution_count": 43,
     "metadata": {},
     "output_type": "execute_result"
    }
   ],
   "source": [
    "car.describe()"
   ]
  },
  {
   "cell_type": "code",
   "execution_count": 44,
   "id": "623562ac-f0eb-4505-90f5-a641ad5d9d43",
   "metadata": {},
   "outputs": [
    {
     "data": {
      "text/html": [
       "<div>\n",
       "<style scoped>\n",
       "    .dataframe tbody tr th:only-of-type {\n",
       "        vertical-align: middle;\n",
       "    }\n",
       "\n",
       "    .dataframe tbody tr th {\n",
       "        vertical-align: top;\n",
       "    }\n",
       "\n",
       "    .dataframe thead th {\n",
       "        text-align: right;\n",
       "    }\n",
       "</style>\n",
       "<table border=\"1\" class=\"dataframe\">\n",
       "  <thead>\n",
       "    <tr style=\"text-align: right;\">\n",
       "      <th></th>\n",
       "      <th>Car_id</th>\n",
       "      <th>Date</th>\n",
       "      <th>Customer Name</th>\n",
       "      <th>Gender</th>\n",
       "      <th>Annual Income</th>\n",
       "      <th>Dealer_Name</th>\n",
       "      <th>Company</th>\n",
       "      <th>Model</th>\n",
       "      <th>Engine</th>\n",
       "      <th>Transmission</th>\n",
       "      <th>Color</th>\n",
       "      <th>Price ($)</th>\n",
       "      <th>Dealer_No</th>\n",
       "      <th>Body Style</th>\n",
       "      <th>Phone</th>\n",
       "      <th>Dealer_Region</th>\n",
       "    </tr>\n",
       "  </thead>\n",
       "  <tbody>\n",
       "    <tr>\n",
       "      <th>0</th>\n",
       "      <td>C_CND_000001</td>\n",
       "      <td>1/2/2022</td>\n",
       "      <td>Geraldine</td>\n",
       "      <td>Male</td>\n",
       "      <td>13500</td>\n",
       "      <td>Buddy Storbeck's Diesel Service Inc</td>\n",
       "      <td>Ford</td>\n",
       "      <td>Expedition</td>\n",
       "      <td>DoubleÂ Overhead Camshaft</td>\n",
       "      <td>Auto</td>\n",
       "      <td>Black</td>\n",
       "      <td>26000</td>\n",
       "      <td>06457-3834</td>\n",
       "      <td>SUV</td>\n",
       "      <td>8264678</td>\n",
       "      <td>Middletown</td>\n",
       "    </tr>\n",
       "    <tr>\n",
       "      <th>1</th>\n",
       "      <td>C_CND_000002</td>\n",
       "      <td>1/2/2022</td>\n",
       "      <td>Gia</td>\n",
       "      <td>Male</td>\n",
       "      <td>1480000</td>\n",
       "      <td>C &amp; M Motors Inc</td>\n",
       "      <td>Dodge</td>\n",
       "      <td>Durango</td>\n",
       "      <td>DoubleÂ Overhead Camshaft</td>\n",
       "      <td>Auto</td>\n",
       "      <td>Black</td>\n",
       "      <td>19000</td>\n",
       "      <td>60504-7114</td>\n",
       "      <td>SUV</td>\n",
       "      <td>6848189</td>\n",
       "      <td>Aurora</td>\n",
       "    </tr>\n",
       "    <tr>\n",
       "      <th>2</th>\n",
       "      <td>C_CND_000003</td>\n",
       "      <td>1/2/2022</td>\n",
       "      <td>Gianna</td>\n",
       "      <td>Male</td>\n",
       "      <td>1035000</td>\n",
       "      <td>Capitol KIA</td>\n",
       "      <td>Cadillac</td>\n",
       "      <td>Eldorado</td>\n",
       "      <td>Overhead Camshaft</td>\n",
       "      <td>Manual</td>\n",
       "      <td>Red</td>\n",
       "      <td>31500</td>\n",
       "      <td>38701-8047</td>\n",
       "      <td>Passenger</td>\n",
       "      <td>7298798</td>\n",
       "      <td>Greenville</td>\n",
       "    </tr>\n",
       "    <tr>\n",
       "      <th>3</th>\n",
       "      <td>C_CND_000004</td>\n",
       "      <td>1/2/2022</td>\n",
       "      <td>Giselle</td>\n",
       "      <td>Male</td>\n",
       "      <td>13500</td>\n",
       "      <td>Chrysler of Tri-Cities</td>\n",
       "      <td>Toyota</td>\n",
       "      <td>Celica</td>\n",
       "      <td>Overhead Camshaft</td>\n",
       "      <td>Manual</td>\n",
       "      <td>Pale White</td>\n",
       "      <td>14000</td>\n",
       "      <td>99301-3882</td>\n",
       "      <td>SUV</td>\n",
       "      <td>6257557</td>\n",
       "      <td>Pasco</td>\n",
       "    </tr>\n",
       "    <tr>\n",
       "      <th>4</th>\n",
       "      <td>C_CND_000005</td>\n",
       "      <td>1/2/2022</td>\n",
       "      <td>Grace</td>\n",
       "      <td>Male</td>\n",
       "      <td>1465000</td>\n",
       "      <td>Chrysler Plymouth</td>\n",
       "      <td>Acura</td>\n",
       "      <td>TL</td>\n",
       "      <td>DoubleÂ Overhead Camshaft</td>\n",
       "      <td>Auto</td>\n",
       "      <td>Red</td>\n",
       "      <td>24500</td>\n",
       "      <td>53546-9427</td>\n",
       "      <td>Hatchback</td>\n",
       "      <td>7081483</td>\n",
       "      <td>Janesville</td>\n",
       "    </tr>\n",
       "    <tr>\n",
       "      <th>5</th>\n",
       "      <td>C_CND_000006</td>\n",
       "      <td>1/2/2022</td>\n",
       "      <td>Guadalupe</td>\n",
       "      <td>Male</td>\n",
       "      <td>850000</td>\n",
       "      <td>Classic Chevy</td>\n",
       "      <td>Mitsubishi</td>\n",
       "      <td>Diamante</td>\n",
       "      <td>Overhead Camshaft</td>\n",
       "      <td>Manual</td>\n",
       "      <td>Pale White</td>\n",
       "      <td>12000</td>\n",
       "      <td>85257-3102</td>\n",
       "      <td>Hatchback</td>\n",
       "      <td>7315216</td>\n",
       "      <td>Scottsdale</td>\n",
       "    </tr>\n",
       "    <tr>\n",
       "      <th>6</th>\n",
       "      <td>C_CND_000007</td>\n",
       "      <td>1/2/2022</td>\n",
       "      <td>Hailey</td>\n",
       "      <td>Male</td>\n",
       "      <td>1600000</td>\n",
       "      <td>Clay Johnson Auto Sales</td>\n",
       "      <td>Toyota</td>\n",
       "      <td>Corolla</td>\n",
       "      <td>Overhead Camshaft</td>\n",
       "      <td>Manual</td>\n",
       "      <td>Pale White</td>\n",
       "      <td>14000</td>\n",
       "      <td>78758-7841</td>\n",
       "      <td>Passenger</td>\n",
       "      <td>7727879</td>\n",
       "      <td>Austin</td>\n",
       "    </tr>\n",
       "    <tr>\n",
       "      <th>7</th>\n",
       "      <td>C_CND_000008</td>\n",
       "      <td>1/2/2022</td>\n",
       "      <td>Graham</td>\n",
       "      <td>Male</td>\n",
       "      <td>13500</td>\n",
       "      <td>U-Haul CO</td>\n",
       "      <td>Mitsubishi</td>\n",
       "      <td>Galant</td>\n",
       "      <td>DoubleÂ Overhead Camshaft</td>\n",
       "      <td>Auto</td>\n",
       "      <td>Pale White</td>\n",
       "      <td>42000</td>\n",
       "      <td>78758-7841</td>\n",
       "      <td>Passenger</td>\n",
       "      <td>6206512</td>\n",
       "      <td>Austin</td>\n",
       "    </tr>\n",
       "    <tr>\n",
       "      <th>8</th>\n",
       "      <td>C_CND_000009</td>\n",
       "      <td>1/2/2022</td>\n",
       "      <td>Naomi</td>\n",
       "      <td>Male</td>\n",
       "      <td>815000</td>\n",
       "      <td>Rabun Used Car Sales</td>\n",
       "      <td>Chevrolet</td>\n",
       "      <td>Malibu</td>\n",
       "      <td>Overhead Camshaft</td>\n",
       "      <td>Manual</td>\n",
       "      <td>Pale White</td>\n",
       "      <td>82000</td>\n",
       "      <td>85257-3102</td>\n",
       "      <td>Hardtop</td>\n",
       "      <td>7194857</td>\n",
       "      <td>Pasco</td>\n",
       "    </tr>\n",
       "    <tr>\n",
       "      <th>9</th>\n",
       "      <td>C_CND_000010</td>\n",
       "      <td>1/2/2022</td>\n",
       "      <td>Grayson</td>\n",
       "      <td>Female</td>\n",
       "      <td>13500</td>\n",
       "      <td>Rabun Used Car Sales</td>\n",
       "      <td>Ford</td>\n",
       "      <td>Escort</td>\n",
       "      <td>DoubleÂ Overhead Camshaft</td>\n",
       "      <td>Auto</td>\n",
       "      <td>Pale White</td>\n",
       "      <td>15000</td>\n",
       "      <td>85257-3102</td>\n",
       "      <td>Passenger</td>\n",
       "      <td>7836892</td>\n",
       "      <td>Scottsdale</td>\n",
       "    </tr>\n",
       "  </tbody>\n",
       "</table>\n",
       "</div>"
      ],
      "text/plain": [
       "         Car_id      Date Customer Name  Gender  Annual Income  \\\n",
       "0  C_CND_000001  1/2/2022     Geraldine    Male          13500   \n",
       "1  C_CND_000002  1/2/2022           Gia    Male        1480000   \n",
       "2  C_CND_000003  1/2/2022        Gianna    Male        1035000   \n",
       "3  C_CND_000004  1/2/2022       Giselle    Male          13500   \n",
       "4  C_CND_000005  1/2/2022         Grace    Male        1465000   \n",
       "5  C_CND_000006  1/2/2022     Guadalupe    Male         850000   \n",
       "6  C_CND_000007  1/2/2022        Hailey    Male        1600000   \n",
       "7  C_CND_000008  1/2/2022        Graham    Male          13500   \n",
       "8  C_CND_000009  1/2/2022         Naomi    Male         815000   \n",
       "9  C_CND_000010  1/2/2022       Grayson  Female          13500   \n",
       "\n",
       "                           Dealer_Name     Company       Model  \\\n",
       "0  Buddy Storbeck's Diesel Service Inc        Ford  Expedition   \n",
       "1                     C & M Motors Inc       Dodge     Durango   \n",
       "2                          Capitol KIA    Cadillac    Eldorado   \n",
       "3               Chrysler of Tri-Cities      Toyota      Celica   \n",
       "4                    Chrysler Plymouth       Acura          TL   \n",
       "5                        Classic Chevy  Mitsubishi    Diamante   \n",
       "6              Clay Johnson Auto Sales      Toyota     Corolla   \n",
       "7                            U-Haul CO  Mitsubishi      Galant   \n",
       "8                 Rabun Used Car Sales   Chevrolet      Malibu   \n",
       "9                 Rabun Used Car Sales        Ford      Escort   \n",
       "\n",
       "                      Engine Transmission       Color  Price ($)  Dealer_No   \\\n",
       "0  DoubleÂ Overhead Camshaft         Auto       Black      26000  06457-3834   \n",
       "1  DoubleÂ Overhead Camshaft         Auto       Black      19000  60504-7114   \n",
       "2          Overhead Camshaft       Manual         Red      31500  38701-8047   \n",
       "3          Overhead Camshaft       Manual  Pale White      14000  99301-3882   \n",
       "4  DoubleÂ Overhead Camshaft         Auto         Red      24500  53546-9427   \n",
       "5          Overhead Camshaft       Manual  Pale White      12000  85257-3102   \n",
       "6          Overhead Camshaft       Manual  Pale White      14000  78758-7841   \n",
       "7  DoubleÂ Overhead Camshaft         Auto  Pale White      42000  78758-7841   \n",
       "8          Overhead Camshaft       Manual  Pale White      82000  85257-3102   \n",
       "9  DoubleÂ Overhead Camshaft         Auto  Pale White      15000  85257-3102   \n",
       "\n",
       "  Body Style    Phone Dealer_Region  \n",
       "0        SUV  8264678    Middletown  \n",
       "1        SUV  6848189        Aurora  \n",
       "2  Passenger  7298798    Greenville  \n",
       "3        SUV  6257557         Pasco  \n",
       "4  Hatchback  7081483    Janesville  \n",
       "5  Hatchback  7315216    Scottsdale  \n",
       "6  Passenger  7727879        Austin  \n",
       "7  Passenger  6206512        Austin  \n",
       "8    Hardtop  7194857         Pasco  \n",
       "9  Passenger  7836892    Scottsdale  "
      ]
     },
     "execution_count": 44,
     "metadata": {},
     "output_type": "execute_result"
    }
   ],
   "source": [
    "car.head(10)"
   ]
  },
  {
   "cell_type": "code",
   "execution_count": null,
   "id": "3c1071fb-6e7d-4780-a020-61d0b8273286",
   "metadata": {},
   "outputs": [],
   "source": [
    "What is the average selling price of cars for each dealer, and how does it compare across different dealers"
   ]
  },
  {
   "cell_type": "code",
   "execution_count": 47,
   "id": "b9e21fad-7715-47fb-8450-8076f3147d20",
   "metadata": {},
   "outputs": [
    {
     "data": {
      "text/plain": [
       "<Axes: xlabel='Dealer_Name', ylabel='Price ($)'>"
      ]
     },
     "execution_count": 47,
     "metadata": {},
     "output_type": "execute_result"
    },
    {
     "data": {
      "image/png": "[encoded data removed]",
      "text/plain": [
       "<Figure size 640x480 with 1 Axes>"
      ]
     },
     "metadata": {},
     "output_type": "display_data"
    }
   ],
   "source": [
    "sns.barplot(y = \"Price ($)\", x = \"Dealer_Name\", data = car)\n",
    "sns.boxplot(y = \"Price ($)\", x = \"Dealer_Name\", data = car)"
   ]
  },
  {
   "cell_type": "code",
   "execution_count": null,
   "id": "5e8a45d4-21e2-4606-8400-c3f919e00909",
   "metadata": {},
   "outputs": [],
   "source": [
    "Which car brand (Company) has the highest variation in prices, and what does this tell us about the pricing \n",
    "trends"
   ]
  },
  {
   "cell_type": "code",
   "execution_count": 51,
   "id": "9afede44-9628-49ac-b635-92ff1b8f85fc",
   "metadata": {},
   "outputs": [
    {
     "data": {
      "text/plain": [
       "<Axes: xlabel='Company', ylabel='Price ($)'>"
      ]
     },
     "execution_count": 51,
     "metadata": {},
     "output_type": "execute_result"
    },
    {
     "data": {
      "image/png": "[encoded data removed]",
      "text/plain": [
       "<Figure size 640x480 with 1 Axes>"
      ]
     },
     "metadata": {},
     "output_type": "display_data"
    }
   ],
   "source": [
    "sns.barplot(y = \"Price ($)\", x = \"Company\", data = car)"
   ]
  },
  {
   "cell_type": "code",
   "execution_count": null,
   "id": "411eb0a3-9ca2-4b49-9b3f-bb014bd4eddb",
   "metadata": {},
   "outputs": [],
   "source": [
    "What is the distribution of car prices for each transmission type, and how do the interquartile ranges \n",
    "compare"
   ]
  },
  {
   "cell_type": "code",
   "execution_count": 87,
   "id": "29ee501f-839c-460a-b1fd-05894dad5847",
   "metadata": {},
   "outputs": [
    {
     "data": {
      "text/plain": [
       "<Axes: xlabel='Transmission', ylabel='Price ($)'>"
      ]
     },
     "execution_count": 87,
     "metadata": {},
     "output_type": "execute_result"
    },
    {
     "data": {
      "image/png": "[encoded data removed]",
      "text/plain": [
       "<Figure size 640x480 with 1 Axes>"
      ]
     },
     "metadata": {},
     "output_type": "display_data"
    }
   ],
   "source": [
    "sns.boxplot(y = \"Price ($)\", x = \"Transmission\", data = car)\n",
    "sns.barplot(y = \"Price ($)\", x = \"Transmission\", data = car)"
   ]
  },
  {
   "cell_type": "code",
   "execution_count": null,
   "id": "081ed5fb-5748-49c3-9c5d-8bb5a5e83430",
   "metadata": {},
   "outputs": [],
   "source": [
    "What is the distribution of car prices across different regions"
   ]
  },
  {
   "cell_type": "code",
   "execution_count": 89,
   "id": "9d2ad27b-1a61-45da-96f4-41bdbd88df53",
   "metadata": {},
   "outputs": [
    {
     "data": {
      "text/plain": [
       "<Axes: xlabel='Dealer_Region', ylabel='Price ($)'>"
      ]
     },
     "execution_count": 89,
     "metadata": {},
     "output_type": "execute_result"
    },
    {
     "data": {
      "image/png": "[encoded data removed]",
      "text/plain": [
       "<Figure size 640x480 with 1 Axes>"
      ]
     },
     "metadata": {},
     "output_type": "display_data"
    }
   ],
   "source": [
    "sns.boxplot(y = \"Price ($)\", x = \"Dealer_Region\", data = car)\n",
    "sns.barplot(y = \"Price ($)\", x = \"Dealer_Region\", data = car)"
   ]
  },
  {
   "cell_type": "code",
   "execution_count": null,
   "id": "6bedcfa2-3888-44c8-af60-12377e97f111",
   "metadata": {},
   "outputs": [],
   "source": [
    "What is the distribution of cars based on body styles"
   ]
  },
  {
   "cell_type": "code",
   "execution_count": 91,
   "id": "0f9c096b-e5f1-41b8-b030-abe887855287",
   "metadata": {},
   "outputs": [
    {
     "ename": "TypeError",
     "evalue": "Neither the `x` nor `y` variable appears to be numeric.",
     "output_type": "error",
     "traceback": [
      "\u001b[1;31m---------------------------------------------------------------------------\u001b[0m",
      "\u001b[1;31mTypeError\u001b[0m                                 Traceback (most recent call last)",
      "Cell \u001b[1;32mIn[91], line 1\u001b[0m\n\u001b[1;32m----> 1\u001b[0m sns\u001b[38;5;241m.\u001b[39mboxplot(y \u001b[38;5;241m=\u001b[39m \u001b[38;5;124m\"\u001b[39m\u001b[38;5;124mModel\u001b[39m\u001b[38;5;124m\"\u001b[39m, x \u001b[38;5;241m=\u001b[39m \u001b[38;5;124m\"\u001b[39m\u001b[38;5;124mBody Style\u001b[39m\u001b[38;5;124m\"\u001b[39m, data \u001b[38;5;241m=\u001b[39m car)\n\u001b[0;32m      2\u001b[0m sns\u001b[38;5;241m.\u001b[39mbarplot(y \u001b[38;5;241m=\u001b[39m \u001b[38;5;124m\"\u001b[39m\u001b[38;5;124mModel\u001b[39m\u001b[38;5;124m\"\u001b[39m, x \u001b[38;5;241m=\u001b[39m \u001b[38;5;124m\"\u001b[39m\u001b[38;5;124mBody Style\u001b[39m\u001b[38;5;124m\"\u001b[39m, data \u001b[38;5;241m=\u001b[39m car)\n",
      "File \u001b[1;32m~\\anaconda3\\Lib\\site-packages\\seaborn\\categorical.py:2231\u001b[0m, in \u001b[0;36mboxplot\u001b[1;34m(data, x, y, hue, order, hue_order, orient, color, palette, saturation, width, dodge, fliersize, linewidth, whis, ax, **kwargs)\u001b[0m\n\u001b[0;32m   2224\u001b[0m \u001b[38;5;28;01mdef\u001b[39;00m \u001b[38;5;21mboxplot\u001b[39m(\n\u001b[0;32m   2225\u001b[0m     data\u001b[38;5;241m=\u001b[39m\u001b[38;5;28;01mNone\u001b[39;00m, \u001b[38;5;241m*\u001b[39m, x\u001b[38;5;241m=\u001b[39m\u001b[38;5;28;01mNone\u001b[39;00m, y\u001b[38;5;241m=\u001b[39m\u001b[38;5;28;01mNone\u001b[39;00m, hue\u001b[38;5;241m=\u001b[39m\u001b[38;5;28;01mNone\u001b[39;00m, order\u001b[38;5;241m=\u001b[39m\u001b[38;5;28;01mNone\u001b[39;00m, hue_order\u001b[38;5;241m=\u001b[39m\u001b[38;5;28;01mNone\u001b[39;00m,\n\u001b[0;32m   2226\u001b[0m     orient\u001b[38;5;241m=\u001b[39m\u001b[38;5;28;01mNone\u001b[39;00m, color\u001b[38;5;241m=\u001b[39m\u001b[38;5;28;01mNone\u001b[39;00m, palette\u001b[38;5;241m=\u001b[39m\u001b[38;5;28;01mNone\u001b[39;00m, saturation\u001b[38;5;241m=\u001b[39m\u001b[38;5;241m.75\u001b[39m, width\u001b[38;5;241m=\u001b[39m\u001b[38;5;241m.8\u001b[39m,\n\u001b[0;32m   2227\u001b[0m     dodge\u001b[38;5;241m=\u001b[39m\u001b[38;5;28;01mTrue\u001b[39;00m, fliersize\u001b[38;5;241m=\u001b[39m\u001b[38;5;241m5\u001b[39m, linewidth\u001b[38;5;241m=\u001b[39m\u001b[38;5;28;01mNone\u001b[39;00m, whis\u001b[38;5;241m=\u001b[39m\u001b[38;5;241m1.5\u001b[39m, ax\u001b[38;5;241m=\u001b[39m\u001b[38;5;28;01mNone\u001b[39;00m,\n\u001b[0;32m   2228\u001b[0m     \u001b[38;5;241m*\u001b[39m\u001b[38;5;241m*\u001b[39mkwargs\n\u001b[0;32m   2229\u001b[0m ):\n\u001b[1;32m-> 2231\u001b[0m     plotter \u001b[38;5;241m=\u001b[39m _BoxPlotter(x, y, hue, data, order, hue_order,\n\u001b[0;32m   2232\u001b[0m                           orient, color, palette, saturation,\n\u001b[0;32m   2233\u001b[0m                           width, dodge, fliersize, linewidth)\n\u001b[0;32m   2235\u001b[0m     \u001b[38;5;28;01mif\u001b[39;00m ax \u001b[38;5;129;01mis\u001b[39;00m \u001b[38;5;28;01mNone\u001b[39;00m:\n\u001b[0;32m   2236\u001b[0m         ax \u001b[38;5;241m=\u001b[39m plt\u001b[38;5;241m.\u001b[39mgca()\n",
      "File \u001b[1;32m~\\anaconda3\\Lib\\site-packages\\seaborn\\categorical.py:785\u001b[0m, in \u001b[0;36m_BoxPlotter.__init__\u001b[1;34m(self, x, y, hue, data, order, hue_order, orient, color, palette, saturation, width, dodge, fliersize, linewidth)\u001b[0m\n\u001b[0;32m    781\u001b[0m \u001b[38;5;28;01mdef\u001b[39;00m \u001b[38;5;21m__init__\u001b[39m(\u001b[38;5;28mself\u001b[39m, x, y, hue, data, order, hue_order,\n\u001b[0;32m    782\u001b[0m              orient, color, palette, saturation,\n\u001b[0;32m    783\u001b[0m              width, dodge, fliersize, linewidth):\n\u001b[1;32m--> 785\u001b[0m     \u001b[38;5;28mself\u001b[39m\u001b[38;5;241m.\u001b[39mestablish_variables(x, y, hue, data, orient, order, hue_order)\n\u001b[0;32m    786\u001b[0m     \u001b[38;5;28mself\u001b[39m\u001b[38;5;241m.\u001b[39mestablish_colors(color, palette, saturation)\n\u001b[0;32m    788\u001b[0m     \u001b[38;5;28mself\u001b[39m\u001b[38;5;241m.\u001b[39mdodge \u001b[38;5;241m=\u001b[39m dodge\n",
      "File \u001b[1;32m~\\anaconda3\\Lib\\site-packages\\seaborn\\categorical.py:544\u001b[0m, in \u001b[0;36m_CategoricalPlotter.establish_variables\u001b[1;34m(self, x, y, hue, data, orient, order, hue_order, units)\u001b[0m\n\u001b[0;32m    541\u001b[0m         \u001b[38;5;28;01mraise\u001b[39;00m \u001b[38;5;167;01mValueError\u001b[39;00m(err)\n\u001b[0;32m    543\u001b[0m \u001b[38;5;66;03m# Figure out the plotting orientation\u001b[39;00m\n\u001b[1;32m--> 544\u001b[0m orient \u001b[38;5;241m=\u001b[39m infer_orient(\n\u001b[0;32m    545\u001b[0m     x, y, orient, require_numeric\u001b[38;5;241m=\u001b[39m\u001b[38;5;28mself\u001b[39m\u001b[38;5;241m.\u001b[39mrequire_numeric\n\u001b[0;32m    546\u001b[0m )\n\u001b[0;32m    548\u001b[0m \u001b[38;5;66;03m# Option 2a:\u001b[39;00m\n\u001b[0;32m    549\u001b[0m \u001b[38;5;66;03m# We are plotting a single set of data\u001b[39;00m\n\u001b[0;32m    550\u001b[0m \u001b[38;5;66;03m# ------------------------------------\u001b[39;00m\n\u001b[0;32m    551\u001b[0m \u001b[38;5;28;01mif\u001b[39;00m x \u001b[38;5;129;01mis\u001b[39;00m \u001b[38;5;28;01mNone\u001b[39;00m \u001b[38;5;129;01mor\u001b[39;00m y \u001b[38;5;129;01mis\u001b[39;00m \u001b[38;5;28;01mNone\u001b[39;00m:\n\u001b[0;32m    552\u001b[0m \n\u001b[0;32m    553\u001b[0m     \u001b[38;5;66;03m# Determine where the data are\u001b[39;00m\n",
      "File \u001b[1;32m~\\anaconda3\\Lib\\site-packages\\seaborn\\_oldcore.py:1632\u001b[0m, in \u001b[0;36minfer_orient\u001b[1;34m(x, y, orient, require_numeric)\u001b[0m\n\u001b[0;32m   1630\u001b[0m \u001b[38;5;28;01melif\u001b[39;00m require_numeric \u001b[38;5;129;01mand\u001b[39;00m \u001b[38;5;124m\"\u001b[39m\u001b[38;5;124mnumeric\u001b[39m\u001b[38;5;124m\"\u001b[39m \u001b[38;5;129;01mnot\u001b[39;00m \u001b[38;5;129;01min\u001b[39;00m (x_type, y_type):\n\u001b[0;32m   1631\u001b[0m     err \u001b[38;5;241m=\u001b[39m \u001b[38;5;124m\"\u001b[39m\u001b[38;5;124mNeither the `x` nor `y` variable appears to be numeric.\u001b[39m\u001b[38;5;124m\"\u001b[39m\n\u001b[1;32m-> 1632\u001b[0m     \u001b[38;5;28;01mraise\u001b[39;00m \u001b[38;5;167;01mTypeError\u001b[39;00m(err)\n\u001b[0;32m   1634\u001b[0m \u001b[38;5;28;01melse\u001b[39;00m:\n\u001b[0;32m   1635\u001b[0m     \u001b[38;5;28;01mreturn\u001b[39;00m \u001b[38;5;124m\"\u001b[39m\u001b[38;5;124mv\u001b[39m\u001b[38;5;124m\"\u001b[39m\n",
      "\u001b[1;31mTypeError\u001b[0m: Neither the `x` nor `y` variable appears to be numeric."
     ]
    }
   ],
   "source": [
    "sns.boxplot(y = \"Model\", x = \"Body Style\", data = car)\n",
    "sns.barplot(y = \"Model\", x = \"Body Style\", data = car)"
   ]
  },
  {
   "cell_type": "code",
   "execution_count": null,
   "id": "aea11887-434f-4c53-ac00-aa2ac701b399",
   "metadata": {},
   "outputs": [],
   "source": [
    "How does the average selling price of cars vary by customer gender and annual income"
   ]
  },
  {
   "cell_type": "code",
   "execution_count": null,
   "id": "fdc9a946-d684-422a-a4e5-8c6fbc7ea8ce",
   "metadata": {},
   "outputs": [],
   "source": []
  },
  {
   "cell_type": "code",
   "execution_count": null,
   "id": "6cb26fd6-dd9b-4cd4-ac22-e45ba03eaa88",
   "metadata": {},
   "outputs": [],
   "source": [
    "What is the distribution of car prices by region, and how does the number of cars sold vary by region"
   ]
  },
  {
   "cell_type": "code",
   "execution_count": null,
   "id": "97a22b4a-25c4-41fe-b568-7ffcf2c3da1d",
   "metadata": {},
   "outputs": [],
   "source": []
  },
  {
   "cell_type": "code",
   "execution_count": null,
   "id": "9f2722e6-a0f2-425b-8717-c8b207c700a0",
   "metadata": {},
   "outputs": [],
   "source": [
    "How does the average car price differ between cars with different engine sizes"
   ]
  },
  {
   "cell_type": "code",
   "execution_count": 94,
   "id": "25789606-2c41-4100-84dc-5afe30903221",
   "metadata": {},
   "outputs": [
    {
     "name": "stdout",
     "output_type": "stream",
     "text": [
      "The median selling prices for car in the dataset is  23000.0\n"
     ]
    },
    {
     "data": {
      "text/plain": [
       "<Axes: xlabel='Engine', ylabel='Price ($)'>"
      ]
     },
     "execution_count": 94,
     "metadata": {},
     "output_type": "execute_result"
    },
    {
     "data": {
      "image/png": "[encoded data removed]",
      "text/plain": [
       "<Figure size 640x480 with 1 Axes>"
      ]
     },
     "metadata": {},
     "output_type": "display_data"
    }
   ],
   "source": [
    "med = car[\"Price ($)\"].median()\n",
    "print(\"The median selling prices for car in the dataset is \", med)\n",
    "sns.barplot(y = \"Price ($)\", x = \"Engine\", data = car)\n",
    "sns.boxplot(y = \"Price ($)\", x = \"Engine\", data = car)"
   ]
  },
  {
   "cell_type": "code",
   "execution_count": null,
   "id": "c4fc257f-ec62-4d2a-a009-65f06093874e",
   "metadata": {},
   "outputs": [],
   "source": [
    "How do car prices vary based on the customer’s annual income bracket"
   ]
  },
  {
   "cell_type": "code",
   "execution_count": 96,
   "id": "776ef825-b070-47c0-9d54-e330f8fa46ed",
   "metadata": {},
   "outputs": [
    {
     "name": "stdout",
     "output_type": "stream",
     "text": [
      "Correlation matrix is : \n",
      "               Price ($)  Annual Income\n",
      "Price ($)       1.000000       0.012065\n",
      "Annual Income   0.012065       1.000000\n"
     ]
    }
   ],
   "source": [
    "dataframe = pd.DataFrame(car, columns=['Price ($)', 'Annual Income'])\n",
    "matrix = dataframe.corr()\n",
    "print(\"Correlation matrix is : \")\n",
    "print(matrix)"
   ]
  },
  {
   "cell_type": "code",
   "execution_count": null,
   "id": "df834c3a-d74e-40c5-82a5-353aca2dadb7",
   "metadata": {},
   "outputs": [],
   "source": [
    "What are the top 5 car models with the highest number of sales, and how does their price distribution look"
   ]
  },
  {
   "cell_type": "code",
   "execution_count": null,
   "id": "f9254535-bdc5-4027-a470-23928b6e8687",
   "metadata": {},
   "outputs": [],
   "source": [
    "# Sort the rows of dataframe by 'Name' column \n",
    "rslt_df = spotify.sort_values(by = '') \n",
    "  \n",
    "# show the resultant Dataframe \n",
    "rslt_df.head(5)"
   ]
  },
  {
   "cell_type": "code",
   "execution_count": null,
   "id": "761ab02b-b8c4-4fa8-9c5e-4f67d5c235aa",
   "metadata": {},
   "outputs": [],
   "source": [
    "How does car price vary with engine size across different car colors, and which colors have the highest price \n",
    "variation"
   ]
  },
  {
   "cell_type": "code",
   "execution_count": null,
   "id": "b3c71bb8-1441-48a7-9ad8-efc40f4351af",
   "metadata": {},
   "outputs": [],
   "source": []
  },
  {
   "cell_type": "code",
   "execution_count": null,
   "id": "d1f1c017-6468-43e9-aafe-1bd67d2667a5",
   "metadata": {},
   "outputs": [],
   "source": [
    "Is there any seasonal trend in car sales based on the date of sale"
   ]
  },
  {
   "cell_type": "code",
   "execution_count": null,
   "id": "804b4994-0615-40eb-bbac-1b89f4ef9b5d",
   "metadata": {},
   "outputs": [],
   "source": []
  },
  {
   "cell_type": "code",
   "execution_count": null,
   "id": "3cb65c4c-f598-434e-abee-eff85833be2d",
   "metadata": {},
   "outputs": [],
   "source": [
    "How does the car price distribution change when considering different combinations of body style and \n",
    "transmission type"
   ]
  },
  {
   "cell_type": "code",
   "execution_count": null,
   "id": "921efe6a-5fe5-48e1-ba6f-40faf1863c12",
   "metadata": {},
   "outputs": [],
   "source": []
  },
  {
   "cell_type": "code",
   "execution_count": null,
   "id": "85fa7a16-a735-4dcb-9fe1-9dd6f0564077",
   "metadata": {},
   "outputs": [],
   "source": [
    "What is the correlation between car price, engine size, and annual income of customers, and how do these \n",
    "features interact"
   ]
  },
  {
   "cell_type": "code",
   "execution_count": 84,
   "id": "b4e7a965-d661-42c2-be35-676823a24078",
   "metadata": {},
   "outputs": [
    {
     "name": "stdout",
     "output_type": "stream",
     "text": [
      "Correlation matrix is : \n",
      "               Price ($)  Engine_1  Annual Income\n",
      "Price ($)       1.000000       NaN       0.012065\n",
      "Engine_1             NaN       NaN            NaN\n",
      "Annual Income   0.012065       NaN       1.000000\n"
     ]
    },
    {
     "data": {
      "text/html": [
       "<div>\n",
       "<style scoped>\n",
       "    .dataframe tbody tr th:only-of-type {\n",
       "        vertical-align: middle;\n",
       "    }\n",
       "\n",
       "    .dataframe tbody tr th {\n",
       "        vertical-align: top;\n",
       "    }\n",
       "\n",
       "    .dataframe thead th {\n",
       "        text-align: right;\n",
       "    }\n",
       "</style>\n",
       "<table border=\"1\" class=\"dataframe\">\n",
       "  <thead>\n",
       "    <tr style=\"text-align: right;\">\n",
       "      <th></th>\n",
       "      <th>Car_id</th>\n",
       "      <th>Date</th>\n",
       "      <th>Customer Name</th>\n",
       "      <th>Gender</th>\n",
       "      <th>Annual Income</th>\n",
       "      <th>Dealer_Name</th>\n",
       "      <th>Company</th>\n",
       "      <th>Model</th>\n",
       "      <th>Engine</th>\n",
       "      <th>Transmission</th>\n",
       "      <th>Color</th>\n",
       "      <th>Price ($)</th>\n",
       "      <th>Dealer_No</th>\n",
       "      <th>Body Style</th>\n",
       "      <th>Phone</th>\n",
       "      <th>Dealer_Region</th>\n",
       "      <th>Engine_1</th>\n",
       "    </tr>\n",
       "  </thead>\n",
       "  <tbody>\n",
       "    <tr>\n",
       "      <th>0</th>\n",
       "      <td>C_CND_000001</td>\n",
       "      <td>1/2/2022</td>\n",
       "      <td>Geraldine</td>\n",
       "      <td>Male</td>\n",
       "      <td>13500</td>\n",
       "      <td>Buddy Storbeck's Diesel Service Inc</td>\n",
       "      <td>Ford</td>\n",
       "      <td>Expedition</td>\n",
       "      <td>DoubleÂ Overhead Camshaft</td>\n",
       "      <td>Auto</td>\n",
       "      <td>Black</td>\n",
       "      <td>26000</td>\n",
       "      <td>06457-3834</td>\n",
       "      <td>SUV</td>\n",
       "      <td>8264678</td>\n",
       "      <td>Middletown</td>\n",
       "      <td>None</td>\n",
       "    </tr>\n",
       "    <tr>\n",
       "      <th>1</th>\n",
       "      <td>C_CND_000002</td>\n",
       "      <td>1/2/2022</td>\n",
       "      <td>Gia</td>\n",
       "      <td>Male</td>\n",
       "      <td>1480000</td>\n",
       "      <td>C &amp; M Motors Inc</td>\n",
       "      <td>Dodge</td>\n",
       "      <td>Durango</td>\n",
       "      <td>DoubleÂ Overhead Camshaft</td>\n",
       "      <td>Auto</td>\n",
       "      <td>Black</td>\n",
       "      <td>19000</td>\n",
       "      <td>60504-7114</td>\n",
       "      <td>SUV</td>\n",
       "      <td>6848189</td>\n",
       "      <td>Aurora</td>\n",
       "      <td>None</td>\n",
       "    </tr>\n",
       "    <tr>\n",
       "      <th>2</th>\n",
       "      <td>C_CND_000003</td>\n",
       "      <td>1/2/2022</td>\n",
       "      <td>Gianna</td>\n",
       "      <td>Male</td>\n",
       "      <td>1035000</td>\n",
       "      <td>Capitol KIA</td>\n",
       "      <td>Cadillac</td>\n",
       "      <td>Eldorado</td>\n",
       "      <td>0</td>\n",
       "      <td>Manual</td>\n",
       "      <td>Red</td>\n",
       "      <td>31500</td>\n",
       "      <td>38701-8047</td>\n",
       "      <td>Passenger</td>\n",
       "      <td>7298798</td>\n",
       "      <td>Greenville</td>\n",
       "      <td>None</td>\n",
       "    </tr>\n",
       "    <tr>\n",
       "      <th>3</th>\n",
       "      <td>C_CND_000004</td>\n",
       "      <td>1/2/2022</td>\n",
       "      <td>Giselle</td>\n",
       "      <td>Male</td>\n",
       "      <td>13500</td>\n",
       "      <td>Chrysler of Tri-Cities</td>\n",
       "      <td>Toyota</td>\n",
       "      <td>Celica</td>\n",
       "      <td>0</td>\n",
       "      <td>Manual</td>\n",
       "      <td>Pale White</td>\n",
       "      <td>14000</td>\n",
       "      <td>99301-3882</td>\n",
       "      <td>SUV</td>\n",
       "      <td>6257557</td>\n",
       "      <td>Pasco</td>\n",
       "      <td>None</td>\n",
       "    </tr>\n",
       "    <tr>\n",
       "      <th>4</th>\n",
       "      <td>C_CND_000005</td>\n",
       "      <td>1/2/2022</td>\n",
       "      <td>Grace</td>\n",
       "      <td>Male</td>\n",
       "      <td>1465000</td>\n",
       "      <td>Chrysler Plymouth</td>\n",
       "      <td>Acura</td>\n",
       "      <td>TL</td>\n",
       "      <td>DoubleÂ Overhead Camshaft</td>\n",
       "      <td>Auto</td>\n",
       "      <td>Red</td>\n",
       "      <td>24500</td>\n",
       "      <td>53546-9427</td>\n",
       "      <td>Hatchback</td>\n",
       "      <td>7081483</td>\n",
       "      <td>Janesville</td>\n",
       "      <td>None</td>\n",
       "    </tr>\n",
       "    <tr>\n",
       "      <th>5</th>\n",
       "      <td>C_CND_000006</td>\n",
       "      <td>1/2/2022</td>\n",
       "      <td>Guadalupe</td>\n",
       "      <td>Male</td>\n",
       "      <td>850000</td>\n",
       "      <td>Classic Chevy</td>\n",
       "      <td>Mitsubishi</td>\n",
       "      <td>Diamante</td>\n",
       "      <td>0</td>\n",
       "      <td>Manual</td>\n",
       "      <td>Pale White</td>\n",
       "      <td>12000</td>\n",
       "      <td>85257-3102</td>\n",
       "      <td>Hatchback</td>\n",
       "      <td>7315216</td>\n",
       "      <td>Scottsdale</td>\n",
       "      <td>None</td>\n",
       "    </tr>\n",
       "    <tr>\n",
       "      <th>6</th>\n",
       "      <td>C_CND_000007</td>\n",
       "      <td>1/2/2022</td>\n",
       "      <td>Hailey</td>\n",
       "      <td>Male</td>\n",
       "      <td>1600000</td>\n",
       "      <td>Clay Johnson Auto Sales</td>\n",
       "      <td>Toyota</td>\n",
       "      <td>Corolla</td>\n",
       "      <td>0</td>\n",
       "      <td>Manual</td>\n",
       "      <td>Pale White</td>\n",
       "      <td>14000</td>\n",
       "      <td>78758-7841</td>\n",
       "      <td>Passenger</td>\n",
       "      <td>7727879</td>\n",
       "      <td>Austin</td>\n",
       "      <td>None</td>\n",
       "    </tr>\n",
       "    <tr>\n",
       "      <th>7</th>\n",
       "      <td>C_CND_000008</td>\n",
       "      <td>1/2/2022</td>\n",
       "      <td>Graham</td>\n",
       "      <td>Male</td>\n",
       "      <td>13500</td>\n",
       "      <td>U-Haul CO</td>\n",
       "      <td>Mitsubishi</td>\n",
       "      <td>Galant</td>\n",
       "      <td>DoubleÂ Overhead Camshaft</td>\n",
       "      <td>Auto</td>\n",
       "      <td>Pale White</td>\n",
       "      <td>42000</td>\n",
       "      <td>78758-7841</td>\n",
       "      <td>Passenger</td>\n",
       "      <td>6206512</td>\n",
       "      <td>Austin</td>\n",
       "      <td>None</td>\n",
       "    </tr>\n",
       "    <tr>\n",
       "      <th>8</th>\n",
       "      <td>C_CND_000009</td>\n",
       "      <td>1/2/2022</td>\n",
       "      <td>Naomi</td>\n",
       "      <td>Male</td>\n",
       "      <td>815000</td>\n",
       "      <td>Rabun Used Car Sales</td>\n",
       "      <td>Chevrolet</td>\n",
       "      <td>Malibu</td>\n",
       "      <td>0</td>\n",
       "      <td>Manual</td>\n",
       "      <td>Pale White</td>\n",
       "      <td>82000</td>\n",
       "      <td>85257-3102</td>\n",
       "      <td>Hardtop</td>\n",
       "      <td>7194857</td>\n",
       "      <td>Pasco</td>\n",
       "      <td>None</td>\n",
       "    </tr>\n",
       "    <tr>\n",
       "      <th>9</th>\n",
       "      <td>C_CND_000010</td>\n",
       "      <td>1/2/2022</td>\n",
       "      <td>Grayson</td>\n",
       "      <td>Female</td>\n",
       "      <td>13500</td>\n",
       "      <td>Rabun Used Car Sales</td>\n",
       "      <td>Ford</td>\n",
       "      <td>Escort</td>\n",
       "      <td>DoubleÂ Overhead Camshaft</td>\n",
       "      <td>Auto</td>\n",
       "      <td>Pale White</td>\n",
       "      <td>15000</td>\n",
       "      <td>85257-3102</td>\n",
       "      <td>Passenger</td>\n",
       "      <td>7836892</td>\n",
       "      <td>Scottsdale</td>\n",
       "      <td>None</td>\n",
       "    </tr>\n",
       "  </tbody>\n",
       "</table>\n",
       "</div>"
      ],
      "text/plain": [
       "         Car_id      Date Customer Name  Gender  Annual Income  \\\n",
       "0  C_CND_000001  1/2/2022     Geraldine    Male          13500   \n",
       "1  C_CND_000002  1/2/2022           Gia    Male        1480000   \n",
       "2  C_CND_000003  1/2/2022        Gianna    Male        1035000   \n",
       "3  C_CND_000004  1/2/2022       Giselle    Male          13500   \n",
       "4  C_CND_000005  1/2/2022         Grace    Male        1465000   \n",
       "5  C_CND_000006  1/2/2022     Guadalupe    Male         850000   \n",
       "6  C_CND_000007  1/2/2022        Hailey    Male        1600000   \n",
       "7  C_CND_000008  1/2/2022        Graham    Male          13500   \n",
       "8  C_CND_000009  1/2/2022         Naomi    Male         815000   \n",
       "9  C_CND_000010  1/2/2022       Grayson  Female          13500   \n",
       "\n",
       "                           Dealer_Name     Company       Model  \\\n",
       "0  Buddy Storbeck's Diesel Service Inc        Ford  Expedition   \n",
       "1                     C & M Motors Inc       Dodge     Durango   \n",
       "2                          Capitol KIA    Cadillac    Eldorado   \n",
       "3               Chrysler of Tri-Cities      Toyota      Celica   \n",
       "4                    Chrysler Plymouth       Acura          TL   \n",
       "5                        Classic Chevy  Mitsubishi    Diamante   \n",
       "6              Clay Johnson Auto Sales      Toyota     Corolla   \n",
       "7                            U-Haul CO  Mitsubishi      Galant   \n",
       "8                 Rabun Used Car Sales   Chevrolet      Malibu   \n",
       "9                 Rabun Used Car Sales        Ford      Escort   \n",
       "\n",
       "                      Engine Transmission       Color  Price ($)  Dealer_No   \\\n",
       "0  DoubleÂ Overhead Camshaft         Auto       Black      26000  06457-3834   \n",
       "1  DoubleÂ Overhead Camshaft         Auto       Black      19000  60504-7114   \n",
       "2                          0       Manual         Red      31500  38701-8047   \n",
       "3                          0       Manual  Pale White      14000  99301-3882   \n",
       "4  DoubleÂ Overhead Camshaft         Auto         Red      24500  53546-9427   \n",
       "5                          0       Manual  Pale White      12000  85257-3102   \n",
       "6                          0       Manual  Pale White      14000  78758-7841   \n",
       "7  DoubleÂ Overhead Camshaft         Auto  Pale White      42000  78758-7841   \n",
       "8                          0       Manual  Pale White      82000  85257-3102   \n",
       "9  DoubleÂ Overhead Camshaft         Auto  Pale White      15000  85257-3102   \n",
       "\n",
       "  Body Style    Phone Dealer_Region Engine_1  \n",
       "0        SUV  8264678    Middletown     None  \n",
       "1        SUV  6848189        Aurora     None  \n",
       "2  Passenger  7298798    Greenville     None  \n",
       "3        SUV  6257557         Pasco     None  \n",
       "4  Hatchback  7081483    Janesville     None  \n",
       "5  Hatchback  7315216    Scottsdale     None  \n",
       "6  Passenger  7727879        Austin     None  \n",
       "7  Passenger  6206512        Austin     None  \n",
       "8    Hardtop  7194857         Pasco     None  \n",
       "9  Passenger  7836892    Scottsdale     None  "
      ]
     },
     "execution_count": 84,
     "metadata": {},
     "output_type": "execute_result"
    }
   ],
   "source": [
    "car['Engine'].replace(['Overhead Camshaft', ' D*'],\n",
    "                        [0, 1], inplace=True)\n",
    "dataframe = pd.DataFrame(car, columns=['Price ($)', 'Engine_1', 'Annual Income'])\n",
    "matrix = dataframe.corr()\n",
    "print(\"Correlation matrix is : \")\n",
    "print(matrix)\n",
    "car.head(10)"
   ]
  },
  {
   "cell_type": "code",
   "execution_count": null,
   "id": "d92caa7a-7e16-4a7a-b861-cbb6f3bc84a3",
   "metadata": {},
   "outputs": [],
   "source": [
    "How does the average car price vary across different car models and engine types?"
   ]
  },
  {
   "cell_type": "code",
   "execution_count": 95,
   "id": "cba79ff1-8562-42e0-a873-4654e0da2ff8",
   "metadata": {},
   "outputs": [
    {
     "data": {
      "text/plain": [
       "<Axes: xlabel='Engine', ylabel='Price ($)'>"
      ]
     },
     "execution_count": 95,
     "metadata": {},
     "output_type": "execute_result"
    },
    {
     "data": {
      "image/png": "[encoded data removed]",
      "text/plain": [
       "<Figure size 640x480 with 1 Axes>"
      ]
     },
     "metadata": {},
     "output_type": "display_data"
    }
   ],
   "source": [
    "sns.barplot(y = \"Price ($)\", x = \"Model\", data = car)\n",
    "sns.boxplot(y = \"Price ($)\", x = \"Model\", data = car)\n",
    "sns.barplot(y = \"Price ($)\", x = \"Engine\", data = car)\n",
    "sns.boxplot(y = \"Price ($)\", x = \"Engine\", data = car)"
   ]
  },
  {
   "cell_type": "code",
   "execution_count": null,
   "id": "95a6f77f-ee1b-4531-81fc-af00527bc56f",
   "metadata": {},
   "outputs": [],
   "source": []
  },
  {
   "cell_type": "code",
   "execution_count": 104,
   "id": "0ab9c231-7e29-41cb-95e2-b63edff8689f",
   "metadata": {},
   "outputs": [
    {
     "name": "stdout",
     "output_type": "stream",
     "text": [
      "<class 'pandas.core.frame.DataFrame'>\n",
      "RangeIndex: 1465 entries, 0 to 1464\n",
      "Data columns (total 16 columns):\n",
      " #   Column               Non-Null Count  Dtype \n",
      "---  ------               --------------  ----- \n",
      " 0   product_id           1465 non-null   object\n",
      " 1   product_name         1465 non-null   object\n",
      " 2   category             1465 non-null   object\n",
      " 3   discounted_price     1465 non-null   object\n",
      " 4   actual_price         1465 non-null   object\n",
      " 5   discount_percentage  1465 non-null   object\n",
      " 6   rating               1465 non-null   object\n",
      " 7   rating_count         1463 non-null   object\n",
      " 8   about_product        1465 non-null   object\n",
      " 9   user_id              1465 non-null   object\n",
      " 10  user_name            1465 non-null   object\n",
      " 11  review_id            1465 non-null   object\n",
      " 12  review_title         1465 non-null   object\n",
      " 13  review_content       1465 non-null   object\n",
      " 14  img_link             1465 non-null   object\n",
      " 15  product_link         1465 non-null   object\n",
      "dtypes: object(16)\n",
      "memory usage: 183.3+ KB\n"
     ]
    }
   ],
   "source": [
    "#EDA - 3: Amazon Sales Data\n",
    "amazon.info()"
   ]
  },
  {
   "cell_type": "code",
   "execution_count": null,
   "id": "2bab487b-f85a-405f-9ef2-98d5378f0138",
   "metadata": {},
   "outputs": [],
   "source": [
    "What is the average rating for each product category"
   ]
  },
  {
   "cell_type": "code",
   "execution_count": 134,
   "id": "3b05d85d-9eae-4af4-bdf7-161575418599",
   "metadata": {},
   "outputs": [
    {
     "data": {
      "text/plain": [
       "<Axes: xlabel='category', ylabel='rating'>"
      ]
     },
     "execution_count": 134,
     "metadata": {},
     "output_type": "execute_result"
    },
    {
     "data": {
      "image/png": "[encoded data removed]",
      "text/plain": [
       "<Figure size 640x480 with 1 Axes>"
      ]
     },
     "metadata": {},
     "output_type": "display_data"
    }
   ],
   "source": [
    "amazon[\"rating\"] = pd.DataFrame(amazon[\"rating\"].str.replace(\"|\",\"0\").astype(float))\n",
    "#amazon[\"rating\"] = pd.DataFrame(amazon[\"rating\"].str.replace(\"|\",\"\"))\n",
    "sns.barplot(y = \"rating\", x = \"category\", data = amazon)\n",
    "sns.barplot(y = \"rating\", x = \"category\", data = amazon)"
   ]
  },
  {
   "cell_type": "code",
   "execution_count": null,
   "id": "aa8f10c2-bd78-4689-9838-21010c4462bd",
   "metadata": {},
   "outputs": [],
   "source": [
    "What are the top rating_count products by category"
   ]
  },
  {
   "cell_type": "code",
   "execution_count": null,
   "id": "5e5aba9a-ce3e-40ca-ae0e-c4844b6e3184",
   "metadata": {},
   "outputs": [],
   "source": [
    "table = pd.pivot_table(bike, values='seller_type', index='name', aggfunc=\"count\")"
   ]
  },
  {
   "cell_type": "code",
   "execution_count": null,
   "id": "8877c5c8-7b9c-4f8d-9a0e-e9f3a8ffcd6f",
   "metadata": {},
   "outputs": [],
   "source": [
    "What is the distribution of discounted prices vs. actual prices"
   ]
  },
  {
   "cell_type": "code",
   "execution_count": 125,
   "id": "848708f6-9382-4f04-86d7-e9b28dfa6acb",
   "metadata": {},
   "outputs": [
    {
     "data": {
      "text/plain": [
       "<Axes: xlabel='actual_price', ylabel='discounted_price'>"
      ]
     },
     "execution_count": 125,
     "metadata": {},
     "output_type": "execute_result"
    },
    {
     "data": {
      "image/png": "[encoded data removed]",
      "text/plain": [
       "<Figure size 640x480 with 1 Axes>"
      ]
     },
     "metadata": {},
     "output_type": "display_data"
    }
   ],
   "source": [
    "amazon['discounted_price'].corr(amazon['actual_price'])\n",
    "sns.barplot(y = \"discounted_price\", x = \"actual_price\", data = amazon)\n",
    "#sns.barplot(y = \"discounted_price\", x = \"actual_price\", data = amazon)"
   ]
  },
  {
   "cell_type": "code",
   "execution_count": null,
   "id": "766b06d3-5cf9-4702-8115-22e0e0e21ef2",
   "metadata": {},
   "outputs": [],
   "source": [
    "How does the average discount percentage vary across categories"
   ]
  },
  {
   "cell_type": "code",
   "execution_count": 131,
   "id": "a388919a-6639-45e1-8aa3-c8cd5d16b662",
   "metadata": {},
   "outputs": [
    {
     "data": {
      "text/plain": [
       "<Axes: xlabel='category', ylabel='discount_percentage'>"
      ]
     },
     "execution_count": 131,
     "metadata": {},
     "output_type": "execute_result"
    },
    {
     "data": {
      "image/png": "[encoded data removed]",
      "text/plain": [
       "<Figure size 640x480 with 1 Axes>"
      ]
     },
     "metadata": {},
     "output_type": "display_data"
    }
   ],
   "source": [
    "sns.barplot(y = \"discount_percentage\", x = \"category\", data = amazon)"
   ]
  },
  {
   "cell_type": "code",
   "execution_count": null,
   "id": "7a0e7f7d-7236-4257-981e-5aa244851d38",
   "metadata": {},
   "outputs": [],
   "source": [
    "What are the most popular product names"
   ]
  },
  {
   "cell_type": "code",
   "execution_count": null,
   "id": "87531d33-1bfc-405e-9b00-f88c0709c77b",
   "metadata": {},
   "outputs": [],
   "source": []
  },
  {
   "cell_type": "code",
   "execution_count": null,
   "id": "5e735142-3b35-437b-890e-ff25c1ccf74f",
   "metadata": {},
   "outputs": [],
   "source": [
    "What are the most popular product keywords"
   ]
  },
  {
   "cell_type": "code",
   "execution_count": null,
   "id": "4b5b3708-3dc1-4db2-a5c2-2592a15623a9",
   "metadata": {},
   "outputs": [],
   "source": []
  },
  {
   "cell_type": "code",
   "execution_count": null,
   "id": "068fb644-acb5-4a77-a01b-9e27d3057228",
   "metadata": {},
   "outputs": [],
   "source": [
    "What are the most popular product reviews"
   ]
  },
  {
   "cell_type": "code",
   "execution_count": null,
   "id": "adca4497-cb47-4532-89fc-6122d0d5a216",
   "metadata": {},
   "outputs": [],
   "source": []
  },
  {
   "cell_type": "code",
   "execution_count": null,
   "id": "b93f020d-b953-4837-8e01-9e2869034f3e",
   "metadata": {},
   "outputs": [],
   "source": [
    "What is the correlation between discounted_price and rating"
   ]
  },
  {
   "cell_type": "code",
   "execution_count": 126,
   "id": "67a421a8-e83a-4856-9d23-d90b7f1a7095",
   "metadata": {},
   "outputs": [
    {
     "data": {
      "text/plain": [
       "<Axes: >"
      ]
     },
     "execution_count": 126,
     "metadata": {},
     "output_type": "execute_result"
    },
    {
     "data": {
      "image/png": "[encoded data removed]",
      "text/plain": [
       "<Figure size 640x480 with 2 Axes>"
      ]
     },
     "metadata": {},
     "output_type": "display_data"
    }
   ],
   "source": [
    "corr = amazon.corr(numeric_only = True)\n",
    "sns.heatmap(corr, annot = True)"
   ]
  },
  {
   "cell_type": "code",
   "execution_count": null,
   "id": "89df893f-94a5-4c32-974d-27e3a789e03a",
   "metadata": {},
   "outputs": [],
   "source": [
    "EDA - 4: Spotify Data:Popular Hip-Hop Artist and Tracks"
   ]
  },
  {
   "cell_type": "code",
   "execution_count": null,
   "id": "bcffeab2-70fc-43d3-b5e5-fa3e837f269c",
   "metadata": {},
   "outputs": [],
   "source": [
    "Read the dataframe, check null value if present then do the needful, check duplicate row , if present then do \n",
    "the needful"
   ]
  },
  {
   "cell_type": "code",
   "execution_count": 68,
   "id": "b2a54621-d33b-440c-bea8-9dd525f07e44",
   "metadata": {},
   "outputs": [
    {
     "name": "stdout",
     "output_type": "stream",
     "text": [
      "<class 'pandas.core.frame.DataFrame'>\n",
      "RangeIndex: 440 entries, 0 to 439\n",
      "Data columns (total 5 columns):\n",
      " #   Column         Non-Null Count  Dtype \n",
      "---  ------         --------------  ----- \n",
      " 0   Artist         440 non-null    object\n",
      " 1   Track Name     440 non-null    object\n",
      " 2   Popularity     440 non-null    int64 \n",
      " 3   Duration (ms)  440 non-null    int64 \n",
      " 4   Track ID       440 non-null    object\n",
      "dtypes: int64(2), object(3)\n",
      "memory usage: 17.3+ KB\n"
     ]
    }
   ],
   "source": [
    "spotify = pd.read_csv(r\"C:\\Users\\User\\Desktop\\PW_Python\\Assignment\\EDA_DATA\\spotify.csv\")\n",
    "spotify.info()\n",
    "spotify.duplicated(subset=None, keep='first')\n",
    "spotify = spotify.drop_duplicates()"
   ]
  },
  {
   "cell_type": "code",
   "execution_count": 65,
   "id": "ffedd3db-9ce3-4f46-ade0-af4a569dc06b",
   "metadata": {},
   "outputs": [
    {
     "name": "stdout",
     "output_type": "stream",
     "text": [
      "<class 'pandas.core.series.Series'>\n",
      "RangeIndex: 440 entries, 0 to 439\n",
      "Series name: None\n",
      "Non-Null Count  Dtype\n",
      "--------------  -----\n",
      "440 non-null    bool \n",
      "dtypes: bool(1)\n",
      "memory usage: 572.0 bytes\n"
     ]
    }
   ],
   "source": [
    "spotify.info()"
   ]
  },
  {
   "cell_type": "code",
   "execution_count": null,
   "id": "4111d99b-dd32-4ca6-9d3d-e786c3e05120",
   "metadata": {},
   "outputs": [],
   "source": [
    "What is the distribution of popularity among the tracks in the dataset? Visualize it using a histogram"
   ]
  },
  {
   "cell_type": "code",
   "execution_count": 69,
   "id": "d074d09e-27ad-46f7-b85b-18c3e8fb7155",
   "metadata": {},
   "outputs": [
    {
     "data": {
      "text/plain": [
       "<Axes: xlabel='Track Name', ylabel='Popularity'>"
      ]
     },
     "execution_count": 69,
     "metadata": {},
     "output_type": "execute_result"
    },
    {
     "data": {
      "image/png": "[encoded data removed]",
      "text/plain": [
       "<Figure size 640x480 with 1 Axes>"
      ]
     },
     "metadata": {},
     "output_type": "display_data"
    }
   ],
   "source": [
    "sns.barplot(y = \"Popularity\", x = \"Track Name\", data = spotify)"
   ]
  },
  {
   "cell_type": "code",
   "execution_count": null,
   "id": "6e0f9f37-82f2-4e2e-a51c-0ac9727aa3c6",
   "metadata": {},
   "outputs": [],
   "source": [
    "Is there any relationship between the popularity and the duration of tracks? Explore this using a scatter plot"
   ]
  },
  {
   "cell_type": "code",
   "execution_count": 70,
   "id": "57f9aaf7-20c1-454f-be12-2a01155bf228",
   "metadata": {},
   "outputs": [
    {
     "data": {
      "image/png": "[encoded data removed]",
      "text/plain": [
       "<Figure size 640x480 with 1 Axes>"
      ]
     },
     "metadata": {},
     "output_type": "display_data"
    }
   ],
   "source": [
    "plt.scatter(x='Popularity', y='Duration (ms)')\n",
    "plt.show()"
   ]
  },
  {
   "cell_type": "code",
   "execution_count": null,
   "id": "327cb9df-59b3-4078-ad60-bcfe43a08821",
   "metadata": {},
   "outputs": [],
   "source": [
    "Which artist has the highest number of tracks in the dataset? Display the count of tracks for each artist using \n",
    "a countplot"
   ]
  },
  {
   "cell_type": "code",
   "execution_count": 101,
   "id": "651a0f26-f9c7-461c-8099-273cfe3e0a6a",
   "metadata": {},
   "outputs": [
    {
     "data": {
      "text/plain": [
       "<Axes: xlabel='Artist', ylabel='count'>"
      ]
     },
     "execution_count": 101,
     "metadata": {},
     "output_type": "execute_result"
    },
    {
     "data": {
      "image/png": "[encoded data removed]",
      "text/plain": [
       "<Figure size 640x480 with 1 Axes>"
      ]
     },
     "metadata": {},
     "output_type": "display_data"
    }
   ],
   "source": [
    "#help(sns.countplot)\n",
    "sns.countplot(data = spotify, x = \"Artist\")"
   ]
  },
  {
   "cell_type": "code",
   "execution_count": null,
   "id": "760b028d-dcc8-4832-8614-21cecd8c0da3",
   "metadata": {},
   "outputs": [],
   "source": [
    "What are the top 5 least popular tracks in the dataset? Provide the artist name and track name for each"
   ]
  },
  {
   "cell_type": "code",
   "execution_count": 102,
   "id": "1b1a6ba9-ca37-4e9b-b4ea-08e770da536c",
   "metadata": {},
   "outputs": [
    {
     "data": {
      "text/html": [
       "<div>\n",
       "<style scoped>\n",
       "    .dataframe tbody tr th:only-of-type {\n",
       "        vertical-align: middle;\n",
       "    }\n",
       "\n",
       "    .dataframe tbody tr th {\n",
       "        vertical-align: top;\n",
       "    }\n",
       "\n",
       "    .dataframe thead th {\n",
       "        text-align: right;\n",
       "    }\n",
       "</style>\n",
       "<table border=\"1\" class=\"dataframe\">\n",
       "  <thead>\n",
       "    <tr style=\"text-align: right;\">\n",
       "      <th></th>\n",
       "      <th>Artist</th>\n",
       "      <th>Track Name</th>\n",
       "      <th>Popularity</th>\n",
       "      <th>Duration (ms)</th>\n",
       "      <th>Track ID</th>\n",
       "    </tr>\n",
       "  </thead>\n",
       "  <tbody>\n",
       "    <tr>\n",
       "      <th>207</th>\n",
       "      <td>Pressa</td>\n",
       "      <td>Attachments (feat. Coi Leray)</td>\n",
       "      <td>29</td>\n",
       "      <td>171000</td>\n",
       "      <td>6EfJ8Ct3GHbBz2YlyPnMYb</td>\n",
       "    </tr>\n",
       "    <tr>\n",
       "      <th>231</th>\n",
       "      <td>Justin Bieber</td>\n",
       "      <td>Intentions</td>\n",
       "      <td>35</td>\n",
       "      <td>212853</td>\n",
       "      <td>7jAVt70Xdg8EwOtsFB1ZqK</td>\n",
       "    </tr>\n",
       "    <tr>\n",
       "      <th>413</th>\n",
       "      <td>French Montana</td>\n",
       "      <td>Splash Brothers</td>\n",
       "      <td>44</td>\n",
       "      <td>221863</td>\n",
       "      <td>3fBsEOnzwtlkpS0LxXAZhN</td>\n",
       "    </tr>\n",
       "    <tr>\n",
       "      <th>225</th>\n",
       "      <td>Lil Baby</td>\n",
       "      <td>On Me - Remix</td>\n",
       "      <td>47</td>\n",
       "      <td>135444</td>\n",
       "      <td>2uUFVnVFERNxUdcmvEs7LB</td>\n",
       "    </tr>\n",
       "    <tr>\n",
       "      <th>407</th>\n",
       "      <td>Wyclef Jean</td>\n",
       "      <td>911 (feat. Mary J. Blige)</td>\n",
       "      <td>48</td>\n",
       "      <td>259333</td>\n",
       "      <td>28hgx2bWXcaBJeC9zVwrBq</td>\n",
       "    </tr>\n",
       "  </tbody>\n",
       "</table>\n",
       "</div>"
      ],
      "text/plain": [
       "             Artist                     Track Name  Popularity  Duration (ms)  \\\n",
       "207          Pressa  Attachments (feat. Coi Leray)          29         171000   \n",
       "231   Justin Bieber                     Intentions          35         212853   \n",
       "413  French Montana                Splash Brothers          44         221863   \n",
       "225        Lil Baby                  On Me - Remix          47         135444   \n",
       "407     Wyclef Jean      911 (feat. Mary J. Blige)          48         259333   \n",
       "\n",
       "                   Track ID  \n",
       "207  6EfJ8Ct3GHbBz2YlyPnMYb  \n",
       "231  7jAVt70Xdg8EwOtsFB1ZqK  \n",
       "413  3fBsEOnzwtlkpS0LxXAZhN  \n",
       "225  2uUFVnVFERNxUdcmvEs7LB  \n",
       "407  28hgx2bWXcaBJeC9zVwrBq  "
      ]
     },
     "execution_count": 102,
     "metadata": {},
     "output_type": "execute_result"
    }
   ],
   "source": [
    "# Sort the rows of dataframe by 'Name' column \n",
    "rslt_df = spotify.sort_values(by = 'Popularity') \n",
    "  \n",
    "# show the resultant Dataframe \n",
    "rslt_df.head(5)"
   ]
  },
  {
   "cell_type": "code",
   "execution_count": null,
   "id": "4748ff17-8e75-4bf4-9d23-6a5cbf89097e",
   "metadata": {},
   "outputs": [],
   "source": [
    "Among the top 5 most popular artists, which artist has the highest popularity on average? Calculate and \n",
    "display the average popularity for each artist"
   ]
  },
  {
   "cell_type": "code",
   "execution_count": null,
   "id": "8345ac72-ba55-4e6f-93b2-2a741737cab2",
   "metadata": {},
   "outputs": [],
   "source": []
  },
  {
   "cell_type": "code",
   "execution_count": null,
   "id": "fcff4d0f-8eb5-4859-892e-0abea89d1e1b",
   "metadata": {},
   "outputs": [],
   "source": [
    "For the top 5 most popular artists, what are their most popular tracks? List the track name for each artist"
   ]
  },
  {
   "cell_type": "code",
   "execution_count": 103,
   "id": "e167e6e2-2a67-47ce-8c03-63aa74902a32",
   "metadata": {},
   "outputs": [
    {
     "data": {
      "text/html": [
       "<div>\n",
       "<style scoped>\n",
       "    .dataframe tbody tr th:only-of-type {\n",
       "        vertical-align: middle;\n",
       "    }\n",
       "\n",
       "    .dataframe tbody tr th {\n",
       "        vertical-align: top;\n",
       "    }\n",
       "\n",
       "    .dataframe thead th {\n",
       "        text-align: right;\n",
       "    }\n",
       "</style>\n",
       "<table border=\"1\" class=\"dataframe\">\n",
       "  <thead>\n",
       "    <tr style=\"text-align: right;\">\n",
       "      <th></th>\n",
       "      <th>Artist</th>\n",
       "      <th>Track Name</th>\n",
       "      <th>Popularity</th>\n",
       "      <th>Duration (ms)</th>\n",
       "      <th>Track ID</th>\n",
       "    </tr>\n",
       "  </thead>\n",
       "  <tbody>\n",
       "    <tr>\n",
       "      <th>0</th>\n",
       "      <td>Drake</td>\n",
       "      <td>Rich Baby Daddy (feat. Sexyy Red &amp; SZA)</td>\n",
       "      <td>92</td>\n",
       "      <td>319191</td>\n",
       "      <td>1yeB8MUNeLo9Ek1UEpsyz6</td>\n",
       "    </tr>\n",
       "    <tr>\n",
       "      <th>30</th>\n",
       "      <td>Travis Scott</td>\n",
       "      <td>FE!N (feat. Playboi Carti)</td>\n",
       "      <td>93</td>\n",
       "      <td>191700</td>\n",
       "      <td>42VsgItocQwOQC3XWZ8JNA</td>\n",
       "    </tr>\n",
       "    <tr>\n",
       "      <th>70</th>\n",
       "      <td>21 Savage</td>\n",
       "      <td>redrum</td>\n",
       "      <td>96</td>\n",
       "      <td>270697</td>\n",
       "      <td>52eIcoLUM25zbQupAZYoFh</td>\n",
       "    </tr>\n",
       "    <tr>\n",
       "      <th>260</th>\n",
       "      <td>¥$</td>\n",
       "      <td>CARNIVAL</td>\n",
       "      <td>96</td>\n",
       "      <td>264324</td>\n",
       "      <td>3w0w2T288dec0mgeZZqoNN</td>\n",
       "    </tr>\n",
       "    <tr>\n",
       "      <th>40</th>\n",
       "      <td>Jack Harlow</td>\n",
       "      <td>Lovin On Me</td>\n",
       "      <td>97</td>\n",
       "      <td>138411</td>\n",
       "      <td>4xhsWYTOGcal8zt0J161CU</td>\n",
       "    </tr>\n",
       "  </tbody>\n",
       "</table>\n",
       "</div>"
      ],
      "text/plain": [
       "           Artist                               Track Name  Popularity  \\\n",
       "0           Drake  Rich Baby Daddy (feat. Sexyy Red & SZA)          92   \n",
       "30   Travis Scott               FE!N (feat. Playboi Carti)          93   \n",
       "70      21 Savage                                   redrum          96   \n",
       "260            ¥$                                 CARNIVAL          96   \n",
       "40    Jack Harlow                              Lovin On Me          97   \n",
       "\n",
       "     Duration (ms)                Track ID  \n",
       "0           319191  1yeB8MUNeLo9Ek1UEpsyz6  \n",
       "30          191700  42VsgItocQwOQC3XWZ8JNA  \n",
       "70          270697  52eIcoLUM25zbQupAZYoFh  \n",
       "260         264324  3w0w2T288dec0mgeZZqoNN  \n",
       "40          138411  4xhsWYTOGcal8zt0J161CU  "
      ]
     },
     "execution_count": 103,
     "metadata": {},
     "output_type": "execute_result"
    }
   ],
   "source": [
    "# Sort the rows of dataframe by 'Name' column \n",
    "rslt_df = spotify.sort_values(by = 'Popularity') \n",
    "  \n",
    "# show the resultant Dataframe \n",
    "rslt_df.tail(5)"
   ]
  },
  {
   "cell_type": "code",
   "execution_count": null,
   "id": "1cc72907-30c4-49cd-a246-6929d3166574",
   "metadata": {},
   "outputs": [],
   "source": [
    "Visualize relationships between multiple numerical variables simultaneously using a pair plot"
   ]
  },
  {
   "cell_type": "code",
   "execution_count": 71,
   "id": "da701fa2-fb30-4885-921d-a74d39647c53",
   "metadata": {},
   "outputs": [
    {
     "data": {
      "text/plain": [
       "<seaborn.axisgrid.PairGrid at 0x23399c09290>"
      ]
     },
     "execution_count": 71,
     "metadata": {},
     "output_type": "execute_result"
    },
    {
     "data": {
      "image/png": "[encoded data removed]",
      "text/plain": [
       "<Figure size 500x500 with 6 Axes>"
      ]
     },
     "metadata": {},
     "output_type": "display_data"
    }
   ],
   "source": [
    "sns.pairplot(spotify)"
   ]
  },
  {
   "cell_type": "code",
   "execution_count": null,
   "id": "3f8f47a3-6cbc-4659-a363-b75d669a732a",
   "metadata": {},
   "outputs": [],
   "source": [
    "Does the duration of tracks vary significantly across different artists? Explore this visually using a box plot or \n",
    "violin plot"
   ]
  },
  {
   "cell_type": "code",
   "execution_count": null,
   "id": "2fdcdbf2-7a63-41b5-9c6d-a34b777c5b82",
   "metadata": {},
   "outputs": [],
   "source": [
    "sns.barplot(y = \"Popularity\", x = \"Track Name\", data = spotify)"
   ]
  },
  {
   "cell_type": "code",
   "execution_count": null,
   "id": "65fb3349-625f-44b7-85be-2b3285cd5da0",
   "metadata": {},
   "outputs": [],
   "source": [
    "How does the distribution of track popularity vary for different artists? Visualize this using a swarm plot or a \n",
    "violin plot."
   ]
  },
  {
   "cell_type": "code",
   "execution_count": 75,
   "id": "b4d929e8-67b9-43b8-9885-b70d30b2d51b",
   "metadata": {},
   "outputs": [
    {
     "data": {
      "text/plain": [
       "<Axes: xlabel='Artist', ylabel='Popularity'>"
      ]
     },
     "execution_count": 75,
     "metadata": {},
     "output_type": "execute_result"
    },
    {
     "data": {
      "image/png": "[encoded data removed]",
      "text/plain": [
       "<Figure size 640x480 with 1 Axes>"
      ]
     },
     "metadata": {},
     "output_type": "display_data"
    }
   ],
   "source": [
    "sns.swarmplot(y = \"Popularity\", x = \"Artist\", data = spotify)"
   ]
  },
  {
   "cell_type": "code",
   "execution_count": 72,
   "id": "0d263be6-1af2-4b61-9d77-6f0353da7a19",
   "metadata": {},
   "outputs": [
    {
     "name": "stdout",
     "output_type": "stream",
     "text": [
      "<class 'pandas.core.frame.DataFrame'>\n",
      "Index: 413 entries, 0 to 438\n",
      "Data columns (total 5 columns):\n",
      " #   Column         Non-Null Count  Dtype \n",
      "---  ------         --------------  ----- \n",
      " 0   Artist         413 non-null    object\n",
      " 1   Track Name     413 non-null    object\n",
      " 2   Popularity     413 non-null    int64 \n",
      " 3   Duration (ms)  413 non-null    int64 \n",
      " 4   Track ID       413 non-null    object\n",
      "dtypes: int64(2), object(3)\n",
      "memory usage: 19.4+ KB\n"
     ]
    }
   ],
   "source": [
    "spotify.info()"
   ]
  },
  {
   "cell_type": "code",
   "execution_count": null,
   "id": "e1869b65-739e-4282-aa51-60bcb6a3c57e",
   "metadata": {},
   "outputs": [],
   "source": []
  },
  {
   "cell_type": "code",
   "execution_count": null,
   "id": "da9c3445-dd8c-4f41-8297-066b78449289",
   "metadata": {},
   "outputs": [],
   "source": []
  },
  {
   "cell_type": "code",
   "execution_count": null,
   "id": "97f8abac-a781-441f-9060-4e3ef4f8c435",
   "metadata": {},
   "outputs": [],
   "source": []
  },
  {
   "cell_type": "code",
   "execution_count": null,
   "id": "41d5f69f-7f37-411e-a092-6d9737885700",
   "metadata": {},
   "outputs": [],
   "source": []
  },
  {
   "cell_type": "code",
   "execution_count": null,
   "id": "2172d027-a32c-4880-8c31-129518999de7",
   "metadata": {},
   "outputs": [],
   "source": []
  },
  {
   "cell_type": "code",
   "execution_count": null,
   "id": "adfdd149-13b0-4e4e-8f56-75583ad1b4a3",
   "metadata": {},
   "outputs": [],
   "source": []
  },
  {
   "cell_type": "code",
   "execution_count": null,
   "id": "3510b62a-f54e-40f9-86f8-bed770f7da18",
   "metadata": {},
   "outputs": [],
   "source": []
  },
  {
   "cell_type": "code",
   "execution_count": null,
   "id": "60386d29-aec0-417a-8a2f-bfec67b56fde",
   "metadata": {},
   "outputs": [],
   "source": []
  },
  {
   "cell_type": "code",
   "execution_count": null,
   "id": "03a33168-9fd4-4527-b71b-1fe292bd72e3",
   "metadata": {},
   "outputs": [],
   "source": []
  },
  {
   "cell_type": "code",
   "execution_count": null,
   "id": "535c3671-f41b-46ef-ab4b-77bf20e17e35",
   "metadata": {},
   "outputs": [],
   "source": []
  },
  {
   "cell_type": "code",
   "execution_count": null,
   "id": "c08b0d1a-972f-4884-b0e6-b103f574a073",
   "metadata": {},
   "outputs": [],
   "source": []
  },
  {
   "cell_type": "code",
   "execution_count": null,
   "id": "bc9b9e41-440a-46eb-8c3a-25591135a9e9",
   "metadata": {},
   "outputs": [],
   "source": []
  },
  {
   "cell_type": "code",
   "execution_count": null,
   "id": "6aa319b5-3249-4adc-bb44-fba6cc117ed7",
   "metadata": {},
   "outputs": [],
   "source": []
  },
  {
   "cell_type": "code",
   "execution_count": null,
   "id": "7fe3fe88-bb29-410f-9095-3f671411145a",
   "metadata": {},
   "outputs": [],
   "source": []
  },
  {
   "cell_type": "code",
   "execution_count": null,
   "id": "e59f3cb9-f351-4b6f-9880-1770f1fcfa74",
   "metadata": {},
   "outputs": [],
   "source": []
  },
  {
   "cell_type": "code",
   "execution_count": null,
   "id": "a4473f9e-89f4-435f-a8c7-5f7fd44c1695",
   "metadata": {},
   "outputs": [],
   "source": []
  },
  {
   "cell_type": "code",
   "execution_count": null,
   "id": "2e8831df-a96e-4999-87c3-1675e73bb490",
   "metadata": {},
   "outputs": [],
   "source": []
  },
  {
   "cell_type": "code",
   "execution_count": null,
   "id": "bc17336d-c72c-4808-9f93-95451b6a2f88",
   "metadata": {},
   "outputs": [],
   "source": []
  },
  {
   "cell_type": "code",
   "execution_count": null,
   "id": "4bb5e1a6-88c4-4490-ae6d-c5fd7a54b0b3",
   "metadata": {},
   "outputs": [],
   "source": []
  },
  {
   "cell_type": "code",
   "execution_count": null,
   "id": "192e9d1f-f9fe-4c30-a7aa-7c126e0cff24",
   "metadata": {},
   "outputs": [],
   "source": []
  },
  {
   "cell_type": "code",
   "execution_count": null,
   "id": "5c61ae1c-20bc-4a41-ab1f-ed0f78fa492c",
   "metadata": {},
   "outputs": [],
   "source": []
  },
  {
   "cell_type": "code",
   "execution_count": null,
   "id": "a5021556-613c-40d2-a372-359cfdeaea96",
   "metadata": {},
   "outputs": [],
   "source": []
  },
  {
   "cell_type": "code",
   "execution_count": null,
   "id": "e802b0f5-eb6c-41d0-8a7f-6991c3cd2252",
   "metadata": {},
   "outputs": [],
   "source": []
  },
  {
   "cell_type": "code",
   "execution_count": null,
   "id": "3df11e4e-476b-4341-bfc6-93be0d0e3b96",
   "metadata": {},
   "outputs": [],
   "source": []
  },
  {
   "cell_type": "code",
   "execution_count": null,
   "id": "6581aebc-8fb0-4229-a9cc-a3bd39cc5ad5",
   "metadata": {},
   "outputs": [],
   "source": []
  },
  {
   "cell_type": "code",
   "execution_count": null,
   "id": "54ea68ca-5ba0-4807-a28d-9c83e1f177be",
   "metadata": {},
   "outputs": [],
   "source": []
  },
  {
   "cell_type": "code",
   "execution_count": null,
   "id": "8b3314f3-f9a5-4ef9-a194-6cbab39be531",
   "metadata": {},
   "outputs": [],
   "source": []
  },
  {
   "cell_type": "code",
   "execution_count": null,
   "id": "1135c29b-44b5-4dc1-a5a9-3dc4c9f8ea3a",
   "metadata": {},
   "outputs": [],
   "source": []
  },
  {
   "cell_type": "code",
   "execution_count": null,
   "id": "6dd06c17-5209-4fb1-9d81-dbeddc05466c",
   "metadata": {},
   "outputs": [],
   "source": []
  },
  {
   "cell_type": "code",
   "execution_count": null,
   "id": "1d543378-d21b-49a1-8f6b-bd7901ee789a",
   "metadata": {},
   "outputs": [],
   "source": []
  },
  {
   "cell_type": "code",
   "execution_count": null,
   "id": "a2ba0061-a95b-4fd0-a91a-ff0989e1edaf",
   "metadata": {},
   "outputs": [],
   "source": []
  },
  {
   "cell_type": "code",
   "execution_count": null,
   "id": "c8896dcd-c219-4284-839a-167254645523",
   "metadata": {},
   "outputs": [],
   "source": []
  },
  {
   "cell_type": "code",
   "execution_count": null,
   "id": "bbd73dae-a0b6-46ba-9784-815f8e10e404",
   "metadata": {},
   "outputs": [],
   "source": []
  },
  {
   "cell_type": "code",
   "execution_count": null,
   "id": "f4680a71-849d-4414-bf30-236dd533283c",
   "metadata": {},
   "outputs": [],
   "source": []
  },
  {
   "cell_type": "code",
   "execution_count": null,
   "id": "f7ece061-168e-4df3-a5f5-8bd787396a1a",
   "metadata": {},
   "outputs": [],
   "source": []
  },
  {
   "cell_type": "code",
   "execution_count": null,
   "id": "d579aaf4-4798-4e08-8ac1-31def9129a5e",
   "metadata": {},
   "outputs": [],
   "source": []
  },
  {
   "cell_type": "code",
   "execution_count": null,
   "id": "24f2c804-47fa-45ff-8281-388326f72c33",
   "metadata": {},
   "outputs": [],
   "source": []
  },
  {
   "cell_type": "code",
   "execution_count": null,
   "id": "3f06480d-01f9-482f-8f99-306d7d5386b3",
   "metadata": {},
   "outputs": [],
   "source": []
  },
  {
   "cell_type": "code",
   "execution_count": null,
   "id": "5b85cb86-75d7-47c8-94a4-1f3e272e5b74",
   "metadata": {},
   "outputs": [],
   "source": []
  },
  {
   "cell_type": "code",
   "execution_count": null,
   "id": "14f38167-1356-49dc-a76e-9257675c1d78",
   "metadata": {},
   "outputs": [],
   "source": []
  },
  {
   "cell_type": "code",
   "execution_count": null,
   "id": "4bb2e1a2-ba72-40c5-84a7-d68490917ce1",
   "metadata": {},
   "outputs": [],
   "source": []
  },
  {
   "cell_type": "code",
   "execution_count": null,
   "id": "5b01d735-7c6c-4494-aac5-1772cbe21f81",
   "metadata": {},
   "outputs": [],
   "source": []
  },
  {
   "cell_type": "code",
   "execution_count": null,
   "id": "3607a338-1be6-431a-bfeb-4e876957f1ca",
   "metadata": {},
   "outputs": [],
   "source": []
  },
  {
   "cell_type": "code",
   "execution_count": null,
   "id": "7777eaeb-ef88-4212-b905-c844b781b4e4",
   "metadata": {},
   "outputs": [],
   "source": []
  },
  {
   "cell_type": "code",
   "execution_count": null,
   "id": "39f431b0-8009-48b6-8cd5-78869ec2082c",
   "metadata": {},
   "outputs": [],
   "source": []
  },
  {
   "cell_type": "code",
   "execution_count": null,
   "id": "83a00d6d-a70a-4c8f-91e2-890d27cb36be",
   "metadata": {},
   "outputs": [],
   "source": []
  },
  {
   "cell_type": "code",
   "execution_count": null,
   "id": "cfa2e7eb-9fb4-4af1-a5a3-cc67e41aa260",
   "metadata": {},
   "outputs": [],
   "source": []
  },
  {
   "cell_type": "code",
   "execution_count": null,
   "id": "b4ce67b0-8840-44bb-aa10-bb231a8f38e7",
   "metadata": {},
   "outputs": [],
   "source": []
  },
  {
   "cell_type": "code",
   "execution_count": null,
   "id": "3ec5c959-6d06-48fd-81eb-8debdd0fa683",
   "metadata": {},
   "outputs": [],
   "source": []
  },
  {
   "cell_type": "code",
   "execution_count": null,
   "id": "d8b123f8-5740-4804-9218-a8846f54ad53",
   "metadata": {},
   "outputs": [],
   "source": []
  },
  {
   "cell_type": "code",
   "execution_count": null,
   "id": "64d8b9f2-691b-44c3-a293-519ca5a83d1e",
   "metadata": {},
   "outputs": [],
   "source": []
  },
  {
   "cell_type": "code",
   "execution_count": null,
   "id": "8ea3d301-d8e2-4497-a84f-c6e2fdb75c0c",
   "metadata": {},
   "outputs": [],
   "source": []
  },
  {
   "cell_type": "code",
   "execution_count": null,
   "id": "bff28834-cc0b-42c1-8934-30715d1b0a06",
   "metadata": {},
   "outputs": [],
   "source": []
  },
  {
   "cell_type": "code",
   "execution_count": null,
   "id": "62e43039-7b3e-41f9-8b9f-a6f2b01b9578",
   "metadata": {},
   "outputs": [],
   "source": []
  },
  {
   "cell_type": "code",
   "execution_count": null,
   "id": "6d89a5d9-5004-4665-8ef2-ef80a21d8fd8",
   "metadata": {},
   "outputs": [],
   "source": []
  },
  {
   "cell_type": "code",
   "execution_count": null,
   "id": "e749cebc-4dc2-43ec-bb8a-c79568a345e8",
   "metadata": {},
   "outputs": [],
   "source": []
  },
  {
   "cell_type": "code",
   "execution_count": null,
   "id": "a1144537-0d68-419b-a45b-db82dd2d1d44",
   "metadata": {},
   "outputs": [],
   "source": []
  },
  {
   "cell_type": "code",
   "execution_count": null,
   "id": "64c773d4-b0cc-4fad-9e7d-a9c217b2a42b",
   "metadata": {},
   "outputs": [],
   "source": []
  },
  {
   "cell_type": "code",
   "execution_count": null,
   "id": "1da96313-9a21-4418-8b6c-afd87349980b",
   "metadata": {},
   "outputs": [],
   "source": []
  },
  {
   "cell_type": "code",
   "execution_count": null,
   "id": "c3002df0-7025-43a8-ae1e-8c90d46e37bd",
   "metadata": {},
   "outputs": [],
   "source": []
  },
  {
   "cell_type": "code",
   "execution_count": null,
   "id": "02d88147-813a-4746-b198-05b6777c373e",
   "metadata": {},
   "outputs": [],
   "source": []
  },
  {
   "cell_type": "code",
   "execution_count": null,
   "id": "708d080e-43c0-4403-8151-e772d3d1c1eb",
   "metadata": {},
   "outputs": [],
   "source": []
  },
  {
   "cell_type": "code",
   "execution_count": null,
   "id": "98f0f4ef-b1d2-41ce-aaa1-ac7c39a44fb7",
   "metadata": {},
   "outputs": [],
   "source": []
  },
  {
   "cell_type": "code",
   "execution_count": null,
   "id": "8ddf86e9-6289-457c-9ea8-a2938abc80aa",
   "metadata": {},
   "outputs": [],
   "source": []
  },
  {
   "cell_type": "code",
   "execution_count": null,
   "id": "4ae48e94-3745-4a80-9f80-1c3569106c6f",
   "metadata": {},
   "outputs": [],
   "source": []
  },
  {
   "cell_type": "code",
   "execution_count": null,
   "id": "25ad1ccb-61d4-46dc-be9e-602e1dd023ab",
   "metadata": {},
   "outputs": [],
   "source": []
  },
  {
   "cell_type": "code",
   "execution_count": null,
   "id": "b01a8d44-c332-4185-bcd2-63726f2a75ef",
   "metadata": {},
   "outputs": [],
   "source": []
  },
  {
   "cell_type": "code",
   "execution_count": null,
   "id": "da353619-a9fe-4b9f-8675-301e9d337c6e",
   "metadata": {},
   "outputs": [],
   "source": []
  },
  {
   "cell_type": "code",
   "execution_count": null,
   "id": "94550a22-e1c7-47eb-9494-0b8beefaba22",
   "metadata": {},
   "outputs": [],
   "source": []
  },
  {
   "cell_type": "code",
   "execution_count": null,
   "id": "ee1faee9-6187-4dc1-ac7f-89f3b1b1304a",
   "metadata": {},
   "outputs": [],
   "source": []
  },
  {
   "cell_type": "code",
   "execution_count": null,
   "id": "606b3949-ad58-4bb1-a113-334e4919f990",
   "metadata": {},
   "outputs": [],
   "source": []
  },
  {
   "cell_type": "code",
   "execution_count": null,
   "id": "83093399-b90d-40a8-a171-4a20f1fa5221",
   "metadata": {},
   "outputs": [],
   "source": []
  },
  {
   "cell_type": "code",
   "execution_count": null,
   "id": "a59179e1-3bd2-42e1-9408-b6865f9d9e64",
   "metadata": {},
   "outputs": [],
   "source": []
  },
  {
   "cell_type": "code",
   "execution_count": null,
   "id": "31a9667f-7417-492a-8df2-7e650e18364d",
   "metadata": {},
   "outputs": [],
   "source": []
  },
  {
   "cell_type": "code",
   "execution_count": null,
   "id": "b7ca850b-5981-4eec-9447-0afc155bcb8d",
   "metadata": {},
   "outputs": [],
   "source": []
  },
  {
   "cell_type": "code",
   "execution_count": null,
   "id": "00ecb54e-62a9-4231-af9a-ebf26f1d9ef9",
   "metadata": {},
   "outputs": [],
   "source": []
  },
  {
   "cell_type": "code",
   "execution_count": null,
   "id": "4ad1f6c0-ead9-4680-bf78-00b20f1f600b",
   "metadata": {},
   "outputs": [],
   "source": []
  },
  {
   "cell_type": "code",
   "execution_count": null,
   "id": "1e4ab2cd-bbfa-449f-be17-d4d98ad92c86",
   "metadata": {},
   "outputs": [],
   "source": []
  },
  {
   "cell_type": "code",
   "execution_count": null,
   "id": "a0c6d3a1-92ea-4a10-bc86-b661244dd30d",
   "metadata": {},
   "outputs": [],
   "source": []
  },
  {
   "cell_type": "code",
   "execution_count": null,
   "id": "a8b02767-25d3-47b4-ba79-e910f877e63b",
   "metadata": {},
   "outputs": [],
   "source": []
  },
  {
   "cell_type": "code",
   "execution_count": null,
   "id": "bd56852a-112f-4b6b-a5c4-56fbb16a6de6",
   "metadata": {},
   "outputs": [],
   "source": []
  },
  {
   "cell_type": "code",
   "execution_count": null,
   "id": "0b325b16-c7bc-4e53-8c9b-06370949586b",
   "metadata": {},
   "outputs": [],
   "source": []
  },
  {
   "cell_type": "code",
   "execution_count": null,
   "id": "eba7b114-87e4-42d4-ad26-975b2d8f8cd1",
   "metadata": {},
   "outputs": [],
   "source": []
  },
  {
   "cell_type": "code",
   "execution_count": null,
   "id": "64d29ed8-0b45-46ca-ae9f-76ebf5ebd40a",
   "metadata": {},
   "outputs": [],
   "source": []
  },
  {
   "cell_type": "code",
   "execution_count": null,
   "id": "675b00b4-9592-4c29-8929-7b686881575a",
   "metadata": {},
   "outputs": [],
   "source": []
  },
  {
   "cell_type": "code",
   "execution_count": null,
   "id": "ac7874ce-7efe-43ef-9686-d96557e5fc05",
   "metadata": {},
   "outputs": [],
   "source": []
  },
  {
   "cell_type": "code",
   "execution_count": null,
   "id": "8af33dc3-466f-4193-8925-98d96eedeb6c",
   "metadata": {},
   "outputs": [],
   "source": []
  },
  {
   "cell_type": "code",
   "execution_count": null,
   "id": "67ca473b-0911-4a4d-9170-f767ecfa57aa",
   "metadata": {},
   "outputs": [],
   "source": []
  },
  {
   "cell_type": "code",
   "execution_count": null,
   "id": "d7a313b8-0842-4267-92b7-910ea6a229f3",
   "metadata": {},
   "outputs": [],
   "source": []
  }
 ],
 "metadata": {
  "kernelspec": {
   "display_name": "Python 3 (ipykernel)",
   "language": "python",
   "name": "python3"
  },
  "language_info": {
   "codemirror_mode": {
    "name": "ipython",
    "version": 3
   },
   "file_extension": ".py",
   "mimetype": "text/x-python",
   "name": "python",
   "nbconvert_exporter": "python",
   "pygments_lexer": "ipython3",
   "version": "3.11.7"
  }
 },
 "nbformat": 4,
 "nbformat_minor": 5
}
