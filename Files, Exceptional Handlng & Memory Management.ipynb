{
 "cells": [
  {
   "cell_type": "raw",
   "id": "6442d54f-5986-40db-8ad4-0dd620a00988",
   "metadata": {},
   "source": [
    "How can you open a file for writing in Python and write a string to it"
   ]
  },
  {
   "cell_type": "code",
   "execution_count": null,
   "id": "8adf5bcd-c022-4e14-9f5f-ae3ec3792679",
   "metadata": {},
   "outputs": [],
   "source": [
    "L = [\"This is Delhi \\n\", \"This is Paris \\n\", \"This is London \\n\"]\n",
    "\n",
    "# Writing to file\n",
    "with open(\"myfile.txt\", \"w\") as file1:\n",
    "    # Writing data to a file\n",
    "    file1.write(\"Hello \\n\")\n",
    "    file1.writelines(L)\n",
    "\n",
    "# Reading from file\n",
    "with open(\"myfile.txt\", \"r+\") as file1:\n",
    "    # Reading from a file\n",
    "    print(file1.read())"
   ]
  },
  {
   "cell_type": "raw",
   "id": "a5be24c9-6989-4acb-ab51-019333d76946",
   "metadata": {},
   "source": [
    "Write a Python program to read the contents of a file and print each line"
   ]
  },
  {
   "cell_type": "code",
   "execution_count": null,
   "id": "a046deb7-cfc9-419d-b21f-fa12a82b346a",
   "metadata": {},
   "outputs": [],
   "source": [
    "with open('filename.txt', 'r') as file:\n",
    "    # Read each line in the file\n",
    "    for line in file:\n",
    "        # Print each line\n",
    "        print(line.strip())"
   ]
  },
  {
   "cell_type": "raw",
   "id": "0fe2d048-16c3-4836-be87-0793f6df43ef",
   "metadata": {},
   "source": [
    "How would you handle a case where the file doesn't exist while trying to open it for reading\u001f"
   ]
  },
  {
   "cell_type": "code",
   "execution_count": 3,
   "id": "bdaf28ed-c598-4dd6-b9dd-52f8cdc42ce6",
   "metadata": {},
   "outputs": [],
   "source": [
    "def read_file(filename):\n",
    "    try:\n",
    "        with open(filename, 'r') as f:\n",
    "            contents = f.read()\n",
    "            print(contents)\n",
    "    except IOError:\n",
    "        print(\"Error: could not read file \" + filename)"
   ]
  },
  {
   "cell_type": "raw",
   "id": "6f24e329-421b-4f29-aeb0-7a22a3f6ebc0",
   "metadata": {},
   "source": [
    "Write a Python script that reads from one file and writes its content to another fileF"
   ]
  },
  {
   "cell_type": "code",
   "execution_count": 4,
   "id": "b18afd40-cce3-4620-bdaa-6792099af239",
   "metadata": {},
   "outputs": [],
   "source": [
    "def append_file(filename, text):\n",
    "    try:\n",
    "        with open(filename, 'a') as f:\n",
    "            f.write(text)\n",
    "        print(\"Text appended to file \" + filename + \" successfully.\")\n",
    "    except IOError:\n",
    "        print(\"Error: could not append to file \" + filename)"
   ]
  },
  {
   "cell_type": "raw",
   "id": "09b51870-85a8-4405-bde5-2bb23cb02eeb",
   "metadata": {},
   "source": [
    "How would you catch and handle division by zero error in Python\u001f"
   ]
  },
  {
   "cell_type": "code",
   "execution_count": 8,
   "id": "2549dfc0-596b-4b0b-8159-d20e5fd3554e",
   "metadata": {},
   "outputs": [
    {
     "name": "stdout",
     "output_type": "stream",
     "text": [
      "ZeroDivisionError Occurred and Handled\n"
     ]
    }
   ],
   "source": [
    "def fun(a):\n",
    "    if a < 4:\n",
    "\n",
    "        b = a/(a-3)\n",
    "    print(\"Value of b = \", b)\n",
    "    \n",
    "try:\n",
    "    fun(3)\n",
    "    fun(5)\n",
    "except ZeroDivisionError:\n",
    "    print(\"ZeroDivisionError Occurred and Handled\")\n",
    "except NameError:\n",
    "    print(\"NameError Occurred and Handled\")"
   ]
  },
  {
   "cell_type": "raw",
   "id": "fd633089-1c13-4e3b-9ac5-56e45e148001",
   "metadata": {},
   "source": [
    "Write a Python program that logs an error message to a log file when a division by zero exception occurs"
   ]
  },
  {
   "cell_type": "code",
   "execution_count": 16,
   "id": "2a1f48d3-ec9e-4297-bbc9-1ed966b0e948",
   "metadata": {},
   "outputs": [],
   "source": [
    "import logging\n",
    "\n",
    "logging.basicConfig(level=logging.DEBUG,\n",
    "                    format='%(asctime)s - %(levelname)s - %(message)s')\n",
    "\n",
    "\n",
    "def fun(a):\n",
    "    if a < 4:\n",
    "        b = a/(a-3)\n",
    "        print(\"Value of b = \", b)\n",
    "try:\n",
    "    #fun(3)\n",
    "    fun(5)\n",
    "except ZeroDivisionError:\n",
    "    print(\"ZeroDivisionError Occurred and Handled\")\n",
    "except NameError:\n",
    "    print(\"NameError Occurred and Handled\")\n",
    "else:\n",
    "    # Continue with normal execution\n",
    "    logging.info(\"Operation performed successfully.\")"
   ]
  },
  {
   "cell_type": "raw",
   "id": "b16a1430-ae23-44a2-a960-391dd1034453",
   "metadata": {},
   "source": [
    "How do you log information at different levels (INFO, ERROR, WARNING) in Python using the logging module\u001f"
   ]
  },
  {
   "cell_type": "code",
   "execution_count": 17,
   "id": "43674fe8-92b8-4d02-950c-4fff6d2eff89",
   "metadata": {},
   "outputs": [
    {
     "ename": "FileNotFoundError",
     "evalue": "temp.conf doesn't exist",
     "output_type": "error",
     "traceback": [
      "\u001b[1;31m---------------------------------------------------------------------------\u001b[0m",
      "\u001b[1;31mFileNotFoundError\u001b[0m                         Traceback (most recent call last)",
      "Cell \u001b[1;32mIn[17], line 4\u001b[0m\n\u001b[0;32m      1\u001b[0m \u001b[38;5;28;01mimport\u001b[39;00m \u001b[38;5;21;01mlogging\u001b[39;00m\n\u001b[0;32m      2\u001b[0m \u001b[38;5;28;01mimport\u001b[39;00m \u001b[38;5;21;01mlogging\u001b[39;00m\u001b[38;5;21;01m.\u001b[39;00m\u001b[38;5;21;01mconfig\u001b[39;00m\n\u001b[1;32m----> 4\u001b[0m logging\u001b[38;5;241m.\u001b[39mconfig\u001b[38;5;241m.\u001b[39mfileConfig(\u001b[38;5;124m'\u001b[39m\u001b[38;5;124mtemp.conf\u001b[39m\u001b[38;5;124m'\u001b[39m)\n\u001b[0;32m      6\u001b[0m \u001b[38;5;66;03m# create logger\u001b[39;00m\n\u001b[0;32m      7\u001b[0m logger \u001b[38;5;241m=\u001b[39m logging\u001b[38;5;241m.\u001b[39mgetLogger(\u001b[38;5;124m'\u001b[39m\u001b[38;5;124msimpleExample\u001b[39m\u001b[38;5;124m'\u001b[39m)\n",
      "File \u001b[1;32m~\\anaconda3\\Lib\\logging\\config.py:65\u001b[0m, in \u001b[0;36mfileConfig\u001b[1;34m(fname, defaults, disable_existing_loggers, encoding)\u001b[0m\n\u001b[0;32m     63\u001b[0m \u001b[38;5;28;01mif\u001b[39;00m \u001b[38;5;28misinstance\u001b[39m(fname, \u001b[38;5;28mstr\u001b[39m):\n\u001b[0;32m     64\u001b[0m     \u001b[38;5;28;01mif\u001b[39;00m \u001b[38;5;129;01mnot\u001b[39;00m os\u001b[38;5;241m.\u001b[39mpath\u001b[38;5;241m.\u001b[39mexists(fname):\n\u001b[1;32m---> 65\u001b[0m         \u001b[38;5;28;01mraise\u001b[39;00m \u001b[38;5;167;01mFileNotFoundError\u001b[39;00m(\u001b[38;5;124mf\u001b[39m\u001b[38;5;124m\"\u001b[39m\u001b[38;5;132;01m{\u001b[39;00mfname\u001b[38;5;132;01m}\u001b[39;00m\u001b[38;5;124m doesn\u001b[39m\u001b[38;5;124m'\u001b[39m\u001b[38;5;124mt exist\u001b[39m\u001b[38;5;124m\"\u001b[39m)\n\u001b[0;32m     66\u001b[0m     \u001b[38;5;28;01melif\u001b[39;00m \u001b[38;5;129;01mnot\u001b[39;00m os\u001b[38;5;241m.\u001b[39mpath\u001b[38;5;241m.\u001b[39mgetsize(fname):\n\u001b[0;32m     67\u001b[0m         \u001b[38;5;28;01mraise\u001b[39;00m \u001b[38;5;167;01mRuntimeError\u001b[39;00m(\u001b[38;5;124mf\u001b[39m\u001b[38;5;124m'\u001b[39m\u001b[38;5;132;01m{\u001b[39;00mfname\u001b[38;5;132;01m}\u001b[39;00m\u001b[38;5;124m is an empty file\u001b[39m\u001b[38;5;124m'\u001b[39m)\n",
      "\u001b[1;31mFileNotFoundError\u001b[0m: temp.conf doesn't exist"
     ]
    }
   ],
   "source": [
    "import logging\n",
    "import logging.config\n",
    "\n",
    "logging.config.fileConfig('temp.conf')\n",
    "\n",
    "# create logger\n",
    "logger = logging.getLogger('simpleExample')\n",
    "\n",
    "# 'application' code\n",
    "logger.info('info message')\n",
    "logger.warning('warn message')\n",
    "logger.error('error message')\n"
   ]
  },
  {
   "cell_type": "raw",
   "id": "601e6701-82a2-47c2-910a-152e47573422",
   "metadata": {},
   "source": [
    "Write a program to handle a file opening error using exception handling"
   ]
  },
  {
   "cell_type": "code",
   "execution_count": null,
   "id": "4f6dc4ab-21f0-4fd7-9de9-0a49015aadf8",
   "metadata": {},
   "outputs": [],
   "source": []
  },
  {
   "cell_type": "raw",
   "id": "c1dc9d58-4f38-4df7-817c-743f7d3d015f",
   "metadata": {},
   "source": [
    "How can you read a file line by line and store its content in a list in Python\u001f"
   ]
  },
  {
   "cell_type": "code",
   "execution_count": null,
   "id": "1afe1bf4-9525-4fb9-acf8-becb34311e8c",
   "metadata": {},
   "outputs": [],
   "source": [
    "# Opening a file\n",
    "file1 = open('myfile.txt', 'w')\n",
    "L = [\"This is Delhi \\n\", \"This is Paris \\n\", \"This is London \\n\"]\n",
    "s = \"Hello\\n\"\n",
    "\n",
    "# Writing a string to file\n",
    "file1.write(s)\n",
    "\n",
    "# Writing multiple strings\n",
    "# at a time\n",
    "file1.writelines(L)\n",
    "\n",
    "# Closing file\n",
    "file1.close()\n",
    "\n",
    "# Checking if the data is\n",
    "# written to file or not\n",
    "file1 = open('myfile.txt', 'r')\n",
    "print(file1.read())\n",
    "file1.close()"
   ]
  },
  {
   "cell_type": "raw",
   "id": "8f37e982-76ad-4c79-b910-274d57ca593b",
   "metadata": {},
   "source": [
    "How can you append data to an existing file in Python\u001f"
   ]
  },
  {
   "cell_type": "code",
   "execution_count": null,
   "id": "619057e6-766b-4223-a900-5589fa6290cb",
   "metadata": {},
   "outputs": [],
   "source": [
    "file1 = open(\"myfile.txt\", \"w\")\n",
    "L = [\"This is Delhi \\n\", \"This is Paris \\n\", \"This is London \\n\"]\n",
    "file1.writelines(L)\n",
    "file1.close()\n",
    "\n",
    "# Append-adds at last\n",
    "file1 = open(\"myfile.txt\", \"a\")  # append mode\n",
    "file1.write(\"Today \\n\")\n",
    "file1.close()\n",
    "\n",
    "file1 = open(\"myfile.txt\", \"r\")\n",
    "print(\"Output of Readlines after appending\")\n",
    "print(file1.read())\n",
    "print()\n",
    "file1.close()"
   ]
  },
  {
   "cell_type": "raw",
   "id": "0d65fb97-745d-4766-9fa7-a6e77e40d23e",
   "metadata": {},
   "source": [
    "Write a Python program that uses a try-except block to handle an error when attempting to access a dictionary key that doesn't exist"
   ]
  },
  {
   "cell_type": "code",
   "execution_count": null,
   "id": "666fe2d5-da99-447e-b9ae-4743ca351c88",
   "metadata": {},
   "outputs": [],
   "source": []
  },
  {
   "cell_type": "raw",
   "id": "b228e3a5-d37b-4a84-b9f0-a149d61ed444",
   "metadata": {},
   "source": [
    "Write a program that demonstrates using multiple except blocks to handle different types of exceptionsF"
   ]
  },
  {
   "cell_type": "code",
   "execution_count": null,
   "id": "d1f7735a-28ab-4409-bf43-9c3dde770e5a",
   "metadata": {},
   "outputs": [],
   "source": []
  },
  {
   "cell_type": "raw",
   "id": "588adf38-a165-48f4-aae4-2cb59ab5037c",
   "metadata": {},
   "source": [
    "How would you check if a file exists before attempting to read it in Python\u001f"
   ]
  },
  {
   "cell_type": "code",
   "execution_count": null,
   "id": "cf8b0afc-7070-470f-a75e-a6b73230b993",
   "metadata": {},
   "outputs": [],
   "source": [
    "import os.path\n",
    "\n",
    "path = '/Users/dionysialemonaki/python_project'\n",
    "\n",
    "check_file = os.path.exists(path)\n",
    "\n",
    "print(check_file)"
   ]
  },
  {
   "cell_type": "raw",
   "id": "2d58ae4d-9d00-4c02-b3f4-8b576da7e98b",
   "metadata": {},
   "source": [
    "Write a program that uses the logging module to log both informational and error messages"
   ]
  },
  {
   "cell_type": "code",
   "execution_count": null,
   "id": "a598caa9-b632-494a-8934-e98fae3a2c52",
   "metadata": {},
   "outputs": [],
   "source": []
  },
  {
   "cell_type": "raw",
   "id": "ced295bb-e6cf-4bdc-a1f8-d6a75bb676ae",
   "metadata": {},
   "source": [
    "Write a Python program that prints the content of a file and handles the case when the file is empty"
   ]
  },
  {
   "cell_type": "code",
   "execution_count": null,
   "id": "83f4834a-76f7-47f8-a1a2-8af2fb094157",
   "metadata": {},
   "outputs": [],
   "source": []
  },
  {
   "cell_type": "raw",
   "id": "c0a40cdf-4a17-4492-a6e8-e24b5c5705b5",
   "metadata": {},
   "source": [
    "Demonstrate how to use memory profiling to check the memory usage of a small program"
   ]
  },
  {
   "cell_type": "code",
   "execution_count": null,
   "id": "1fe0ef81-5889-4e20-a81a-dea5581784c5",
   "metadata": {},
   "outputs": [],
   "source": []
  },
  {
   "cell_type": "raw",
   "id": "fb7459a8-c2e8-4e41-aabe-5294ed82d69b",
   "metadata": {},
   "source": [
    "Write a Python program to create and write a list of numbers to a file, one number per line"
   ]
  },
  {
   "cell_type": "code",
   "execution_count": null,
   "id": "f3a6dc81-13e3-4cdf-969e-d8c3f4fd5dbf",
   "metadata": {},
   "outputs": [],
   "source": []
  },
  {
   "cell_type": "raw",
   "id": "2295b96e-4748-41be-952c-f8aa6d464e61",
   "metadata": {},
   "source": [
    "How would you implement a basic logging setup that logs to a file with rotation after 1MB\u001f"
   ]
  },
  {
   "cell_type": "code",
   "execution_count": null,
   "id": "3327e13f-bfc1-469f-a581-8d67ac252cde",
   "metadata": {},
   "outputs": [],
   "source": []
  },
  {
   "cell_type": "raw",
   "id": "fd858827-9a87-418d-800f-73033f76f0f4",
   "metadata": {},
   "source": [
    "Write a program that handles both IndexError and KeyError using a try-except block"
   ]
  },
  {
   "cell_type": "code",
   "execution_count": null,
   "id": "2c5ed739-3cf0-4eb2-8b99-506b92071fc2",
   "metadata": {},
   "outputs": [],
   "source": []
  },
  {
   "cell_type": "raw",
   "id": "6ccff2a0-390f-46f4-abf1-18cbaf4249c9",
   "metadata": {},
   "source": [
    "How would you open a file and read its contents using a context manager in Python\u001f"
   ]
  },
  {
   "cell_type": "code",
   "execution_count": null,
   "id": "1f6bb352-5030-42e2-9698-54b7916ee0cf",
   "metadata": {},
   "outputs": [],
   "source": []
  },
  {
   "cell_type": "raw",
   "id": "895e95f4-4aa6-4424-baf0-4475edc50b3a",
   "metadata": {},
   "source": [
    "Write a Python program that reads a file and prints the number of occurrences of a specific word"
   ]
  },
  {
   "cell_type": "code",
   "execution_count": null,
   "id": "04cc88e2-fe05-4ef0-b00b-0757887cd59a",
   "metadata": {},
   "outputs": [],
   "source": [
    "# string to search in file\n",
    "word = 'laptop'\n",
    "with open(r'E:\\demos\\files_demos\\account\\sales.txt', 'r') as fp:\n",
    "    # read all lines in a list\n",
    "    lines = fp.readlines()\n",
    "    for line in lines:\n",
    "        # check if string present on a current line\n",
    "        if line.find(word) != -1:\n",
    "            print(word, 'string exists in file')\n",
    "            print('Line Number:', lines.index(line))\n",
    "            print('Line:', line)"
   ]
  },
  {
   "cell_type": "raw",
   "id": "ad15ba02-835a-4cac-a261-ec8b0e55fdc7",
   "metadata": {},
   "source": [
    "How can you check if a file is empty before attempting to read its contents"
   ]
  },
  {
   "cell_type": "code",
   "execution_count": null,
   "id": "29aaed2f-2358-429f-b5f0-027464b56c3f",
   "metadata": {},
   "outputs": [],
   "source": [
    "file_path = '/Users/Avanih/Desktop/PwSkills Internship/input.txt'\n",
    "\n",
    "# open the file in read mode\n",
    "with open(file_path, 'r') as file_obj:\n",
    "    # read first character\n",
    "    first_char = file_obj.read(1)\n",
    "\n",
    "    if not first_char:\n",
    "        print(&quot;File is empty&quot;)\n",
    "    else:\n",
    "        print(&quot;File is NOT empty&quot;)"
   ]
  },
  {
   "cell_type": "raw",
   "id": "3b695a66-0243-402a-9da0-c63b5018f8c2",
   "metadata": {},
   "source": [
    "Write a Python program that writes to a log file when an error occurs during file handling"
   ]
  },
  {
   "cell_type": "code",
   "execution_count": 2,
   "id": "3d98bf48-a24a-41c2-846f-4111b42630ec",
   "metadata": {},
   "outputs": [],
   "source": [
    "# importing module\n",
    "import logging\n",
    "\n",
    "# Create and configure logger\n",
    "logging.basicConfig(filename=\"newfile.log\",\n",
    "                    format='%(asctime)s %(message)s',\n",
    "                    filemode='w')\n",
    "\n",
    "# Creating an object\n",
    "logger = logging.getLogger()\n",
    "\n",
    "# Setting the threshold of logger to DEBUG\n",
    "logger.setLevel(logging.DEBUG)\n",
    "\n",
    "# Test messages\n",
    "logger.debug(\"Harmless debug Message\")\n",
    "logger.info(\"Just an information\")\n",
    "logger.warning(\"Its a Warning\")\n",
    "logger.error(\"Did you try to divide by zero\")\n",
    "logger.critical(\"Internet is down\")"
   ]
  },
  {
   "cell_type": "code",
   "execution_count": null,
   "id": "7c9f25f5-2892-4474-b2a1-aad1b97684be",
   "metadata": {},
   "outputs": [],
   "source": []
  },
  {
   "cell_type": "code",
   "execution_count": null,
   "id": "810dad77-88c3-45d2-b4ae-5c6aacd52abc",
   "metadata": {},
   "outputs": [],
   "source": []
  },
  {
   "cell_type": "code",
   "execution_count": null,
   "id": "b9731005-54bb-498f-ad2f-ba79a6994e5d",
   "metadata": {},
   "outputs": [],
   "source": []
  },
  {
   "cell_type": "code",
   "execution_count": null,
   "id": "467f7107-4ac8-4f04-b782-d9a048c9d30a",
   "metadata": {},
   "outputs": [],
   "source": []
  },
  {
   "cell_type": "code",
   "execution_count": null,
   "id": "22c993bd-bdf7-4f29-a85d-8dd0a7c1f4eb",
   "metadata": {},
   "outputs": [],
   "source": []
  },
  {
   "cell_type": "code",
   "execution_count": null,
   "id": "fecb0460-b5ee-47ef-8a36-354b9ee8d50b",
   "metadata": {},
   "outputs": [],
   "source": []
  },
  {
   "cell_type": "code",
   "execution_count": null,
   "id": "e9ad3950-79a5-467c-ad61-ff8e8b4b0ee9",
   "metadata": {},
   "outputs": [],
   "source": []
  },
  {
   "cell_type": "code",
   "execution_count": null,
   "id": "6d97cd6b-0186-4ed0-b507-5bbf3c3b2cc4",
   "metadata": {},
   "outputs": [],
   "source": []
  },
  {
   "cell_type": "code",
   "execution_count": null,
   "id": "14171b85-7480-40e8-a7a8-93711651dad2",
   "metadata": {},
   "outputs": [],
   "source": []
  },
  {
   "cell_type": "code",
   "execution_count": null,
   "id": "1f652dc5-2cde-49ce-9f83-c985ddd191e9",
   "metadata": {},
   "outputs": [],
   "source": []
  },
  {
   "cell_type": "code",
   "execution_count": null,
   "id": "1f07ea73-4c8f-42c7-a44f-91ab915b97af",
   "metadata": {},
   "outputs": [],
   "source": []
  },
  {
   "cell_type": "code",
   "execution_count": null,
   "id": "4754b4d3-9153-4731-986e-2499ebed849b",
   "metadata": {},
   "outputs": [],
   "source": []
  },
  {
   "cell_type": "code",
   "execution_count": null,
   "id": "f39f45bc-6659-4b29-be64-189b8a82b963",
   "metadata": {},
   "outputs": [],
   "source": []
  },
  {
   "cell_type": "code",
   "execution_count": null,
   "id": "a473a6c4-140a-4e9f-82e0-85439326d216",
   "metadata": {},
   "outputs": [],
   "source": []
  },
  {
   "cell_type": "code",
   "execution_count": null,
   "id": "a212d3da-b6a5-4606-b48f-d0e06530fdfb",
   "metadata": {},
   "outputs": [],
   "source": []
  },
  {
   "cell_type": "code",
   "execution_count": null,
   "id": "6839dd39-ee45-439a-98d0-40054fb32bb5",
   "metadata": {},
   "outputs": [],
   "source": []
  },
  {
   "cell_type": "code",
   "execution_count": null,
   "id": "f5a57b43-5399-4b7c-ba15-34bc6840f965",
   "metadata": {},
   "outputs": [],
   "source": []
  },
  {
   "cell_type": "code",
   "execution_count": null,
   "id": "7b22eb88-6f42-475c-aee5-ec30aaf14b43",
   "metadata": {},
   "outputs": [],
   "source": []
  },
  {
   "cell_type": "code",
   "execution_count": null,
   "id": "d5ec6688-e5f3-447d-a84f-f863f4c91179",
   "metadata": {},
   "outputs": [],
   "source": []
  },
  {
   "cell_type": "code",
   "execution_count": null,
   "id": "ebccd9c8-94d8-4cfc-8af3-d353193836a2",
   "metadata": {},
   "outputs": [],
   "source": []
  },
  {
   "cell_type": "code",
   "execution_count": null,
   "id": "2cd144d6-13d7-4867-8583-4eb90dd1568a",
   "metadata": {},
   "outputs": [],
   "source": []
  },
  {
   "cell_type": "code",
   "execution_count": null,
   "id": "9d9ddff8-3fc6-45d4-911e-8c298cdc58a6",
   "metadata": {},
   "outputs": [],
   "source": []
  },
  {
   "cell_type": "code",
   "execution_count": null,
   "id": "02c4c48b-650d-4dcd-b7d5-a9945d0d599c",
   "metadata": {},
   "outputs": [],
   "source": []
  },
  {
   "cell_type": "code",
   "execution_count": null,
   "id": "878964ea-6c3a-4669-851e-bf621e317101",
   "metadata": {},
   "outputs": [],
   "source": []
  },
  {
   "cell_type": "code",
   "execution_count": null,
   "id": "3f635ead-3fd5-46ea-905d-92dafe773c75",
   "metadata": {},
   "outputs": [],
   "source": []
  },
  {
   "cell_type": "code",
   "execution_count": null,
   "id": "8e50bf39-7ab8-485d-b31b-e10a4d69e16c",
   "metadata": {},
   "outputs": [],
   "source": []
  },
  {
   "cell_type": "code",
   "execution_count": null,
   "id": "9ca7035e-3074-43fd-8fb7-aa3cbb585d5e",
   "metadata": {},
   "outputs": [],
   "source": []
  },
  {
   "cell_type": "code",
   "execution_count": null,
   "id": "66ebb05d-8a0b-40c2-969a-1ae2f13b75ac",
   "metadata": {},
   "outputs": [],
   "source": []
  },
  {
   "cell_type": "code",
   "execution_count": null,
   "id": "de44f7c7-d030-41d3-a83b-cd1657bbf4ce",
   "metadata": {},
   "outputs": [],
   "source": []
  },
  {
   "cell_type": "code",
   "execution_count": null,
   "id": "59ff13a1-f14f-4e2e-bdec-065433186b77",
   "metadata": {},
   "outputs": [],
   "source": []
  },
  {
   "cell_type": "code",
   "execution_count": null,
   "id": "5073affd-542a-4187-b89f-01c28553a8b1",
   "metadata": {},
   "outputs": [],
   "source": []
  },
  {
   "cell_type": "code",
   "execution_count": null,
   "id": "6537fb2f-3f45-449b-b8a1-308afe1388d3",
   "metadata": {},
   "outputs": [],
   "source": []
  },
  {
   "cell_type": "code",
   "execution_count": null,
   "id": "14a9b22a-3969-40d8-8f34-1a65f9e9880d",
   "metadata": {},
   "outputs": [],
   "source": []
  },
  {
   "cell_type": "code",
   "execution_count": null,
   "id": "c028c3f4-fc6f-46aa-aea7-d748ae540e2d",
   "metadata": {},
   "outputs": [],
   "source": []
  },
  {
   "cell_type": "code",
   "execution_count": null,
   "id": "8e00b34e-3df1-4ee7-b4d7-668ea27b3b99",
   "metadata": {},
   "outputs": [],
   "source": []
  },
  {
   "cell_type": "code",
   "execution_count": null,
   "id": "21f159df-0e49-427e-bb7f-7b47a568d869",
   "metadata": {},
   "outputs": [],
   "source": []
  },
  {
   "cell_type": "code",
   "execution_count": null,
   "id": "b4ed918b-a7e0-40ea-a5cd-901c71939680",
   "metadata": {},
   "outputs": [],
   "source": []
  },
  {
   "cell_type": "code",
   "execution_count": null,
   "id": "4e95167a-12e6-4162-89c6-f66b240e8888",
   "metadata": {},
   "outputs": [],
   "source": []
  },
  {
   "cell_type": "code",
   "execution_count": null,
   "id": "10fc11b4-be6d-43ac-802a-473d26947fdf",
   "metadata": {},
   "outputs": [],
   "source": []
  },
  {
   "cell_type": "code",
   "execution_count": null,
   "id": "093b1381-3561-49e4-b7be-408b6a4267ff",
   "metadata": {},
   "outputs": [],
   "source": []
  },
  {
   "cell_type": "code",
   "execution_count": null,
   "id": "56511024-cefd-497d-8ce6-375940ae147d",
   "metadata": {},
   "outputs": [],
   "source": []
  },
  {
   "cell_type": "code",
   "execution_count": null,
   "id": "351f6146-c31a-4c3f-b19f-aedf439e48ae",
   "metadata": {},
   "outputs": [],
   "source": []
  },
  {
   "cell_type": "code",
   "execution_count": null,
   "id": "fba79c1c-9e2c-4ca6-b617-0df882f7c1af",
   "metadata": {},
   "outputs": [],
   "source": []
  },
  {
   "cell_type": "code",
   "execution_count": null,
   "id": "c4a46a4b-1f90-4985-bfce-550013c1e355",
   "metadata": {},
   "outputs": [],
   "source": []
  }
 ],
 "metadata": {
  "kernelspec": {
   "display_name": "Python 3 (ipykernel)",
   "language": "python",
   "name": "python3"
  },
  "language_info": {
   "codemirror_mode": {
    "name": "ipython",
    "version": 3
   },
   "file_extension": ".py",
   "mimetype": "text/x-python",
   "name": "python",
   "nbconvert_exporter": "python",
   "pygments_lexer": "ipython3",
   "version": "3.11.7"
  }
 },
 "nbformat": 4,
 "nbformat_minor": 5
}
