{
 "cells": [
  {
   "cell_type": "raw",
   "id": "e49c5f93-fe82-4a10-9322-8e180a06e303",
   "metadata": {},
   "source": [
    "1. Write a Python function that takes a list of numbers as input and returns the sum of all even numbers in \n",
    "the list."
   ]
  },
  {
   "cell_type": "code",
   "execution_count": 60,
   "id": "1faedff2-381a-4151-807b-0e8d32225a14",
   "metadata": {},
   "outputs": [
    {
     "name": "stdout",
     "output_type": "stream",
     "text": [
      "20\n"
     ]
    }
   ],
   "source": [
    "l = [1,2,3,4,5,6,7,8,9]\n",
    "\n",
    "def sum_even(l):\n",
    "    x =0\n",
    "    s =[]\n",
    "    for i in range(len(l)):\n",
    "        if l[i]%2 == 0:\n",
    "            x = x + l[i]\n",
    "    print(x)\n",
    "        \n",
    "\n",
    "\n",
    "sum_even(l)\n",
    "\n",
    "\n",
    "        "
   ]
  },
  {
   "cell_type": "raw",
   "id": "b889167c-2863-4d52-a414-dff96ee3f277",
   "metadata": {},
   "source": [
    "2. Create a Python function that accepts a string and returns the reverse of that string."
   ]
  },
  {
   "cell_type": "code",
   "execution_count": 32,
   "id": "6a157677-493b-4cfe-bf06-29a517dfed9b",
   "metadata": {},
   "outputs": [
    {
     "name": "stdout",
     "output_type": "stream",
     "text": [
      "<class 'str'>\n"
     ]
    }
   ],
   "source": [
    "a = \"Avanish\"\n",
    "\n",
    "def reverse_string(a):\n",
    "    a = list(a)\n",
    "    b =[]\n",
    "    s = \"\"\n",
    "    for i in range(len(a)):\n",
    "        b.append(a[len(a) - i-1])\n",
    "    s = \"\".join(b)\n",
    "    print(s)\n",
    "                 \n",
    "\n",
    "reverse_string(a)"
   ]
  },
  {
   "cell_type": "raw",
   "id": "037472e4-204f-4317-8fbb-96274b3c4503",
   "metadata": {},
   "source": [
    "3. Implement a Python function that takes a list of integers and returns a new list containing the squares of each number."
   ]
  },
  {
   "cell_type": "code",
   "execution_count": null,
   "id": "d5ef21b5-4c8d-41c8-9199-01db564c04cb",
   "metadata": {},
   "outputs": [],
   "source": []
  },
  {
   "cell_type": "raw",
   "id": "c83fdf73-2708-47f0-9ca6-6372ff728a46",
   "metadata": {},
   "source": [
    "4. Write a Python function that checks if a given number is prime or not from 1 to 200."
   ]
  },
  {
   "cell_type": "code",
   "execution_count": 104,
   "id": "9be4acfa-643b-4706-91d2-fe2c7cb33b78",
   "metadata": {},
   "outputs": [],
   "source": [
    "def Prime_num(a):\n",
    "    for i in range(2,a):\n",
    "        if a >1 and a<= 200:\n",
    "            if a%i == 0:\n",
    "                print(a, \" is not a prime number\")\n",
    "                break\n",
    "        elif a == i:\n",
    "            print(a, \" is a prime number\")\n",
    "                    \n",
    "                \n",
    "Prime_num(5)"
   ]
  },
  {
   "cell_type": "markdown",
   "id": "3721d029-3a2e-4c2d-ad1e-d9e914261cca",
   "metadata": {},
   "source": [
    "5. Create an iterator class in Python that generates the Fibonacci sequence up to a specified number of terms"
   ]
  },
  {
   "cell_type": "code",
   "execution_count": null,
   "id": "74060dae-9ce0-4b4e-bbe8-07e12c42858e",
   "metadata": {},
   "outputs": [],
   "source": []
  },
  {
   "cell_type": "raw",
   "id": "5f37dcc9-1b1a-4934-95d5-661904c9a4ea",
   "metadata": {},
   "source": [
    "6. Write a generator function in Python that yields the powers of 2 up to a given exponent."
   ]
  },
  {
   "cell_type": "code",
   "execution_count": null,
   "id": "13f54812-a034-4096-b27c-b80d922fe2f5",
   "metadata": {},
   "outputs": [],
   "source": []
  },
  {
   "cell_type": "raw",
   "id": "40e100a4-4298-4206-a3a4-44b2d1e7c62c",
   "metadata": {},
   "source": [
    "7. Implement a generator function that reads a file line by line and yields each line as a string."
   ]
  },
  {
   "cell_type": "code",
   "execution_count": null,
   "id": "2938ad11-73a7-44cd-a8e9-5ec6d42c5018",
   "metadata": {},
   "outputs": [],
   "source": []
  },
  {
   "cell_type": "raw",
   "id": "97ccf44d-e7a6-44c7-bce1-54e6c8a5b89d",
   "metadata": {},
   "source": [
    "8. Use a lambda function in Python to sort a list of tuples based on the second element of each tuple."
   ]
  },
  {
   "cell_type": "code",
   "execution_count": null,
   "id": "93d437e6-ab66-402b-8cc1-6eb92db92e1d",
   "metadata": {},
   "outputs": [],
   "source": []
  },
  {
   "cell_type": "raw",
   "id": "2f77cea3-6977-4cf3-8c3f-ae56c9974148",
   "metadata": {},
   "source": [
    "9. Write a Python program that uses `map()` to convert a list of temperatures from Celsius to Fahrenheit."
   ]
  },
  {
   "cell_type": "code",
   "execution_count": null,
   "id": "9de82104-a615-4569-8e3d-f8e8aa36e098",
   "metadata": {},
   "outputs": [],
   "source": []
  },
  {
   "cell_type": "raw",
   "id": "9eb09d6f-1801-4234-9f4d-8be3a746a5c0",
   "metadata": {},
   "source": [
    "10. Create a Python program that uses `filter()` to remove all the vowels from a given string."
   ]
  },
  {
   "cell_type": "code",
   "execution_count": null,
   "id": "d2039ac2-a1dc-45a8-ab3c-22ba5b86ef44",
   "metadata": {},
   "outputs": [],
   "source": []
  },
  {
   "cell_type": "raw",
   "id": "665402f2-7497-455b-a27a-42dc39bed787",
   "metadata": {},
   "source": [
    "11) Imagine an accounting routine used in a book shop. It works on a list with sublists, which look like this:\n",
    "\n",
    "\n",
    "\n",
    "\n",
    "\n",
    "\n",
    "\n",
    "Write a Python program, which returns a list with 2-tuples. Each tuple consists of the order number and the \n",
    "product of the price per item and the quantity. The product should be increased by 10,- € if the value of the \n",
    "order is smaller than 100,00 €.\n",
    "\n",
    "Write a Python program using lambda and map"
   ]
  },
  {
   "cell_type": "code",
   "execution_count": null,
   "id": "5a55149a-a96c-49cd-b4cf-e1fbb40f2ef2",
   "metadata": {},
   "outputs": [],
   "source": []
  }
 ],
 "metadata": {
  "kernelspec": {
   "display_name": "Python 3 (ipykernel)",
   "language": "python",
   "name": "python3"
  },
  "language_info": {
   "codemirror_mode": {
    "name": "ipython",
    "version": 3
   },
   "file_extension": ".py",
   "mimetype": "text/x-python",
   "name": "python",
   "nbconvert_exporter": "python",
   "pygments_lexer": "ipython3",
   "version": "3.11.7"
  }
 },
 "nbformat": 4,
 "nbformat_minor": 5
}
