{
 "cells": [
  {
   "cell_type": "code",
   "execution_count": 2,
   "id": "5814819d-81d2-4271-b722-21fe699c4eac",
   "metadata": {},
   "outputs": [],
   "source": [
    "import numpy as np\n",
    "import pandas as pd\n",
    "import matplotlib.pyplot as plt\n",
    "import seaborn as sns\n",
    "import statistics as st\n",
    "import math\n",
    "import scipy.stats as stats\n",
    "\n",
    "import warnings\n",
    "warnings.filterwarnings('ignore')"
   ]
  },
  {
   "cell_type": "code",
   "execution_count": null,
   "id": "2636f66e-9faf-4740-b5c0-89a29576f341",
   "metadata": {},
   "outputs": [],
   "source": [
    "Write a Python program to perform a Z-test for comparing a sample mean to a known population mean and \n",
    "interpret the results"
   ]
  },
  {
   "cell_type": "code",
   "execution_count": 4,
   "id": "bce1ffad-0ea9-49dc-a46e-ae677b6448ab",
   "metadata": {},
   "outputs": [
    {
     "name": "stdout",
     "output_type": "stream",
     "text": [
      "Z-Statistic: -560128131373970.2500\n",
      "P-Value: 0.0000\n",
      "Reject the null hypothesis: The average battery life is different from 12 hours.\n"
     ]
    }
   ],
   "source": [
    "import numpy as np\n",
    "from statsmodels.stats.weightstats import ztest\n",
    "\n",
    "data = [11.8] * 100  \n",
    "population_mean = 12\n",
    "population_std_dev = 0.5\n",
    "\n",
    "z_statistic, p_value = ztest(data, value=population_mean)\n",
    "\n",
    "print(f\"Z-Statistic: {z_statistic:.4f}\")\n",
    "print(f\"P-Value: {p_value:.4f}\")\n",
    "\n",
    "alpha = 0.05\n",
    "if p_value < alpha:\n",
    "    print(\"Reject the null hypothesis: The average battery life is different from 12 hours.\")\n",
    "else:\n",
    "    print(\"Fail to reject the null hypothesis:The average battery life is not ignificantly different from 12 hours.\")"
   ]
  },
  {
   "cell_type": "code",
   "execution_count": null,
   "id": "cda7b42d-8d2b-4ddb-bc4e-2d2b83a66856",
   "metadata": {},
   "outputs": [],
   "source": [
    "Simulate random data to perform hypothesis testing and calculate the corresponding P-value using Python"
   ]
  },
  {
   "cell_type": "code",
   "execution_count": null,
   "id": "0cf46cce-8ff1-4088-9476-3744c801cfeb",
   "metadata": {},
   "outputs": [],
   "source": []
  },
  {
   "cell_type": "code",
   "execution_count": null,
   "id": "4aa6cc5b-4527-418d-b2a1-cde9ab295fe8",
   "metadata": {},
   "outputs": [],
   "source": [
    "Implement a one-sample Z-test using Python to compare the sample mean with the population mean"
   ]
  },
  {
   "cell_type": "code",
   "execution_count": 5,
   "id": "5526d46a-c4fd-446d-aa78-d2affea8373d",
   "metadata": {},
   "outputs": [
    {
     "name": "stdout",
     "output_type": "stream",
     "text": [
      "Z-Statistic: -560128131373970.2500\n",
      "P-Value: 0.0000\n",
      "Reject the null hypothesis: The average battery life is different from 12 hours.\n"
     ]
    }
   ],
   "source": [
    "import numpy as np\n",
    "from statsmodels.stats.weightstats import ztest\n",
    "\n",
    "data = [11.8] * 100  \n",
    "population_mean = 12\n",
    "population_std_dev = 0.5\n",
    "\n",
    "z_statistic, p_value = ztest(data, value=population_mean)\n",
    "\n",
    "print(f\"Z-Statistic: {z_statistic:.4f}\")\n",
    "print(f\"P-Value: {p_value:.4f}\")\n",
    "\n",
    "alpha = 0.05\n",
    "if p_value < alpha:\n",
    "    print(\"Reject the null hypothesis: The average battery life is different from 12 hours.\")\n",
    "else:\n",
    "    print(\"Fail to reject the null hypothesis:The average battery life is not ignificantly different from 12 hours.\")"
   ]
  },
  {
   "cell_type": "code",
   "execution_count": null,
   "id": "e48b414e-b8df-4fc3-b3a5-492da42d5f2c",
   "metadata": {},
   "outputs": [],
   "source": [
    "Perform a two-tailed Z-test using Python and visualize the decision region on a plot"
   ]
  },
  {
   "cell_type": "code",
   "execution_count": 6,
   "id": "c7c1891c-2fce-4181-b82e-05599844a620",
   "metadata": {},
   "outputs": [
    {
     "name": "stdout",
     "output_type": "stream",
     "text": [
      "Z-Score: 2.3836564731139807\n",
      "Critical Z-Score: 1.959963984540054\n",
      "Reject the null hypothesis.\n",
      "There is a significant difference b/w the online and offline classes.\n"
     ]
    }
   ],
   "source": [
    "import numpy as np\n",
    "import scipy.stats as stats\n",
    "\n",
    "# Group A (Offline Classes)\n",
    "n1 = 50\n",
    "x1 = 75\n",
    "s1 = 10\n",
    "\n",
    "# Group B (Online Classes)\n",
    "n2 = 60\n",
    "x2 = 80\n",
    "s2 = 12\n",
    "\n",
    "# Null Hypothesis = mu_1-mu_2 = 0 \n",
    "# Hypothesized difference (under the null hypothesis)\n",
    "D = 0\n",
    "\n",
    "# Set the significance level\n",
    "alpha = 0.05\n",
    "\n",
    "# Calculate the test statistic (z-score)\n",
    "z_score = ((x1 - x2) - D) / np.sqrt((s1**2 / n1) + (s2**2 / n2))\n",
    "print('Z-Score:', np.abs(z_score))\n",
    "\n",
    "# Calculate the critical value\n",
    "z_critical = stats.norm.ppf(1 - alpha/2)\n",
    "print('Critical Z-Score:',z_critical)\n",
    "\n",
    "# Compare the test statistic with the critical value\n",
    "if np.abs(z_score) > z_critical:\n",
    "    print(\"\"\"Reject the null hypothesis.\n",
    "There is a significant difference b/w the online and offline classes.\"\"\")\n",
    "else:\n",
    "    print(\"\"\"Fail to reject the null hypothesis.\n",
    "There is not evidence to suggest a significant difference b/w the online and offline classes.\"\"\")"
   ]
  },
  {
   "cell_type": "code",
   "execution_count": null,
   "id": "eedde44f-fe70-4211-915e-a6c2b7d8a490",
   "metadata": {},
   "outputs": [],
   "source": [
    "Create a Python function that calculates and visualizes Type 1 and Type 2 errors during hypothesis testing"
   ]
  },
  {
   "cell_type": "code",
   "execution_count": 7,
   "id": "b4ea72f3-c55d-4725-afd5-5a62338b5809",
   "metadata": {},
   "outputs": [
    {
     "name": "stdout",
     "output_type": "stream",
     "text": [
      "Reject the null hypothesis.\n",
      "There is statistically significant evidence that the average cholesterol level in the population is different from 200 mg/dL.\n"
     ]
    }
   ],
   "source": [
    "import scipy.stats as stats\n",
    "import math\n",
    "import numpy as np\n",
    "\n",
    "# Given data\n",
    "sample_data = np.array(\n",
    "    [205, 198, 210, 190, 215, 205, 200, 192, 198, 205, 198, 202, 208, 200, 205, 198, 205, 210, 192, 205, 198, 205, 210, 192, 205])\n",
    "population_std_dev = 5\n",
    "population_mean = 200\n",
    "sample_size = len(sample_data)\n",
    "\n",
    "# Step 1: Define the Hypotheses\n",
    "# Null Hypothesis (H0): The average cholesterol level in a population is 200 mg/dL.\n",
    "# Alternate Hypothesis (H1): The average cholesterol level in a population is different from 200 mg/dL.\n",
    "\n",
    "# Step 2: Define the Significance Level\n",
    "alpha = 0.05  # Two-tailed test\n",
    "\n",
    "# Critical values for a significance level of 0.05 (two-tailed)\n",
    "critical_value_left = stats.norm.ppf(alpha/2)\n",
    "critical_value_right = -critical_value_left\n",
    "\n",
    "# Step 3: Compute the test statistic\n",
    "sample_mean = sample_data.mean()\n",
    "z_score = (sample_mean - population_mean) / \\\n",
    "    (population_std_dev / math.sqrt(sample_size))\n",
    "\n",
    "# Step 4: Result\n",
    "# Check if the absolute value of the test statistic is greater than the critical values\n",
    "if abs(z_score) > max(abs(critical_value_left), abs(critical_value_right)):\n",
    "    print(\"Reject the null hypothesis.\")\n",
    "    print(\"There is statistically significant evidence that the average cholesterol level in the population is different from 200 mg/dL.\")\n",
    "else:\n",
    "    print(\"Fail to reject the null hypothesis.\")\n",
    "    print(\"There is not enough evidence to conclude that the average cholesterol level in the population is different from 200 mg/dL.\")"
   ]
  },
  {
   "cell_type": "code",
   "execution_count": null,
   "id": "f35aec16-fe2c-4756-a866-7ade95c5df5e",
   "metadata": {},
   "outputs": [],
   "source": [
    "Write a Python program to perform an independent T-test and interpret the results"
   ]
  },
  {
   "cell_type": "code",
   "execution_count": 8,
   "id": "c371366d-ef89-4648-b5be-6b01782f50b9",
   "metadata": {},
   "outputs": [
    {
     "name": "stdout",
     "output_type": "stream",
     "text": [
      "T-statistic (from scipy): -9.0\n",
      "P-value (from scipy): 8.538051223166285e-06\n",
      "T-statistic (calculated manually): -9.0\n",
      "Decision: Reject the null hypothesis at alpha=0.05.\n",
      "Conclusion: There is statistically significant evidence that the average blood pressure before and after treatment with the new drug is different.\n"
     ]
    }
   ],
   "source": [
    "import numpy as np\n",
    "from scipy import stats\n",
    "\n",
    "# Data\n",
    "before_treatment = np.array([120, 122, 118, 130, 125, 128, 115, 121, 123, 119])\n",
    "after_treatment = np.array([115, 120, 112, 128, 122, 125, 110, 117, 119, 114])\n",
    "\n",
    "# Step 1: Null and Alternate Hypotheses\n",
    "# Null Hypothesis: The new drug has no effect on blood pressure.\n",
    "# Alternate Hypothesis: The new drug has an effect on blood pressure.\n",
    "null_hypothesis = \"The new drug has no effect on blood pressure.\"\n",
    "alternate_hypothesis = \"The new drug has an effect on blood pressure.\"\n",
    "\n",
    "# Step 2: Significance Level\n",
    "alpha = 0.05\n",
    "\n",
    "# Step 3: Paired T-test\n",
    "t_statistic, p_value = stats.ttest_rel(after_treatment, before_treatment)\n",
    "\n",
    "# Step 4: Calculate T-statistic manually\n",
    "m = np.mean(after_treatment - before_treatment)\n",
    "s = np.std(after_treatment - before_treatment, ddof=1)  # using ddof=1 for sample standard deviation\n",
    "n = len(before_treatment)\n",
    "t_statistic_manual = m / (s / np.sqrt(n))\n",
    "\n",
    "# Step 5: Decision\n",
    "if p_value <= alpha:\n",
    "    decision = \"Reject\"\n",
    "else:\n",
    "    decision = \"Fail to reject\"\n",
    "\n",
    "# Conclusion\n",
    "if decision == \"Reject\":\n",
    "    conclusion = \"There is statistically significant evidence that the average blood pressure before and after treatment with the new drug is different.\"\n",
    "else:\n",
    "    conclusion = \"There is insufficient evidence to claim a significant difference in average blood pressure before and after treatment with the new drug.\"\n",
    "\n",
    "# Display results\n",
    "print(\"T-statistic (from scipy):\", t_statistic)\n",
    "print(\"P-value (from scipy):\", p_value)\n",
    "print(\"T-statistic (calculated manually):\", t_statistic_manual)\n",
    "print(f\"Decision: {decision} the null hypothesis at alpha={alpha}.\")\n",
    "print(\"Conclusion:\", conclusion)"
   ]
  },
  {
   "cell_type": "code",
   "execution_count": null,
   "id": "7361e33c-aabe-41a5-b4af-9256a13ecc3d",
   "metadata": {},
   "outputs": [],
   "source": [
    "Perform a paired sample T-test using Python and visualize the comparison results"
   ]
  },
  {
   "cell_type": "code",
   "execution_count": 9,
   "id": "bf900e5d-4fb1-4280-945f-f81d5715085d",
   "metadata": {},
   "outputs": [
    {
     "name": "stdout",
     "output_type": "stream",
     "text": [
      "T-value: -4.953488372093023\n",
      "P-Value: 0.0007875235561560145\n",
      "Critical t-value: 2.2621571627409915\n",
      "With T-value\n",
      "There is significant difference between math1 and math2\n",
      "With P-value\n",
      "Evidence found to reject the null hypothesis that significant difference between math1 and math2\n"
     ]
    }
   ],
   "source": [
    "from scipy import stats\n",
    "import numpy as np\n",
    "\n",
    "math1 = np.array([4, 4, 7, 16, 20, 11, 13, 9, 11, 15])\n",
    "math2 = np.array([15, 16, 14, 14, 22, 22, 23, 18, 18, 19])\n",
    "\n",
    "t_statistic, p_value = stats.ttest_rel(math1, math2)\n",
    "\n",
    "alpha = 0.05\n",
    "df = len(math2)-1\n",
    "\n",
    "critical_t = stats.t.ppf(1 - alpha/2, df)\n",
    "\n",
    "print(\"T-value:\", t_statistic)\n",
    "print(\"P-Value:\", p_value)\n",
    "print(\"Critical t-value:\", critical_t)\n",
    "\n",
    "print('With T-value')\n",
    "if np.abs(t_statistic) >critical_t:\n",
    "    print('There is significant difference between math1 and math2')\n",
    "else:\n",
    "    print('No significant difference found between math1 and math2')\n",
    "\n",
    "print('With P-value')\n",
    "if p_value >alpha:\n",
    "    print('No evidence to reject the null hypothesis that significant difference between math1 and math2')\n",
    "else:\n",
    "    print('Evidence found to reject the null hypothesis that significant difference between math1 and math2')"
   ]
  },
  {
   "cell_type": "code",
   "execution_count": null,
   "id": "83d5c2b5-2e13-4b3b-8b56-bb5e4e1faa11",
   "metadata": {},
   "outputs": [],
   "source": [
    "Simulate data and perform both Z-test and T-test, then compare the results using Python"
   ]
  },
  {
   "cell_type": "code",
   "execution_count": null,
   "id": "6ae8bc1b-e64f-4bbd-a8cc-bb47e030db7f",
   "metadata": {},
   "outputs": [],
   "source": []
  },
  {
   "cell_type": "code",
   "execution_count": null,
   "id": "bb04d14b-184c-45c2-a671-1325824bc151",
   "metadata": {},
   "outputs": [],
   "source": [
    "Write a Python function to calculate the confidence interval for a sample mean and explain its significance."
   ]
  },
  {
   "cell_type": "code",
   "execution_count": 10,
   "id": "d5f123fa-1535-4c03-9195-1f94143d6357",
   "metadata": {},
   "outputs": [
    {
     "name": "stdout",
     "output_type": "stream",
     "text": [
      "Confidence Interval: (222.1160773511857, 257.8839226488143)\n"
     ]
    }
   ],
   "source": [
    "import scipy.stats as stats\n",
    "import math\n",
    "\n",
    "sample_mean = 240\n",
    "sample_std_dev = 25\n",
    "sample_size = 10\n",
    "confidence_level = 0.95\n",
    "\n",
    "df = sample_size - 1\n",
    "\n",
    "alpha = (1 - confidence_level) / 2\n",
    "\n",
    "t_value = stats.t.ppf(1 - alpha, df)\n",
    "\n",
    "margin_of_error = t_value * (sample_std_dev / math.sqrt(sample_size))\n",
    "\n",
    "lower_limit = sample_mean - margin_of_error\n",
    "upper_limit = sample_mean + margin_of_error\n",
    "\n",
    "print(f\"Confidence Interval: ({lower_limit}, {upper_limit})\")"
   ]
  },
  {
   "cell_type": "code",
   "execution_count": null,
   "id": "903c167a-29c3-4319-a887-c52c2bcf9c4b",
   "metadata": {},
   "outputs": [],
   "source": [
    "Write a Python program to calculate the margin of error for a given confidence level using sample data"
   ]
  },
  {
   "cell_type": "code",
   "execution_count": 22,
   "id": "95abd157-4912-497e-b79b-74f2b9fb60df",
   "metadata": {},
   "outputs": [
    {
     "name": "stdout",
     "output_type": "stream",
     "text": [
      "Confidence Interval: (4.480, 4.780)\n",
      "0.1496803634415684\n"
     ]
    }
   ],
   "source": [
    "from scipy import stats\n",
    "import numpy as np\n",
    "\n",
    "sample_mean = 4.63\n",
    "std_dev = 0.54\n",
    "sample_size = 50\n",
    "confidence_level = 0.95\n",
    "\n",
    "standard_error = std_dev / np.sqrt(sample_size)\n",
    "\n",
    "z_value = 1.960  \n",
    "\n",
    "margin_of_error = z_value * (std_dev / math.sqrt(sample_size))\n",
    "\n",
    "lower_limit = sample_mean - margin_of_error\n",
    "upper_limit = sample_mean + margin_of_error\n",
    "\n",
    "print(f\"Confidence Interval: ({lower_limit:.3f}, {upper_limit:.3f})\")\n",
    "print(margin_of_error)"
   ]
  },
  {
   "cell_type": "code",
   "execution_count": null,
   "id": "2cecf6fc-0f18-4687-84ca-4a77d9a2f79b",
   "metadata": {},
   "outputs": [],
   "source": [
    "Implement a Bayesian inference method using Bayes' Theorem in Python and explain the process"
   ]
  },
  {
   "cell_type": "code",
   "execution_count": null,
   "id": "3d2cc58e-6159-4b50-93d6-cafbb6bdad59",
   "metadata": {},
   "outputs": [],
   "source": []
  },
  {
   "cell_type": "code",
   "execution_count": null,
   "id": "2938a1f5-dfa3-4327-9008-9e7c493ccfa2",
   "metadata": {},
   "outputs": [],
   "source": [
    "Perform a Chi-square test for independence between two categorical variables in Python"
   ]
  },
  {
   "cell_type": "code",
   "execution_count": 27,
   "id": "6462cd18-7bf3-4dbf-b6f4-b518e6bfdca9",
   "metadata": {},
   "outputs": [
    {
     "data": {
      "image/png": "[encoded data removed]",
      "text/plain": [
       "<Figure size 640x480 with 1 Axes>"
      ]
     },
     "metadata": {},
     "output_type": "display_data"
    }
   ],
   "source": [
    "#multiple chi-square distribution\n",
    "c = np.random.chisquare(df = 30, size = 10000)\n",
    "d = np.random.chisquare(df = 10, size = 10000)\n",
    "c = c[np.where(abs(c) < 100)]\n",
    "d = d[np.where(abs(d) < 100)]\n",
    "plt.hist(c, bins = 1000)\n",
    "plt.hist(d, bins = 1000)\n",
    "plt.show()"
   ]
  },
  {
   "cell_type": "code",
   "execution_count": null,
   "id": "618de43f-23ac-4e38-83bf-6820fb8c6759",
   "metadata": {},
   "outputs": [],
   "source": [
    "Write a Python program to calculate the expected frequencies for a Chi-square test based on observed \n",
    "data"
   ]
  },
  {
   "cell_type": "code",
   "execution_count": 31,
   "id": "ab912114-f1aa-4d84-b7e3-940fc0b9774d",
   "metadata": {},
   "outputs": [
    {
     "ename": "TypeError",
     "evalue": "list indices must be integers or slices, not str",
     "output_type": "error",
     "traceback": [
      "\u001b[1;31m---------------------------------------------------------------------------\u001b[0m",
      "\u001b[1;31mTypeError\u001b[0m                                 Traceback (most recent call last)",
      "Cell \u001b[1;32mIn[31], line 2\u001b[0m\n\u001b[0;32m      1\u001b[0m df \u001b[38;5;241m=\u001b[39msns\u001b[38;5;241m.\u001b[39mload_dataset(\u001b[38;5;124m'\u001b[39m\u001b[38;5;124mtips\u001b[39m\u001b[38;5;124m'\u001b[39m)\n\u001b[1;32m----> 2\u001b[0m data_table \u001b[38;5;241m=\u001b[39m pd\u001b[38;5;241m.\u001b[39mcrosstab(data[\u001b[38;5;124m'\u001b[39m\u001b[38;5;124msex\u001b[39m\u001b[38;5;124m'\u001b[39m], data[\u001b[38;5;124m'\u001b[39m\u001b[38;5;124msmoker\u001b[39m\u001b[38;5;124m'\u001b[39m])\n\u001b[0;32m      3\u001b[0m observed_values \u001b[38;5;241m=\u001b[39m data_table\u001b[38;5;241m.\u001b[39mvalues\n\u001b[0;32m      4\u001b[0m expected_values \u001b[38;5;241m=\u001b[39m stats\u001b[38;5;241m.\u001b[39mchi2_contingency(observed_values)\n",
      "\u001b[1;31mTypeError\u001b[0m: list indices must be integers or slices, not str"
     ]
    }
   ],
   "source": [
    "df =sns.load_dataset('tips')\n",
    "data_table = pd.crosstab(data['sex'], data['smoker'])\n",
    "observed_values = data_table.values\n",
    "expected_values = stats.chi2_contingency(observed_values)\n",
    "expected_values"
   ]
  },
  {
   "cell_type": "code",
   "execution_count": null,
   "id": "a615304f-395f-411a-8371-90fdece18270",
   "metadata": {},
   "outputs": [],
   "source": [
    "Perform a goodness-of-fit test using Python to compare the observed data to an expected distribution"
   ]
  },
  {
   "cell_type": "code",
   "execution_count": null,
   "id": "deb1e70e-48c8-46d0-aaba-89d684c1519a",
   "metadata": {},
   "outputs": [],
   "source": []
  },
  {
   "cell_type": "code",
   "execution_count": null,
   "id": "f00ff8ce-7aa3-4557-9562-24790cafe092",
   "metadata": {},
   "outputs": [],
   "source": [
    "Create a Python script to simulate and visualize the Chi-square distribution and discuss its characteristics"
   ]
  },
  {
   "cell_type": "code",
   "execution_count": 28,
   "id": "bce07105-788f-48ca-8689-27c93e5856b0",
   "metadata": {},
   "outputs": [
    {
     "data": {
      "image/png": "[encoded data removed]",
      "text/plain": [
       "<Figure size 640x480 with 1 Axes>"
      ]
     },
     "metadata": {},
     "output_type": "display_data"
    }
   ],
   "source": [
    "#multiple chi-square distribution\n",
    "c = np.random.chisquare(df = 30, size = 10000)\n",
    "d = np.random.chisquare(df = 10, size = 10000)\n",
    "c = c[np.where(abs(c) < 100)]\n",
    "d = d[np.where(abs(d) < 100)]\n",
    "plt.hist(c, bins = 1000)\n",
    "plt.hist(d, bins = 1000)\n",
    "plt.show()"
   ]
  },
  {
   "cell_type": "code",
   "execution_count": null,
   "id": "8c9b2880-6ccd-497b-a80f-c65368441d34",
   "metadata": {},
   "outputs": [],
   "source": [
    "Implement an F-test using Python to compare the variances of two random samples"
   ]
  },
  {
   "cell_type": "code",
   "execution_count": null,
   "id": "8713aea0-c855-4795-b685-a46b374e590b",
   "metadata": {},
   "outputs": [],
   "source": []
  },
  {
   "cell_type": "code",
   "execution_count": null,
   "id": "3fb752ef-c506-4ead-bd3b-c8e30a96201e",
   "metadata": {},
   "outputs": [],
   "source": [
    "Write a Python program to perform an ANOVA test to compare means between multiple groups and \n",
    "interpret the results"
   ]
  },
  {
   "cell_type": "code",
   "execution_count": null,
   "id": "40f9f065-b14d-44d4-bf40-1d03ee57165e",
   "metadata": {},
   "outputs": [],
   "source": []
  },
  {
   "cell_type": "code",
   "execution_count": null,
   "id": "38a6fe1c-eb56-4d67-871a-859ddb080852",
   "metadata": {},
   "outputs": [],
   "source": [
    "Perform a one-way ANOVA test using Python to compare the means of different groups and plot the results"
   ]
  },
  {
   "cell_type": "code",
   "execution_count": 23,
   "id": "6307cf8b-ba88-4e22-85d4-dd4f76af9933",
   "metadata": {},
   "outputs": [
    {
     "data": {
      "text/plain": [
       "F_onewayResult(statistic=4.625000000000002, pvalue=0.016336459839780215)"
      ]
     },
     "execution_count": 23,
     "metadata": {},
     "output_type": "execute_result"
    }
   ],
   "source": [
    "from scipy.stats import f_oneway\n",
    "# oil is applied\n",
    "performance1 = [89, 89, 88, 78, 79]\n",
    "performance2 = [93, 92, 94, 89, 88]\n",
    "performance3 = [89, 88, 89, 93, 90]\n",
    "performance4 = [81, 78, 81, 92, 82]\n",
    "\n",
    "# oil is applied\n",
    "performance1 = [89, 89, 88, 78, 79]\n",
    "performance2 = [93, 92, 94, 89, 88]\n",
    "performance3 = [89, 88, 89, 93, 90]\n",
    "performance4 = [81, 78, 81, 92, 82]\n",
    "\n",
    "# Conduct the one-way ANOVA\n",
    "f_oneway(performance1, performance2, performance3, performance4)"
   ]
  },
  {
   "cell_type": "code",
   "execution_count": null,
   "id": "8c300649-a5e4-4804-9275-a204a7e4a428",
   "metadata": {},
   "outputs": [],
   "source": [
    "Write a Python function to check the assumptions (normality, independence, and equal variance) for ANOVA"
   ]
  },
  {
   "cell_type": "code",
   "execution_count": null,
   "id": "9b895bdd-64ae-40a2-9ae7-b48b2e446564",
   "metadata": {},
   "outputs": [],
   "source": []
  },
  {
   "cell_type": "code",
   "execution_count": null,
   "id": "fe5378d3-f86c-4705-bf55-b154ad2e8d4d",
   "metadata": {},
   "outputs": [],
   "source": [
    "Perform a two-way ANOVA test using Python to study the interaction between two factors and visualize the \n",
    "results"
   ]
  },
  {
   "cell_type": "code",
   "execution_count": 20,
   "id": "c01f140f-b96b-4de7-8503-210e09c1efa1",
   "metadata": {},
   "outputs": [
    {
     "name": "stdout",
     "output_type": "stream",
     "text": [
      "Unexpected exception formatting exception. Falling back to standard exception\n"
     ]
    },
    {
     "name": "stderr",
     "output_type": "stream",
     "text": [
      "Traceback (most recent call last):\n",
      "  File \"C:\\Users\\User\\anaconda3\\Lib\\site-packages\\patsy\\compat.py\", line 36, in call_and_wrap_exc\n",
      "    return f(*args, **kwargs)\n",
      "           ^^^^^^^^^^^^^^^^^^\n",
      "  File \"C:\\Users\\User\\anaconda3\\Lib\\site-packages\\patsy\\eval.py\", line 169, in eval\n",
      "    return eval(code, {}, VarLookupDict([inner_namespace]\n",
      "           ^^^^^^^^^^^^^^^^^^^^^^^^^^^^^^^^^^^^^^^^^^^^^^\n",
      "  File \"<string>\", line 1, in <module>\n",
      "  File \"C:\\Users\\User\\anaconda3\\Lib\\site-packages\\patsy\\eval.py\", line 52, in __getitem__\n",
      "    return d[key]\n",
      "           ~^^^^^\n",
      "  File \"C:\\Users\\User\\anaconda3\\Lib\\site-packages\\patsy\\eval.py\", line 52, in __getitem__\n",
      "    return d[key]\n",
      "           ~^^^^^\n",
      "TypeError: 'int' object is not subscriptable\n",
      "\n",
      "The above exception was the direct cause of the following exception:\n",
      "\n",
      "Traceback (most recent call last):\n",
      "  File \"C:\\Users\\User\\anaconda3\\Lib\\site-packages\\IPython\\core\\interactiveshell.py\", line 3553, in run_code\n",
      "    exec(code_obj, self.user_global_ns, self.user_ns)\n",
      "  File \"C:\\Users\\User\\AppData\\Local\\Temp\\ipykernel_8872\\1624177171.py\", line 11, in <module>\n",
      "    model = ols( 'height ~ C(Fertilizer) + C(Watering) +  C(Fertilizer):C(Watering)', data=df).fit()\n",
      "           ^^^^^^^^^^^^^^^^^^^^^^^^^^^^^^^^^^^^^^^^^^^^^^^^^^^^^^^^^^^^^^^^^^^^^^^^^^^^^^^^^^\n",
      "  File \"C:\\Users\\User\\anaconda3\\Lib\\site-packages\\statsmodels\\base\\model.py\", line 203, in from_formula\n",
      "    tmp = handle_formula_data(data, None, formula, depth=eval_env,\n",
      "          ^^^^^^^^^^^^^^^^^^^^^^^^^^^^^^^^^^^^^^^^^^^^^^^^^^^^^^^^\n",
      "  File \"C:\\Users\\User\\anaconda3\\Lib\\site-packages\\statsmodels\\formula\\formulatools.py\", line 66, in handle_formula_data\n",
      "    result = dmatrices(formula, Y, depth, return_type='dataframe',\n",
      "             ^^^^^^^^^^^^^^^^^^^^^^^^^^^^^^^^^^^^^^^^^^^^^^^^^^^^^\n",
      "  File \"C:\\Users\\User\\anaconda3\\Lib\\site-packages\\patsy\\highlevel.py\", line 309, in dmatrices\n",
      "    (lhs, rhs) = _do_highlevel_design(formula_like, data, eval_env,\n",
      "                 ^^^^^^^^^^^^^^^^^^^^^^^^^^^^^^^^^^^^^^^^^^^^^^^^^^\n",
      "  File \"C:\\Users\\User\\anaconda3\\Lib\\site-packages\\patsy\\highlevel.py\", line 164, in _do_highlevel_design\n",
      "    design_infos = _try_incr_builders(formula_like, data_iter_maker, eval_env,\n",
      "                   ^^^^^^^^^^^^^^^^^^^^^^^^^^^^^^^^^^^^^^^^^^^^^^^^^^^^^^^^^^^\n",
      "  File \"C:\\Users\\User\\anaconda3\\Lib\\site-packages\\patsy\\highlevel.py\", line 66, in _try_incr_builders\n",
      "    return design_matrix_builders([formula_like.lhs_termlist,\n",
      "           ^^^^^^^^^^^^^^^^^^^^^^^^^^^^^^^^^^^^^^^^^^^^^^^^^^\n",
      "  File \"C:\\Users\\User\\anaconda3\\Lib\\site-packages\\patsy\\build.py\", line 693, in design_matrix_builders\n",
      "    cat_levels_contrasts) = _examine_factor_types(all_factors,\n",
      "                            ^^^^^^^^^^^^^^^^^^^^^^^^^^^^^^^^^^\n",
      "  File \"C:\\Users\\User\\anaconda3\\Lib\\site-packages\\patsy\\build.py\", line 443, in _examine_factor_types\n",
      "    value = factor.eval(factor_states[factor], data)\n",
      "            ^^^^^^^^^^^^^^^^^^^^^^^^^^^^^^^^^^^^^^^^\n",
      "  File \"C:\\Users\\User\\anaconda3\\Lib\\site-packages\\patsy\\eval.py\", line 568, in eval\n",
      "    return self._eval(memorize_state[\"eval_code\"],\n",
      "           ^^^^^^^^^^^^^^^^^^^^^^^^^^^^^^^^^^^^^^^\n",
      "  File \"C:\\Users\\User\\anaconda3\\Lib\\site-packages\\patsy\\eval.py\", line 551, in _eval\n",
      "    return call_and_wrap_exc(\"Error evaluating factor\",\n",
      "           ^^^^^^^^^^^^^^^^^^^^^^^^^^^^^^^^^^^^^^^^^^^^\n",
      "  File \"C:\\Users\\User\\anaconda3\\Lib\\site-packages\\patsy\\compat.py\", line 43, in call_and_wrap_exc\n",
      "    exec(\"raise new_exc from e\")\n",
      "  File \"<string>\", line 1, in <module>\n",
      "patsy.PatsyError: Error evaluating factor: TypeError: 'int' object is not subscriptable\n",
      "    height ~ C(Fertilizer) + C(Watering) +  C(Fertilizer):C(Watering)\n",
      "             ^^^^^^^^^^^^^\n",
      "\n",
      "During handling of the above exception, another exception occurred:\n",
      "\n",
      "Traceback (most recent call last):\n",
      "  File \"C:\\Users\\User\\anaconda3\\Lib\\site-packages\\IPython\\core\\interactiveshell.py\", line 2144, in showtraceback\n",
      "    stb = self.InteractiveTB.structured_traceback(\n",
      "          ^^^^^^^^^^^^^^^^^^^^^^^^^^^^^^^^^^^^^^^^\n",
      "  File \"C:\\Users\\User\\anaconda3\\Lib\\site-packages\\IPython\\core\\ultratb.py\", line 1435, in structured_traceback\n",
      "    return FormattedTB.structured_traceback(\n",
      "           ^^^^^^^^^^^^^^^^^^^^^^^^^^^^^^^^^\n",
      "  File \"C:\\Users\\User\\anaconda3\\Lib\\site-packages\\IPython\\core\\ultratb.py\", line 1326, in structured_traceback\n",
      "    return VerboseTB.structured_traceback(\n",
      "           ^^^^^^^^^^^^^^^^^^^^^^^^^^^^^^^\n",
      "  File \"C:\\Users\\User\\anaconda3\\Lib\\site-packages\\IPython\\core\\ultratb.py\", line 1192, in structured_traceback\n",
      "    formatted_exceptions += self.format_exception_as_a_whole(etype, evalue, etb, lines_of_context,\n",
      "                            ^^^^^^^^^^^^^^^^^^^^^^^^^^^^^^^^^^^^^^^^^^^^^^^^^^^^^^^^^^^^^^^^^^^^^^\n",
      "  File \"C:\\Users\\User\\anaconda3\\Lib\\site-packages\\IPython\\core\\ultratb.py\", line 1075, in format_exception_as_a_whole\n",
      "    record.frame.f_locals.get(\"__tracebackhide__\", 0)\n",
      "  File \"C:\\Users\\User\\anaconda3\\Lib\\site-packages\\patsy\\eval.py\", line 70, in get\n",
      "    return self[key]\n",
      "           ~~~~^^^^^\n",
      "  File \"C:\\Users\\User\\anaconda3\\Lib\\site-packages\\patsy\\eval.py\", line 52, in __getitem__\n",
      "    return d[key]\n",
      "           ~^^^^^\n",
      "  File \"C:\\Users\\User\\anaconda3\\Lib\\site-packages\\patsy\\eval.py\", line 52, in __getitem__\n",
      "    return d[key]\n",
      "           ~^^^^^\n",
      "TypeError: 'int' object is not subscriptable\n"
     ]
    }
   ],
   "source": [
    "import statsmodels.api as sm \n",
    "from statsmodels.formula.api import ols \n",
    "# Create a dataframe \n",
    "dataframe = pd.DataFrame({'Fertilizer': np.repeat(['daily', 'weekly'], 15), \n",
    "                          'Watering': np.repeat(['daily', 'weekly'], 15), \n",
    "                          'height': [14, 16, 15, 15, 16, 13, 12, 11, 14,  \n",
    "                                     15, 16, 16, 17, 18, 14, 13, 14, 14,  \n",
    "                                     14, 15, 16, 16, 17, 18, 14, 13, 14,  \n",
    "                                     14, 14, 15]}) \n",
    "# Performing two-way ANOVA \n",
    "model = ols( 'height ~ C(Fertilizer) + C(Watering) +  C(Fertilizer):C(Watering)', data=df).fit() \n",
    "sm.stats.anova_lm(model, typ=2) "
   ]
  },
  {
   "cell_type": "code",
   "execution_count": null,
   "id": "1764583e-abab-4d11-b09f-c22cd544cf66",
   "metadata": {},
   "outputs": [],
   "source": [
    "Write a Python program to visualize the F-distribution and discuss its use in hypothesis testing"
   ]
  },
  {
   "cell_type": "code",
   "execution_count": null,
   "id": "d53099cd-066c-4076-81ba-08e6f4937085",
   "metadata": {},
   "outputs": [],
   "source": []
  },
  {
   "cell_type": "code",
   "execution_count": null,
   "id": "5e463d35-05d6-4e70-9e1a-206ed879a582",
   "metadata": {},
   "outputs": [],
   "source": [
    "Perform a one-way ANOVA test in Python and visualize the results with boxplots to compare group means"
   ]
  },
  {
   "cell_type": "code",
   "execution_count": 16,
   "id": "2c99e8e5-be7b-45a7-8d11-53bb535f66b2",
   "metadata": {},
   "outputs": [
    {
     "data": {
      "text/plain": [
       "F_onewayResult(statistic=4.625000000000002, pvalue=0.016336459839780215)"
      ]
     },
     "execution_count": 16,
     "metadata": {},
     "output_type": "execute_result"
    }
   ],
   "source": [
    "from scipy.stats import f_oneway\n",
    "# oil is applied\n",
    "performance1 = [89, 89, 88, 78, 79]\n",
    "performance2 = [93, 92, 94, 89, 88]\n",
    "performance3 = [89, 88, 89, 93, 90]\n",
    "performance4 = [81, 78, 81, 92, 82]\n",
    "\n",
    "# oil is applied\n",
    "performance1 = [89, 89, 88, 78, 79]\n",
    "performance2 = [93, 92, 94, 89, 88]\n",
    "performance3 = [89, 88, 89, 93, 90]\n",
    "performance4 = [81, 78, 81, 92, 82]\n",
    "\n",
    "# Conduct the one-way ANOVA\n",
    "f_oneway(performance1, performance2, performance3, performance4)"
   ]
  },
  {
   "cell_type": "code",
   "execution_count": null,
   "id": "fe9e1b97-e936-4738-ae79-71b45aeee758",
   "metadata": {},
   "outputs": [],
   "source": [
    "Simulate random data from a normal distribution, then perform hypothesis testing to evaluate the means"
   ]
  },
  {
   "cell_type": "code",
   "execution_count": null,
   "id": "59aeaf4f-b92e-47c7-bc87-bb1231d2c4e5",
   "metadata": {},
   "outputs": [],
   "source": []
  },
  {
   "cell_type": "code",
   "execution_count": null,
   "id": "18c24461-2a74-4df4-aab9-7f5983ab6f3f",
   "metadata": {},
   "outputs": [],
   "source": [
    "Perform a hypothesis test for population variance using a Chi-square distribution and interpret the results"
   ]
  },
  {
   "cell_type": "code",
   "execution_count": 14,
   "id": "430a079d-f2f8-44fa-8574-6b9851241e63",
   "metadata": {},
   "outputs": [
    {
     "name": "stdout",
     "output_type": "stream",
     "text": [
      "p value is 0.1031971404730939\n",
      "Independent (H0 holds true)\n"
     ]
    }
   ],
   "source": [
    "from scipy.stats import chi2_contingency\n",
    "\n",
    "# defining the table\n",
    "data = [[207, 282, 241], [234, 242, 232]]\n",
    "stat, p, dof, expected = chi2_contingency(data)\n",
    "\n",
    "# interpret p-value\n",
    "alpha = 0.05\n",
    "print(\"p value is \" + str(p))\n",
    "if p <= alpha:\n",
    "    print('Dependent (reject H0)')\n",
    "else:\n",
    "    print('Independent (H0 holds true)')"
   ]
  },
  {
   "cell_type": "code",
   "execution_count": null,
   "id": "1e889833-eb24-42b8-83bb-9c40c9db3394",
   "metadata": {},
   "outputs": [],
   "source": [
    "Write a Python script to perform a Z-test for comparing proportions between two datasets or groups"
   ]
  },
  {
   "cell_type": "code",
   "execution_count": 11,
   "id": "5352ac54-75e7-4584-96a3-15d82abf3c75",
   "metadata": {},
   "outputs": [
    {
     "name": "stdout",
     "output_type": "stream",
     "text": [
      "Z-Score: 2.3836564731139807\n",
      "Critical Z-Score: 1.959963984540054\n",
      "Reject the null hypothesis.\n",
      "There is a significant difference b/w the online and offline classes.\n"
     ]
    }
   ],
   "source": [
    "import numpy as np\n",
    "import scipy.stats as stats\n",
    "\n",
    "# Group A (Offline Classes)\n",
    "n1 = 50\n",
    "x1 = 75\n",
    "s1 = 10\n",
    "\n",
    "# Group B (Online Classes)\n",
    "n2 = 60\n",
    "x2 = 80\n",
    "s2 = 12\n",
    "\n",
    "# Null Hypothesis = mu_1-mu_2 = 0 \n",
    "# Hypothesized difference (under the null hypothesis)\n",
    "D = 0\n",
    "\n",
    "# Set the significance level\n",
    "alpha = 0.05\n",
    "\n",
    "# Calculate the test statistic (z-score)\n",
    "z_score = ((x1 - x2) - D) / np.sqrt((s1**2 / n1) + (s2**2 / n2))\n",
    "print('Z-Score:', np.abs(z_score))\n",
    "\n",
    "# Calculate the critical value\n",
    "z_critical = stats.norm.ppf(1 - alpha/2)\n",
    "print('Critical Z-Score:',z_critical)\n",
    "\n",
    "# Compare the test statistic with the critical value\n",
    "if np.abs(z_score) > z_critical:\n",
    "    print(\"\"\"Reject the null hypothesis.\n",
    "There is a significant difference b/w the online and offline classes.\"\"\")\n",
    "else:\n",
    "    print(\"\"\"Fail to reject the null hypothesis.\n",
    "There is not evidence to suggest a significant difference b/w the online and offline classes.\"\"\")"
   ]
  },
  {
   "cell_type": "code",
   "execution_count": null,
   "id": "5f4e628f-d985-495b-a8f7-c68b0591703d",
   "metadata": {},
   "outputs": [],
   "source": [
    "Implement an F-test for comparing the variances of two datasets, then interpret and visualize the results"
   ]
  },
  {
   "cell_type": "code",
   "execution_count": 13,
   "id": "da1bb7f6-6941-4368-a694-0c8eaf5ae368",
   "metadata": {},
   "outputs": [
    {
     "name": "stdout",
     "output_type": "stream",
     "text": [
      "Degree of freedom 1: 24\n",
      "Degree of freedom 2: 19\n",
      "F-statistic: 0.7097057049809165\n",
      "p-value: 0.21166404987164147\n"
     ]
    }
   ],
   "source": [
    "import numpy as np\n",
    "import scipy.stats as stats\n",
    " \n",
    "# Create the data for two groups\n",
    "group1 = np.random.rand(25)\n",
    "group2 = np.random.rand(20)\n",
    " \n",
    "# Calculate the sample variances\n",
    "variance1 = np.var(group1, ddof=1)\n",
    "variance2 = np.var(group2, ddof=1)\n",
    " \n",
    "# Calculate the F-statistic\n",
    "f_value = variance1 / variance2\n",
    " \n",
    "# Calculate the degrees of freedom\n",
    "df1 = len(group1) - 1\n",
    "df2 = len(group2) - 1\n",
    " \n",
    "# Calculate the p-value\n",
    "p_value = stats.f.cdf(f_value, df1, df2)\n",
    " \n",
    "# Print the results\n",
    "print('Degree of freedom 1:',df1)\n",
    "print('Degree of freedom 2:',df2)\n",
    "print(\"F-statistic:\", f_value)\n",
    "print(\"p-value:\", p_value)"
   ]
  },
  {
   "cell_type": "code",
   "execution_count": null,
   "id": "1555bdd9-b926-442e-8400-eaa7ab0a24d5",
   "metadata": {},
   "outputs": [],
   "source": [
    "Perform a Chi-square test for goodness of fit with simulated data and analyze the results."
   ]
  },
  {
   "cell_type": "code",
   "execution_count": 12,
   "id": "a8c65ddf-5df0-437f-8506-4eb255e01f39",
   "metadata": {},
   "outputs": [
    {
     "data": {
      "image/png": "[encoded data removed]",
      "text/plain": [
       "<Figure size 640x480 with 1 Axes>"
      ]
     },
     "metadata": {},
     "output_type": "display_data"
    }
   ],
   "source": [
    "import numpy as np\n",
    "import matplotlib.pyplot as plt\n",
    "import scipy.stats as stats\n",
    "\n",
    "df = 2\n",
    "alpha = 0.05\n",
    "critical_value = stats.chi2.ppf(1 - alpha, df)\n",
    "calculated_chi_square = 3.747\n",
    "\n",
    "# Generate values for the chi-square distribution\n",
    "x = np.linspace(0, 10, 1000)\n",
    "y = stats.chi2.pdf(x, df)\n",
    "\n",
    "plt.plot(x, y, label='Chi-Square Distribution (df=2)')\n",
    "plt.fill_between(x, y, where=(x > critical_value), color='red', alpha=0.5, label='Critical Region')\n",
    "plt.axvline(calculated_chi_square, color='blue', linestyle='dashed', label='Calculated Chi-Square')\n",
    "plt.axvline(critical_value, color='green', linestyle='dashed', label='Critical Value')\n",
    "plt.title('Chi-Square Distribution and Critical Region')\n",
    "plt.xlabel('Chi-Square Value')\n",
    "plt.ylabel('Probability Density Function')\n",
    "plt.legend()\n",
    "plt.show()"
   ]
  },
  {
   "cell_type": "code",
   "execution_count": null,
   "id": "9e980b42-6fda-446d-a07a-00e1840f185d",
   "metadata": {},
   "outputs": [],
   "source": []
  },
  {
   "cell_type": "code",
   "execution_count": null,
   "id": "f7c783b6-5f8e-4a10-ae66-7a6983453650",
   "metadata": {},
   "outputs": [],
   "source": []
  },
  {
   "cell_type": "code",
   "execution_count": null,
   "id": "aedefcc1-5a49-4079-a14f-e93a14f2fa5e",
   "metadata": {},
   "outputs": [],
   "source": []
  },
  {
   "cell_type": "code",
   "execution_count": null,
   "id": "8cb44159-c8ad-443d-8a6f-a815ad8cba24",
   "metadata": {},
   "outputs": [],
   "source": []
  },
  {
   "cell_type": "code",
   "execution_count": null,
   "id": "700432cc-b1e0-4211-ad4c-5e56af600a03",
   "metadata": {},
   "outputs": [],
   "source": []
  },
  {
   "cell_type": "code",
   "execution_count": null,
   "id": "d9f5a656-c0d8-472d-9795-14c83e4e659b",
   "metadata": {},
   "outputs": [],
   "source": []
  },
  {
   "cell_type": "code",
   "execution_count": null,
   "id": "2168a55c-bd26-49fe-b41e-29c429e1b9cb",
   "metadata": {},
   "outputs": [],
   "source": []
  },
  {
   "cell_type": "code",
   "execution_count": null,
   "id": "dd43f86c-dc95-4be0-ba4a-6c4314faa49e",
   "metadata": {},
   "outputs": [],
   "source": []
  },
  {
   "cell_type": "code",
   "execution_count": null,
   "id": "fa1387ff-0c9e-4e6d-bbdb-9f9f04b92e0a",
   "metadata": {},
   "outputs": [],
   "source": []
  },
  {
   "cell_type": "code",
   "execution_count": null,
   "id": "4ea2c338-ee80-4242-8f56-5a23afa6498b",
   "metadata": {},
   "outputs": [],
   "source": []
  },
  {
   "cell_type": "code",
   "execution_count": null,
   "id": "e2f79aa3-706d-4e84-b54b-d4a97d95f222",
   "metadata": {},
   "outputs": [],
   "source": []
  },
  {
   "cell_type": "code",
   "execution_count": null,
   "id": "309f77e8-9a37-430c-8955-0370c1296bc0",
   "metadata": {},
   "outputs": [],
   "source": []
  },
  {
   "cell_type": "code",
   "execution_count": null,
   "id": "7d0f0652-94ac-40a3-a22f-6a8f8fffc69d",
   "metadata": {},
   "outputs": [],
   "source": []
  },
  {
   "cell_type": "code",
   "execution_count": null,
   "id": "1aaa7937-313b-4c92-9ac8-adf78b9dcd13",
   "metadata": {},
   "outputs": [],
   "source": []
  },
  {
   "cell_type": "code",
   "execution_count": null,
   "id": "f88dee17-e5d3-43ff-ad88-f6730b3580cb",
   "metadata": {},
   "outputs": [],
   "source": []
  },
  {
   "cell_type": "code",
   "execution_count": null,
   "id": "5cf8964b-d12c-44ce-850c-a6182912263a",
   "metadata": {},
   "outputs": [],
   "source": []
  },
  {
   "cell_type": "code",
   "execution_count": null,
   "id": "9914f2a2-483d-4643-8c29-e2e40dc2186c",
   "metadata": {},
   "outputs": [],
   "source": []
  },
  {
   "cell_type": "code",
   "execution_count": null,
   "id": "69bfc4c7-8da6-47bd-b21f-1efa7883655c",
   "metadata": {},
   "outputs": [],
   "source": []
  },
  {
   "cell_type": "code",
   "execution_count": null,
   "id": "6d1e193e-cc19-4549-98bf-1385fd278f49",
   "metadata": {},
   "outputs": [],
   "source": []
  },
  {
   "cell_type": "code",
   "execution_count": null,
   "id": "9843ff43-7c5c-4ef3-a19f-717cde021108",
   "metadata": {},
   "outputs": [],
   "source": []
  },
  {
   "cell_type": "code",
   "execution_count": null,
   "id": "0cfd4dd6-72f7-4543-a789-1c5f6781e13c",
   "metadata": {},
   "outputs": [],
   "source": []
  },
  {
   "cell_type": "code",
   "execution_count": null,
   "id": "e0bcfd95-5f16-4c61-b4e0-9cd3bd0ba300",
   "metadata": {},
   "outputs": [],
   "source": []
  },
  {
   "cell_type": "code",
   "execution_count": null,
   "id": "322d195f-f7d8-4bff-ac3c-de7baf5ef58d",
   "metadata": {},
   "outputs": [],
   "source": []
  },
  {
   "cell_type": "code",
   "execution_count": null,
   "id": "a42b7e22-0fed-4d88-8e10-93393812aef8",
   "metadata": {},
   "outputs": [],
   "source": []
  },
  {
   "cell_type": "code",
   "execution_count": null,
   "id": "8159de2e-9a1b-4fa9-abf1-e45f445eebf2",
   "metadata": {},
   "outputs": [],
   "source": []
  },
  {
   "cell_type": "code",
   "execution_count": null,
   "id": "cea37ef7-eb71-49c8-a7c6-0e2c4740ee8b",
   "metadata": {},
   "outputs": [],
   "source": []
  },
  {
   "cell_type": "code",
   "execution_count": null,
   "id": "19bf98a6-ab32-448c-8340-b2fb22f28698",
   "metadata": {},
   "outputs": [],
   "source": []
  },
  {
   "cell_type": "code",
   "execution_count": null,
   "id": "72ac6bf3-9199-4fe0-beb5-bc94dc72bafd",
   "metadata": {},
   "outputs": [],
   "source": []
  },
  {
   "cell_type": "code",
   "execution_count": null,
   "id": "d3b187e7-3e08-4143-b541-b4a2b53cb09b",
   "metadata": {},
   "outputs": [],
   "source": []
  },
  {
   "cell_type": "code",
   "execution_count": null,
   "id": "49931fdf-53ec-4a7e-8153-609ebf42cd1f",
   "metadata": {},
   "outputs": [],
   "source": []
  },
  {
   "cell_type": "code",
   "execution_count": null,
   "id": "c37e25f4-f63e-4b4e-93de-0c8c7d199020",
   "metadata": {},
   "outputs": [],
   "source": []
  },
  {
   "cell_type": "code",
   "execution_count": null,
   "id": "36c0cc14-c810-40f6-84a0-8b30c25b3afc",
   "metadata": {},
   "outputs": [],
   "source": []
  },
  {
   "cell_type": "code",
   "execution_count": null,
   "id": "1d4b359a-535c-43a2-8d3b-355c40272eb3",
   "metadata": {},
   "outputs": [],
   "source": []
  },
  {
   "cell_type": "code",
   "execution_count": null,
   "id": "3783da96-79ef-4fd5-896e-bbcc3fd6786d",
   "metadata": {},
   "outputs": [],
   "source": []
  },
  {
   "cell_type": "code",
   "execution_count": null,
   "id": "ef081661-dbf0-422f-9bf8-325d78cf3e21",
   "metadata": {},
   "outputs": [],
   "source": []
  },
  {
   "cell_type": "code",
   "execution_count": null,
   "id": "94743f4e-58ed-4be9-aa4d-401a4389f673",
   "metadata": {},
   "outputs": [],
   "source": []
  },
  {
   "cell_type": "code",
   "execution_count": null,
   "id": "e066c69e-796d-409d-9984-611e211d50b4",
   "metadata": {},
   "outputs": [],
   "source": []
  },
  {
   "cell_type": "code",
   "execution_count": null,
   "id": "0509ee04-2e68-46ca-b60d-c17a15fa8a2c",
   "metadata": {},
   "outputs": [],
   "source": []
  },
  {
   "cell_type": "code",
   "execution_count": null,
   "id": "b4c60deb-89ab-4684-a3fa-44b25ba07719",
   "metadata": {},
   "outputs": [],
   "source": []
  },
  {
   "cell_type": "code",
   "execution_count": null,
   "id": "ccd77db6-9ace-4a2e-ba8e-05f7bee48a2b",
   "metadata": {},
   "outputs": [],
   "source": []
  },
  {
   "cell_type": "code",
   "execution_count": null,
   "id": "077c8e7d-4395-430e-be45-11e6a28cf7af",
   "metadata": {},
   "outputs": [],
   "source": []
  },
  {
   "cell_type": "code",
   "execution_count": null,
   "id": "07c3847d-1972-4a92-855b-2ac79d50c727",
   "metadata": {},
   "outputs": [],
   "source": []
  },
  {
   "cell_type": "code",
   "execution_count": null,
   "id": "4e4e6c86-3ba5-4ec2-91cb-4450c69e39b0",
   "metadata": {},
   "outputs": [],
   "source": []
  }
 ],
 "metadata": {
  "kernelspec": {
   "display_name": "Python 3 (ipykernel)",
   "language": "python",
   "name": "python3"
  },
  "language_info": {
   "codemirror_mode": {
    "name": "ipython",
    "version": 3
   },
   "file_extension": ".py",
   "mimetype": "text/x-python",
   "name": "python",
   "nbconvert_exporter": "python",
   "pygments_lexer": "ipython3",
   "version": "3.11.7"
  }
 },
 "nbformat": 4,
 "nbformat_minor": 5
}
